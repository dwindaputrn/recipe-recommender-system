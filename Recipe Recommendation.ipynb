{
 "cells": [
  {
   "cell_type": "markdown",
   "id": "9bd22d81",
   "metadata": {},
   "source": [
    "# Importing The Dependencies"
   ]
  },
  {
   "cell_type": "code",
   "execution_count": 1,
   "id": "9267575e",
   "metadata": {},
   "outputs": [],
   "source": [
    "import numpy as np\n",
    "import pandas as pd\n",
    "import difflib\n",
    "from sklearn.feature_extraction.text import TfidfVectorizer\n",
    "from sklearn.metrics.pairwise import cosine_similarity\n",
    "import string \n",
    "import re\n",
    "import nltk\n",
    "from nltk.tokenize import word_tokenize \n",
    "from nltk.probability import FreqDist\n",
    "from nltk.corpus import stopwords\n",
    "import pickle\n",
    "import swifter"
   ]
  },
  {
   "cell_type": "markdown",
   "id": "b4c53b1d",
   "metadata": {},
   "source": [
    "# Load Dataset"
   ]
  },
  {
   "cell_type": "code",
   "execution_count": 2,
   "id": "bb390225",
   "metadata": {},
   "outputs": [
    {
     "data": {
      "text/html": [
       "<div>\n",
       "<style scoped>\n",
       "    .dataframe tbody tr th:only-of-type {\n",
       "        vertical-align: middle;\n",
       "    }\n",
       "\n",
       "    .dataframe tbody tr th {\n",
       "        vertical-align: top;\n",
       "    }\n",
       "\n",
       "    .dataframe thead th {\n",
       "        text-align: right;\n",
       "    }\n",
       "</style>\n",
       "<table border=\"1\" class=\"dataframe\">\n",
       "  <thead>\n",
       "    <tr style=\"text-align: right;\">\n",
       "      <th></th>\n",
       "      <th>category</th>\n",
       "      <th>cooking_method</th>\n",
       "      <th>cuisine</th>\n",
       "      <th>image</th>\n",
       "      <th>ingredients</th>\n",
       "      <th>prep_time</th>\n",
       "      <th>recipe_name</th>\n",
       "      <th>serves</th>\n",
       "      <th>tags</th>\n",
       "    </tr>\n",
       "  </thead>\n",
       "  <tbody>\n",
       "    <tr>\n",
       "      <th>0</th>\n",
       "      <td>NaN</td>\n",
       "      <td>['Set the racks in the middle and upper thirds...</td>\n",
       "      <td>['American']</td>\n",
       "      <td>https://www.skinnytaste.com/wp-content/uploads...</td>\n",
       "      <td>['1 tablespoons extra virgin olive oil', '1 cu...</td>\n",
       "      <td>20 minutes</td>\n",
       "      <td>Mediterranean Sea Bass</td>\n",
       "      <td>4 servings</td>\n",
       "      <td>Dairy Free, Gluten Free, Keto Recipes, Kid Fri...</td>\n",
       "    </tr>\n",
       "    <tr>\n",
       "      <th>1</th>\n",
       "      <td>NaN</td>\n",
       "      <td>['Place the eggs in the air fryer basket and c...</td>\n",
       "      <td>['American']</td>\n",
       "      <td>https://www.skinnytaste.com/wp-content/uploads...</td>\n",
       "      <td>['4 large eggs', 'Salt (black pepper, everythi...</td>\n",
       "      <td>15 minutes</td>\n",
       "      <td>Air Fryer Hard Boiled Eggs</td>\n",
       "      <td>4 eggs</td>\n",
       "      <td>Air Fryer Recipes, Dairy Free, Gluten Free, Ke...</td>\n",
       "    </tr>\n",
       "    <tr>\n",
       "      <th>2</th>\n",
       "      <td>NaN</td>\n",
       "      <td>['Air Fryer directions:', 'Preheat air fryer t...</td>\n",
       "      <td>['American']</td>\n",
       "      <td>https://www.skinnytaste.com/wp-content/uploads...</td>\n",
       "      <td>['olive oil spray', '4 about 5 ounce each salm...</td>\n",
       "      <td>5 minutes</td>\n",
       "      <td>Air Fryer Basil-Parmesan Salmon</td>\n",
       "      <td>4 servings</td>\n",
       "      <td>Air Fryer Recipes, Gluten Free, Keto Recipes, ...</td>\n",
       "    </tr>\n",
       "    <tr>\n",
       "      <th>3</th>\n",
       "      <td>NaN</td>\n",
       "      <td>['Preheat the oven to 400F.', 'Pour 2 tablespo...</td>\n",
       "      <td>['American']</td>\n",
       "      <td>https://www.skinnytaste.com/wp-content/uploads...</td>\n",
       "      <td>['1/2 cup freshly grated Parmesan (not pre-gra...</td>\n",
       "      <td>15 minutes</td>\n",
       "      <td>Everything Parmesan Crisps</td>\n",
       "      <td>4 servings</td>\n",
       "      <td>Gluten Free, Keto Recipes, Kid Friendly, Low C...</td>\n",
       "    </tr>\n",
       "    <tr>\n",
       "      <th>4</th>\n",
       "      <td>NaN</td>\n",
       "      <td>['Cook potatoes in a large pot of salted water...</td>\n",
       "      <td>['American']</td>\n",
       "      <td>https://www.skinnytaste.com/wp-content/uploads...</td>\n",
       "      <td>['3 1/2 pounds new potatoes (about 10 peeled a...</td>\n",
       "      <td>10 minutes</td>\n",
       "      <td>Potato and Green Bean Salad</td>\n",
       "      <td>12 servings</td>\n",
       "      <td>Dairy Free, Gluten Free, Kid Friendly, Vegetar...</td>\n",
       "    </tr>\n",
       "  </tbody>\n",
       "</table>\n",
       "</div>"
      ],
      "text/plain": [
       "  category                                     cooking_method       cuisine  \\\n",
       "0      NaN  ['Set the racks in the middle and upper thirds...  ['American']   \n",
       "1      NaN  ['Place the eggs in the air fryer basket and c...  ['American']   \n",
       "2      NaN  ['Air Fryer directions:', 'Preheat air fryer t...  ['American']   \n",
       "3      NaN  ['Preheat the oven to 400F.', 'Pour 2 tablespo...  ['American']   \n",
       "4      NaN  ['Cook potatoes in a large pot of salted water...  ['American']   \n",
       "\n",
       "                                               image  \\\n",
       "0  https://www.skinnytaste.com/wp-content/uploads...   \n",
       "1  https://www.skinnytaste.com/wp-content/uploads...   \n",
       "2  https://www.skinnytaste.com/wp-content/uploads...   \n",
       "3  https://www.skinnytaste.com/wp-content/uploads...   \n",
       "4  https://www.skinnytaste.com/wp-content/uploads...   \n",
       "\n",
       "                                         ingredients   prep_time  \\\n",
       "0  ['1 tablespoons extra virgin olive oil', '1 cu...  20 minutes   \n",
       "1  ['4 large eggs', 'Salt (black pepper, everythi...  15 minutes   \n",
       "2  ['olive oil spray', '4 about 5 ounce each salm...   5 minutes   \n",
       "3  ['1/2 cup freshly grated Parmesan (not pre-gra...  15 minutes   \n",
       "4  ['3 1/2 pounds new potatoes (about 10 peeled a...  10 minutes   \n",
       "\n",
       "                       recipe_name       serves  \\\n",
       "0           Mediterranean Sea Bass   4 servings   \n",
       "1       Air Fryer Hard Boiled Eggs       4 eggs   \n",
       "2  Air Fryer Basil-Parmesan Salmon   4 servings   \n",
       "3       Everything Parmesan Crisps   4 servings   \n",
       "4      Potato and Green Bean Salad  12 servings   \n",
       "\n",
       "                                                tags  \n",
       "0  Dairy Free, Gluten Free, Keto Recipes, Kid Fri...  \n",
       "1  Air Fryer Recipes, Dairy Free, Gluten Free, Ke...  \n",
       "2  Air Fryer Recipes, Gluten Free, Keto Recipes, ...  \n",
       "3  Gluten Free, Keto Recipes, Kid Friendly, Low C...  \n",
       "4  Dairy Free, Gluten Free, Kid Friendly, Vegetar...  "
      ]
     },
     "execution_count": 2,
     "metadata": {},
     "output_type": "execute_result"
    }
   ],
   "source": [
    "df = pd.read_csv(\"recipes_82k.csv\")\n",
    "df.head()"
   ]
  },
  {
   "cell_type": "code",
   "execution_count": 3,
   "id": "4dc0df5c",
   "metadata": {},
   "outputs": [
    {
     "data": {
      "text/plain": [
       "(82245, 9)"
      ]
     },
     "execution_count": 3,
     "metadata": {},
     "output_type": "execute_result"
    }
   ],
   "source": [
    "# number of rows and columns in the data frame\n",
    "df.shape"
   ]
  },
  {
   "cell_type": "markdown",
   "id": "8dd9ad00",
   "metadata": {},
   "source": [
    "# Pre-Processing"
   ]
  },
  {
   "cell_type": "markdown",
   "id": "e5eeee26",
   "metadata": {},
   "source": [
    "## Dimension reduction dataset"
   ]
  },
  {
   "cell_type": "code",
   "execution_count": 4,
   "id": "771db7f6",
   "metadata": {},
   "outputs": [
    {
     "data": {
      "text/plain": [
       "array([\"['American']\", nan, \"['Italian']\", \"['Mexican']\",\n",
       "       \"['Chinese', 'Japanese']\", \"['Indian']\", \"['American', 'Mexican']\",\n",
       "       \"['American', 'Italian']\", \"['Asian', 'Hawaiian']\",\n",
       "       \"['Mediterranean']\", \"['American', 'Latin']\",\n",
       "       \"['American', 'Czech', 'Hungarian']\",\n",
       "       \"['American', 'Cuban', 'Latin']\", \"['Latin']\",\n",
       "       \"['Latin', 'Mexican']\", \"['Asian']\", \"['American', 'Argentinian']\",\n",
       "       \"['American', 'Greek']\", \"['American', 'Tex Mex']\", \"['Tex Mex']\",\n",
       "       \"['Cuban', 'Latin']\", \"['Asian', 'Chinese']\", \"['Brazilian']\",\n",
       "       '[]'], dtype=object)"
      ]
     },
     "execution_count": 4,
     "metadata": {},
     "output_type": "execute_result"
    }
   ],
   "source": [
    "df['cuisine'].unique()"
   ]
  },
  {
   "cell_type": "code",
   "execution_count": 5,
   "id": "c031e5dd",
   "metadata": {},
   "outputs": [
    {
     "data": {
      "text/html": [
       "<div>\n",
       "<style scoped>\n",
       "    .dataframe tbody tr th:only-of-type {\n",
       "        vertical-align: middle;\n",
       "    }\n",
       "\n",
       "    .dataframe tbody tr th {\n",
       "        vertical-align: top;\n",
       "    }\n",
       "\n",
       "    .dataframe thead th {\n",
       "        text-align: right;\n",
       "    }\n",
       "</style>\n",
       "<table border=\"1\" class=\"dataframe\">\n",
       "  <thead>\n",
       "    <tr style=\"text-align: right;\">\n",
       "      <th></th>\n",
       "      <th>category</th>\n",
       "      <th>cooking_method</th>\n",
       "      <th>cuisine</th>\n",
       "      <th>image</th>\n",
       "      <th>ingredients</th>\n",
       "      <th>prep_time</th>\n",
       "      <th>recipe_name</th>\n",
       "      <th>serves</th>\n",
       "      <th>tags</th>\n",
       "    </tr>\n",
       "  </thead>\n",
       "  <tbody>\n",
       "    <tr>\n",
       "      <th>0</th>\n",
       "      <td>NaN</td>\n",
       "      <td>['Set the racks in the middle and upper thirds...</td>\n",
       "      <td>['American']</td>\n",
       "      <td>https://www.skinnytaste.com/wp-content/uploads...</td>\n",
       "      <td>['1 tablespoons extra virgin olive oil', '1 cu...</td>\n",
       "      <td>20 minutes</td>\n",
       "      <td>Mediterranean Sea Bass</td>\n",
       "      <td>4 servings</td>\n",
       "      <td>Dairy Free, Gluten Free, Keto Recipes, Kid Fri...</td>\n",
       "    </tr>\n",
       "    <tr>\n",
       "      <th>1</th>\n",
       "      <td>NaN</td>\n",
       "      <td>['Place the eggs in the air fryer basket and c...</td>\n",
       "      <td>['American']</td>\n",
       "      <td>https://www.skinnytaste.com/wp-content/uploads...</td>\n",
       "      <td>['4 large eggs', 'Salt (black pepper, everythi...</td>\n",
       "      <td>15 minutes</td>\n",
       "      <td>Air Fryer Hard Boiled Eggs</td>\n",
       "      <td>4 eggs</td>\n",
       "      <td>Air Fryer Recipes, Dairy Free, Gluten Free, Ke...</td>\n",
       "    </tr>\n",
       "    <tr>\n",
       "      <th>2</th>\n",
       "      <td>NaN</td>\n",
       "      <td>['Air Fryer directions:', 'Preheat air fryer t...</td>\n",
       "      <td>['American']</td>\n",
       "      <td>https://www.skinnytaste.com/wp-content/uploads...</td>\n",
       "      <td>['olive oil spray', '4 about 5 ounce each salm...</td>\n",
       "      <td>5 minutes</td>\n",
       "      <td>Air Fryer Basil-Parmesan Salmon</td>\n",
       "      <td>4 servings</td>\n",
       "      <td>Air Fryer Recipes, Gluten Free, Keto Recipes, ...</td>\n",
       "    </tr>\n",
       "    <tr>\n",
       "      <th>3</th>\n",
       "      <td>NaN</td>\n",
       "      <td>['Preheat the oven to 400F.', 'Pour 2 tablespo...</td>\n",
       "      <td>['American']</td>\n",
       "      <td>https://www.skinnytaste.com/wp-content/uploads...</td>\n",
       "      <td>['1/2 cup freshly grated Parmesan (not pre-gra...</td>\n",
       "      <td>15 minutes</td>\n",
       "      <td>Everything Parmesan Crisps</td>\n",
       "      <td>4 servings</td>\n",
       "      <td>Gluten Free, Keto Recipes, Kid Friendly, Low C...</td>\n",
       "    </tr>\n",
       "    <tr>\n",
       "      <th>4</th>\n",
       "      <td>NaN</td>\n",
       "      <td>['Cook potatoes in a large pot of salted water...</td>\n",
       "      <td>['American']</td>\n",
       "      <td>https://www.skinnytaste.com/wp-content/uploads...</td>\n",
       "      <td>['3 1/2 pounds new potatoes (about 10 peeled a...</td>\n",
       "      <td>10 minutes</td>\n",
       "      <td>Potato and Green Bean Salad</td>\n",
       "      <td>12 servings</td>\n",
       "      <td>Dairy Free, Gluten Free, Kid Friendly, Vegetar...</td>\n",
       "    </tr>\n",
       "    <tr>\n",
       "      <th>...</th>\n",
       "      <td>...</td>\n",
       "      <td>...</td>\n",
       "      <td>...</td>\n",
       "      <td>...</td>\n",
       "      <td>...</td>\n",
       "      <td>...</td>\n",
       "      <td>...</td>\n",
       "      <td>...</td>\n",
       "      <td>...</td>\n",
       "    </tr>\n",
       "    <tr>\n",
       "      <th>1393</th>\n",
       "      <td>NaN</td>\n",
       "      <td>['Brown meat on high heat in large saute pan a...</td>\n",
       "      <td>['American']</td>\n",
       "      <td>https://www.skinnytaste.com/wp-content/uploads...</td>\n",
       "      <td>['1/2 large chopped onion', '2 cloves garlic (...</td>\n",
       "      <td>30 minutes</td>\n",
       "      <td>Cuban Picadillo</td>\n",
       "      <td>6 Servings</td>\n",
       "      <td>Dairy Free, Freezer Meals, Gluten Free, Keto R...</td>\n",
       "    </tr>\n",
       "    <tr>\n",
       "      <th>1394</th>\n",
       "      <td>NaN</td>\n",
       "      <td>['In a 5 quart saucepan, add all ingredients.'...</td>\n",
       "      <td>['American']</td>\n",
       "      <td>https://www.skinnytaste.com/wp-content/uploads...</td>\n",
       "      <td>['1 large head cauliflower - chopped', '1/2 cu...</td>\n",
       "      <td>5 minutes</td>\n",
       "      <td>Dad's Cauliflower Soup</td>\n",
       "      <td>6 servings</td>\n",
       "      <td>Dairy Free, Freezer Meals, Gluten Free, Kid Fr...</td>\n",
       "    </tr>\n",
       "    <tr>\n",
       "      <th>1395</th>\n",
       "      <td>NaN</td>\n",
       "      <td>['Soak bean over night. Discard water.', 'In a...</td>\n",
       "      <td>['Brazilian']</td>\n",
       "      <td>https://www.skinnytaste.com/wp-content/uploads...</td>\n",
       "      <td>['Ingredients:', '1 smoked ham hock (or smoked...</td>\n",
       "      <td>15 minutes</td>\n",
       "      <td>Brazilian Black Beans</td>\n",
       "      <td>8 servings</td>\n",
       "      <td>Freezer Meals, Gluten Free, Pressure Cooker Re...</td>\n",
       "    </tr>\n",
       "    <tr>\n",
       "      <th>1396</th>\n",
       "      <td>NaN</td>\n",
       "      <td>['Preheat broiler.', 'Line broiling pan with a...</td>\n",
       "      <td>['American']</td>\n",
       "      <td>https://www.skinnytaste.com/wp-content/uploads...</td>\n",
       "      <td>['1 tbsp finely chopped fresh oregano or 1 tsp...</td>\n",
       "      <td>NaN</td>\n",
       "      <td>Broiled Tilapia Oreganata</td>\n",
       "      <td>4 servings</td>\n",
       "      <td>Kid Friendly, Low Carb</td>\n",
       "    </tr>\n",
       "    <tr>\n",
       "      <th>1397</th>\n",
       "      <td>NaN</td>\n",
       "      <td>['Wash the peas and drain.', 'In a large pot o...</td>\n",
       "      <td>['American']</td>\n",
       "      <td>https://www.skinnytaste.com/wp-content/uploads...</td>\n",
       "      <td>['16 ounce bag of dried split peas', '2 teaspo...</td>\n",
       "      <td>5 minutes</td>\n",
       "      <td>Split Pea Soup with Ham</td>\n",
       "      <td>6 servings</td>\n",
       "      <td>Dairy Free, Freezer Meals, Gluten Free, Kid Fr...</td>\n",
       "    </tr>\n",
       "  </tbody>\n",
       "</table>\n",
       "<p>1383 rows × 9 columns</p>\n",
       "</div>"
      ],
      "text/plain": [
       "     category                                     cooking_method  \\\n",
       "0         NaN  ['Set the racks in the middle and upper thirds...   \n",
       "1         NaN  ['Place the eggs in the air fryer basket and c...   \n",
       "2         NaN  ['Air Fryer directions:', 'Preheat air fryer t...   \n",
       "3         NaN  ['Preheat the oven to 400F.', 'Pour 2 tablespo...   \n",
       "4         NaN  ['Cook potatoes in a large pot of salted water...   \n",
       "...       ...                                                ...   \n",
       "1393      NaN  ['Brown meat on high heat in large saute pan a...   \n",
       "1394      NaN  ['In a 5 quart saucepan, add all ingredients.'...   \n",
       "1395      NaN  ['Soak bean over night. Discard water.', 'In a...   \n",
       "1396      NaN  ['Preheat broiler.', 'Line broiling pan with a...   \n",
       "1397      NaN  ['Wash the peas and drain.', 'In a large pot o...   \n",
       "\n",
       "            cuisine                                              image  \\\n",
       "0      ['American']  https://www.skinnytaste.com/wp-content/uploads...   \n",
       "1      ['American']  https://www.skinnytaste.com/wp-content/uploads...   \n",
       "2      ['American']  https://www.skinnytaste.com/wp-content/uploads...   \n",
       "3      ['American']  https://www.skinnytaste.com/wp-content/uploads...   \n",
       "4      ['American']  https://www.skinnytaste.com/wp-content/uploads...   \n",
       "...             ...                                                ...   \n",
       "1393   ['American']  https://www.skinnytaste.com/wp-content/uploads...   \n",
       "1394   ['American']  https://www.skinnytaste.com/wp-content/uploads...   \n",
       "1395  ['Brazilian']  https://www.skinnytaste.com/wp-content/uploads...   \n",
       "1396   ['American']  https://www.skinnytaste.com/wp-content/uploads...   \n",
       "1397   ['American']  https://www.skinnytaste.com/wp-content/uploads...   \n",
       "\n",
       "                                            ingredients   prep_time  \\\n",
       "0     ['1 tablespoons extra virgin olive oil', '1 cu...  20 minutes   \n",
       "1     ['4 large eggs', 'Salt (black pepper, everythi...  15 minutes   \n",
       "2     ['olive oil spray', '4 about 5 ounce each salm...   5 minutes   \n",
       "3     ['1/2 cup freshly grated Parmesan (not pre-gra...  15 minutes   \n",
       "4     ['3 1/2 pounds new potatoes (about 10 peeled a...  10 minutes   \n",
       "...                                                 ...         ...   \n",
       "1393  ['1/2 large chopped onion', '2 cloves garlic (...  30 minutes   \n",
       "1394  ['1 large head cauliflower - chopped', '1/2 cu...   5 minutes   \n",
       "1395  ['Ingredients:', '1 smoked ham hock (or smoked...  15 minutes   \n",
       "1396  ['1 tbsp finely chopped fresh oregano or 1 tsp...         NaN   \n",
       "1397  ['16 ounce bag of dried split peas', '2 teaspo...   5 minutes   \n",
       "\n",
       "                          recipe_name       serves  \\\n",
       "0              Mediterranean Sea Bass   4 servings   \n",
       "1          Air Fryer Hard Boiled Eggs       4 eggs   \n",
       "2     Air Fryer Basil-Parmesan Salmon   4 servings   \n",
       "3          Everything Parmesan Crisps   4 servings   \n",
       "4         Potato and Green Bean Salad  12 servings   \n",
       "...                               ...          ...   \n",
       "1393                  Cuban Picadillo   6 Servings   \n",
       "1394           Dad's Cauliflower Soup   6 servings   \n",
       "1395            Brazilian Black Beans   8 servings   \n",
       "1396       Broiled Tilapia Oreganata    4 servings   \n",
       "1397          Split Pea Soup with Ham   6 servings   \n",
       "\n",
       "                                                   tags  \n",
       "0     Dairy Free, Gluten Free, Keto Recipes, Kid Fri...  \n",
       "1     Air Fryer Recipes, Dairy Free, Gluten Free, Ke...  \n",
       "2     Air Fryer Recipes, Gluten Free, Keto Recipes, ...  \n",
       "3     Gluten Free, Keto Recipes, Kid Friendly, Low C...  \n",
       "4     Dairy Free, Gluten Free, Kid Friendly, Vegetar...  \n",
       "...                                                 ...  \n",
       "1393  Dairy Free, Freezer Meals, Gluten Free, Keto R...  \n",
       "1394  Dairy Free, Freezer Meals, Gluten Free, Kid Fr...  \n",
       "1395  Freezer Meals, Gluten Free, Pressure Cooker Re...  \n",
       "1396                             Kid Friendly, Low Carb  \n",
       "1397  Dairy Free, Freezer Meals, Gluten Free, Kid Fr...  \n",
       "\n",
       "[1383 rows x 9 columns]"
      ]
     },
     "execution_count": 5,
     "metadata": {},
     "output_type": "execute_result"
    }
   ],
   "source": [
    "df2 = df.loc[(df[\"cuisine\"].isin([\"['American']\", \"['Italian']\", \"['Mexican']\",\n",
    "       \"['Chinese', 'Japanese']\", \"['Indian']\", \"['American', 'Mexican']\",\n",
    "       \"['American', 'Italian']\", \"['Asian', 'Hawaiian']\",\n",
    "       \"['Mediterranean']\", \"['American', 'Latin']\",\n",
    "       \"['American', 'Czech', 'Hungarian']\",\n",
    "       \"['American', 'Cuban', 'Latin']\", \"['Latin']\",\n",
    "       \"['Latin', 'Mexican']\", \"['Asian']\", \"['American', 'Argentinian']\",\n",
    "       \"['American', 'Greek']\", \"['American', 'Tex Mex']\", \"['Tex Mex']\",\n",
    "       \"['Cuban', 'Latin']\", \"['Asian', 'Chinese']\", \"['Brazilian']\"]))]\n",
    "df2"
   ]
  },
  {
   "cell_type": "code",
   "execution_count": 6,
   "id": "e7e75e13",
   "metadata": {},
   "outputs": [
    {
     "data": {
      "text/html": [
       "<div>\n",
       "<style scoped>\n",
       "    .dataframe tbody tr th:only-of-type {\n",
       "        vertical-align: middle;\n",
       "    }\n",
       "\n",
       "    .dataframe tbody tr th {\n",
       "        vertical-align: top;\n",
       "    }\n",
       "\n",
       "    .dataframe thead th {\n",
       "        text-align: right;\n",
       "    }\n",
       "</style>\n",
       "<table border=\"1\" class=\"dataframe\">\n",
       "  <thead>\n",
       "    <tr style=\"text-align: right;\">\n",
       "      <th></th>\n",
       "      <th>cooking_method</th>\n",
       "      <th>image</th>\n",
       "      <th>ingredients</th>\n",
       "      <th>recipe_name</th>\n",
       "    </tr>\n",
       "  </thead>\n",
       "  <tbody>\n",
       "    <tr>\n",
       "      <th>0</th>\n",
       "      <td>['Set the racks in the middle and upper thirds...</td>\n",
       "      <td>https://www.skinnytaste.com/wp-content/uploads...</td>\n",
       "      <td>['1 tablespoons extra virgin olive oil', '1 cu...</td>\n",
       "      <td>Mediterranean Sea Bass</td>\n",
       "    </tr>\n",
       "    <tr>\n",
       "      <th>1</th>\n",
       "      <td>['Place the eggs in the air fryer basket and c...</td>\n",
       "      <td>https://www.skinnytaste.com/wp-content/uploads...</td>\n",
       "      <td>['4 large eggs', 'Salt (black pepper, everythi...</td>\n",
       "      <td>Air Fryer Hard Boiled Eggs</td>\n",
       "    </tr>\n",
       "    <tr>\n",
       "      <th>2</th>\n",
       "      <td>['Air Fryer directions:', 'Preheat air fryer t...</td>\n",
       "      <td>https://www.skinnytaste.com/wp-content/uploads...</td>\n",
       "      <td>['olive oil spray', '4 about 5 ounce each salm...</td>\n",
       "      <td>Air Fryer Basil-Parmesan Salmon</td>\n",
       "    </tr>\n",
       "    <tr>\n",
       "      <th>3</th>\n",
       "      <td>['Preheat the oven to 400F.', 'Pour 2 tablespo...</td>\n",
       "      <td>https://www.skinnytaste.com/wp-content/uploads...</td>\n",
       "      <td>['1/2 cup freshly grated Parmesan (not pre-gra...</td>\n",
       "      <td>Everything Parmesan Crisps</td>\n",
       "    </tr>\n",
       "    <tr>\n",
       "      <th>4</th>\n",
       "      <td>['Cook potatoes in a large pot of salted water...</td>\n",
       "      <td>https://www.skinnytaste.com/wp-content/uploads...</td>\n",
       "      <td>['3 1/2 pounds new potatoes (about 10 peeled a...</td>\n",
       "      <td>Potato and Green Bean Salad</td>\n",
       "    </tr>\n",
       "  </tbody>\n",
       "</table>\n",
       "</div>"
      ],
      "text/plain": [
       "                                      cooking_method  \\\n",
       "0  ['Set the racks in the middle and upper thirds...   \n",
       "1  ['Place the eggs in the air fryer basket and c...   \n",
       "2  ['Air Fryer directions:', 'Preheat air fryer t...   \n",
       "3  ['Preheat the oven to 400F.', 'Pour 2 tablespo...   \n",
       "4  ['Cook potatoes in a large pot of salted water...   \n",
       "\n",
       "                                               image  \\\n",
       "0  https://www.skinnytaste.com/wp-content/uploads...   \n",
       "1  https://www.skinnytaste.com/wp-content/uploads...   \n",
       "2  https://www.skinnytaste.com/wp-content/uploads...   \n",
       "3  https://www.skinnytaste.com/wp-content/uploads...   \n",
       "4  https://www.skinnytaste.com/wp-content/uploads...   \n",
       "\n",
       "                                         ingredients  \\\n",
       "0  ['1 tablespoons extra virgin olive oil', '1 cu...   \n",
       "1  ['4 large eggs', 'Salt (black pepper, everythi...   \n",
       "2  ['olive oil spray', '4 about 5 ounce each salm...   \n",
       "3  ['1/2 cup freshly grated Parmesan (not pre-gra...   \n",
       "4  ['3 1/2 pounds new potatoes (about 10 peeled a...   \n",
       "\n",
       "                       recipe_name  \n",
       "0           Mediterranean Sea Bass  \n",
       "1       Air Fryer Hard Boiled Eggs  \n",
       "2  Air Fryer Basil-Parmesan Salmon  \n",
       "3       Everything Parmesan Crisps  \n",
       "4      Potato and Green Bean Salad  "
      ]
     },
     "execution_count": 6,
     "metadata": {},
     "output_type": "execute_result"
    }
   ],
   "source": [
    "df2 = df2.drop(columns=['category', 'cuisine', 'prep_time', 'serves', 'tags'])\n",
    "df2.head()"
   ]
  },
  {
   "cell_type": "markdown",
   "id": "07f2993b",
   "metadata": {},
   "source": [
    "## Case Folding"
   ]
  },
  {
   "cell_type": "code",
   "execution_count": 15,
   "id": "e426d9f1",
   "metadata": {},
   "outputs": [
    {
     "name": "stdout",
     "output_type": "stream",
     "text": [
      "Case Folding Result : \n",
      "\n",
      "0    ['1 tablespoons extra virgin olive oil', '1 cu...\n",
      "1    ['4 large eggs', 'salt (black pepper, everythi...\n",
      "2    ['olive oil spray', '4 about 5 ounce each salm...\n",
      "3    ['1/2 cup freshly grated parmesan (not pre-gra...\n",
      "4    ['3 1/2 pounds new potatoes (about 10 peeled a...\n",
      "Name: ingredients, dtype: object\n",
      "\n",
      "\n",
      "\n",
      "\n"
     ]
    }
   ],
   "source": [
    "# lower ingredients\n",
    "ing = df2.ingredients.str.lower()\n",
    "\n",
    "print('Case Folding Result : \\n')\n",
    "print(ing.head())\n",
    "print('\\n\\n\\n')"
   ]
  },
  {
   "cell_type": "markdown",
   "id": "ca23eb6b",
   "metadata": {},
   "source": [
    "## Remove Character"
   ]
  },
  {
   "cell_type": "code",
   "execution_count": 11,
   "id": "a65aa8f4",
   "metadata": {},
   "outputs": [
    {
     "name": "stdout",
     "output_type": "stream",
     "text": [
      "0       1 tablespoons extra virgin olive oil, 1 cup ch...\n",
      "1       4 large eggs, Salt (black pepper, everything b...\n",
      "2       olive oil spray, 4 about 5 ounce each salmon f...\n",
      "3       1/2 cup freshly grated Parmesan (not pre-grate...\n",
      "4       3 1/2 pounds new potatoes (about 10 peeled and...\n",
      "                              ...                        \n",
      "1393    1/2 large chopped onion, 2 cloves garlic (minc...\n",
      "1394    1 large head cauliflower - chopped, 1/2 cup ch...\n",
      "1395    Ingredients:, 1 smoked ham hock (or smoked por...\n",
      "1396    1 tbsp finely chopped fresh oregano or 1 tsp d...\n",
      "1397    16 ounce bag of dried split peas, 2 teaspoons ...\n",
      "Name: ingredients, Length: 1383, dtype: object\n"
     ]
    }
   ],
   "source": [
    "#Remove Character Ingredients\n",
    "ing2 = df2.ingredients.apply(str)\n",
    "\n",
    "def remove_character(data):\n",
    "    return re.sub(r\"'\", \"\", data)\n",
    "\n",
    "ing2 = ing2.apply(remove_character)\n",
    "\n",
    "def listToStringWithoutBrackets(data):\n",
    "    return str(data).replace('[','').replace(']','')\n",
    "\n",
    "ing2 = ing2.apply(listToStringWithoutBrackets)\n",
    "\n",
    "print(ing2)"
   ]
  },
  {
   "cell_type": "code",
   "execution_count": 12,
   "id": "a85e1fad",
   "metadata": {},
   "outputs": [
    {
     "name": "stdout",
     "output_type": "stream",
     "text": [
      "0       Set the racks in the middle and upper thirds o...\n",
      "1       Place the eggs in the air fryer basket and coo...\n",
      "2       Air Fryer directions:, Preheat air fryer to 40...\n",
      "3       Preheat the oven to 400F., Pour 2 tablespoon o...\n",
      "4       Cook potatoes in a large pot of salted water u...\n",
      "                              ...                        \n",
      "1393    Brown meat on high heat in large saute pan and...\n",
      "1394    In a 5 quart saucepan, add all ingredients., C...\n",
      "1395    Soak bean over night. Discard water., In a pre...\n",
      "1396    Preheat broiler., Line broiling pan with alumi...\n",
      "1397    Wash the peas and drain., In a large pot or Du...\n",
      "Name: cooking_method, Length: 1383, dtype: object\n"
     ]
    }
   ],
   "source": [
    "#Remove Character Ingredients\n",
    "cookmet = df2.cooking_method.apply(str)\n",
    "\n",
    "def remove_character2(data2):\n",
    "    return re.sub(r\"'\", \"\", data2)\n",
    "\n",
    "cookmet = cookmet.apply(remove_character2)\n",
    "\n",
    "def listToStringWithoutBrackets2(data2):\n",
    "    return str(data2).replace('[','').replace(']','')\n",
    "\n",
    "cookmet = cookmet.apply(listToStringWithoutBrackets2)\n",
    "\n",
    "print(cookmet)"
   ]
  },
  {
   "cell_type": "markdown",
   "id": "51925ca2",
   "metadata": {},
   "source": [
    "## Tokenizing"
   ]
  },
  {
   "cell_type": "code",
   "execution_count": 13,
   "id": "71073254",
   "metadata": {},
   "outputs": [
    {
     "name": "stderr",
     "output_type": "stream",
     "text": [
      "[nltk_data] Downloading package punkt to\n",
      "[nltk_data]     C:\\Users\\ASUS\\AppData\\Roaming\\nltk_data...\n",
      "[nltk_data]   Package punkt is already up-to-date!\n"
     ]
    },
    {
     "data": {
      "text/plain": [
       "True"
      ]
     },
     "execution_count": 13,
     "metadata": {},
     "output_type": "execute_result"
    }
   ],
   "source": [
    "nltk.download('punkt')"
   ]
  },
  {
   "cell_type": "code",
   "execution_count": 16,
   "id": "3374b3b7",
   "metadata": {},
   "outputs": [
    {
     "name": "stdout",
     "output_type": "stream",
     "text": [
      "Tokenizing Result : \n",
      "\n",
      "0    [tablespoons, extra, virgin, olive, oil, cup, ...\n",
      "1    [large, eggs, salt, black, pepper, everything,...\n",
      "2    [olive, oil, spray, about, ounce, each, salmon...\n",
      "3    [cup, freshly, grated, parmesan, not, pregrate...\n",
      "4    [pounds, new, potatoes, about, peeled, and, cu...\n",
      "Name: ingredients, dtype: object\n",
      "\n",
      "\n",
      "\n",
      "\n"
     ]
    }
   ],
   "source": [
    "def remove_tweet_special(text):\n",
    "    # remove tab, new line, ans back slice\n",
    "    text = text.replace('\\\\t',\" \").replace('\\\\n',\" \").replace('\\\\u',\" \").replace('\\\\',\"\")\n",
    "    # remove non ASCII (emoticon, chinese word, .etc)\n",
    "    text = text.encode('ascii', 'replace').decode('ascii')\n",
    "    # remove mention, link, hashtag\n",
    "    text = ' '.join(re.sub(\"([@#][A-Za-z0-9]+)|(\\w+:\\/\\/\\S+)\",\" \", text).split())\n",
    "    # remove incomplete URL\n",
    "    return text.replace(\"http://\", \" \").replace(\"https://\", \" \")\n",
    "                \n",
    "ing = ing.apply(remove_tweet_special)\n",
    "\n",
    "#remove number\n",
    "def remove_number(text):\n",
    "    return  re.sub(r\"\\d+\", \"\", text)\n",
    "\n",
    "ing = ing.apply(remove_number)\n",
    "\n",
    "#remove punctuation\n",
    "def remove_punctuation(text):\n",
    "    return text.translate(str.maketrans(\"\",\"\",string.punctuation))\n",
    "ing = ing.apply(remove_punctuation)\n",
    "\n",
    "#remove whitespace leading & trailing\n",
    "def remove_whitespace_LT(text):\n",
    "    return text.strip()\n",
    "\n",
    "ing = ing.apply(remove_whitespace_LT)\n",
    "\n",
    "#remove multiple whitespace into single whitespace\n",
    "def remove_whitespace_multiple(text):\n",
    "    return re.sub('\\s+',' ',text)\n",
    "\n",
    "ing = ing.apply(remove_whitespace_multiple)\n",
    "\n",
    "# remove single char\n",
    "def remove_singl_char(text):\n",
    "    return re.sub(r\"\\b[a-zA-Z]\\b\", \"\", text)\n",
    "\n",
    "ing = ing.apply(remove_singl_char)\n",
    "\n",
    "# NLTK word rokenize \n",
    "def word_tokenize_wrapper(text):\n",
    "    return word_tokenize(text)\n",
    "\n",
    "ing_tokens = ing.apply(word_tokenize_wrapper)\n",
    "\n",
    "print('Tokenizing Result : \\n') \n",
    "print(ing_tokens.head())\n",
    "print('\\n\\n\\n')"
   ]
  },
  {
   "cell_type": "code",
   "execution_count": 17,
   "id": "71df109d",
   "metadata": {
    "scrolled": true
   },
   "outputs": [
    {
     "name": "stdout",
     "output_type": "stream",
     "text": [
      "Frequency Tokens : \n",
      "\n",
      "0    [(cup, 5), (olive, 3), (oil, 3), (pepper, 3), ...\n",
      "1    [(large, 1), (eggs, 1), (salt, 1), (black, 1),...\n",
      "2    [(tablespoons, 2), (olive, 1), (oil, 1), (spra...\n",
      "3    [(teaspoon, 4), (seeds, 2), (minced, 2), (drie...\n",
      "4    [(and, 2), (beans, 2), (black, 2), (cup, 2), (...\n",
      "Name: ingredients, dtype: object\n"
     ]
    }
   ],
   "source": [
    "# NLTK calc frequency distribution\n",
    "def freqDist_wrapper(text):\n",
    "    return FreqDist(text)\n",
    "\n",
    "ing_tokens_fdist = ing_tokens.apply(freqDist_wrapper)\n",
    "\n",
    "print('Frequency Tokens : \\n') \n",
    "print(ing_tokens_fdist.head().apply(lambda x : x.most_common()))"
   ]
  },
  {
   "cell_type": "markdown",
   "id": "dc3f790e",
   "metadata": {},
   "source": [
    "## Filtering"
   ]
  },
  {
   "cell_type": "code",
   "execution_count": 18,
   "id": "579ace49",
   "metadata": {},
   "outputs": [
    {
     "name": "stderr",
     "output_type": "stream",
     "text": [
      "[nltk_data] Downloading package stopwords to\n",
      "[nltk_data]     C:\\Users\\ASUS\\AppData\\Roaming\\nltk_data...\n",
      "[nltk_data]   Package stopwords is already up-to-date!\n"
     ]
    },
    {
     "data": {
      "text/plain": [
       "True"
      ]
     },
     "execution_count": 18,
     "metadata": {},
     "output_type": "execute_result"
    }
   ],
   "source": [
    "nltk.download('stopwords')"
   ]
  },
  {
   "cell_type": "code",
   "execution_count": 19,
   "id": "f9a4f22b",
   "metadata": {},
   "outputs": [],
   "source": [
    "list_stopwords = stopwords.words('english')"
   ]
  },
  {
   "cell_type": "code",
   "execution_count": 20,
   "id": "d5f53cbf",
   "metadata": {},
   "outputs": [
    {
     "name": "stdout",
     "output_type": "stream",
     "text": [
      "['i', 'me', 'my', 'myself', 'we', 'our', 'ours', 'ourselves', 'you', \"you're\", \"you've\", \"you'll\", \"you'd\", 'your', 'yours', 'yourself', 'yourselves', 'he', 'him', 'his', 'himself', 'she', \"she's\", 'her', 'hers', 'herself', 'it', \"it's\", 'its', 'itself', 'they', 'them', 'their', 'theirs', 'themselves', 'what', 'which', 'who', 'whom', 'this', 'that', \"that'll\", 'these', 'those', 'am', 'is', 'are', 'was', 'were', 'be', 'been', 'being', 'have', 'has', 'had', 'having', 'do', 'does', 'did', 'doing', 'a', 'an', 'the', 'and', 'but', 'if', 'or', 'because', 'as', 'until', 'while', 'of', 'at', 'by', 'for', 'with', 'about', 'against', 'between', 'into', 'through', 'during', 'before', 'after', 'above', 'below', 'to', 'from', 'up', 'down', 'in', 'out', 'on', 'off', 'over', 'under', 'again', 'further', 'then', 'once', 'here', 'there', 'when', 'where', 'why', 'how', 'all', 'any', 'both', 'each', 'few', 'more', 'most', 'other', 'some', 'such', 'no', 'nor', 'not', 'only', 'own', 'same', 'so', 'than', 'too', 'very', 's', 't', 'can', 'will', 'just', 'don', \"don't\", 'should', \"should've\", 'now', 'd', 'll', 'm', 'o', 're', 've', 'y', 'ain', 'aren', \"aren't\", 'couldn', \"couldn't\", 'didn', \"didn't\", 'doesn', \"doesn't\", 'hadn', \"hadn't\", 'hasn', \"hasn't\", 'haven', \"haven't\", 'isn', \"isn't\", 'ma', 'mightn', \"mightn't\", 'mustn', \"mustn't\", 'needn', \"needn't\", 'shan', \"shan't\", 'shouldn', \"shouldn't\", 'wasn', \"wasn't\", 'weren', \"weren't\", 'won', \"won't\", 'wouldn', \"wouldn't\"]\n"
     ]
    }
   ],
   "source": [
    "print(stopwords.words('english'))"
   ]
  },
  {
   "cell_type": "code",
   "execution_count": 21,
   "id": "bab87222",
   "metadata": {},
   "outputs": [],
   "source": [
    "list_stopwords.extend([\"cubes\",\"center\",\"separated\",\"deveined\",\"country\",\"style\",\"weight\",\"short\",\"ingredients\",\"bag\",\"split\",\"small\",\"thinly\",\"ounces\",\"tsp\",\"lbs\",\"lean\",\"aka\",\"could\",\"use\",\"divided\",\"check\",\"labels\",\"used\",\"optional\",\"optionals\",\"option\",\"options\",\"chunks\",\"bitesize\",\"ml\",\"reduce\",\"reduced\",\"pound\",\"neverany\",\"abf\",\"top\",\"round\",\"teaspoons\",\"tablespoons\",\"extra\",\"cup\",\"chopped\",\"teaspoon\",\"crushed\",\"taste\",\"one\",\"ounce\",\"tablespoon\",\"large\",\"halved\",\"freshly\",\"four\",\"everything\",\"optional\",\"about\",\"each\",\"ground\",\"fresh\",\"plus\",\"grated\",\"pre\",\"using\",\"grater\",\"pounds\",\"new\",\"peeled\",\"cut\",\"inch\",\"pieces\",\"lb\",\"ends\",\"trimmed\",\"oz\",\"sliced\",\"drained\",\"high\",\"heat\",\"medium\",\"roughly\",\"reserved\",\"fine\",\"frain\",\"cups\",\"not\",\"hulled\",\"loosely\",\"packed\",\"serve\",\"cooking\",\"spray\",\"diced\",\"leftover\",\"frozen\",\"steamed\",\"half\",\"amp\",\"pinch\",\"washed\",\"tbsp\",\"all\",\"purpose\",\"whole\",\"regular\",\"if\",\"any\",\"store\",\"bought\",\"homemade\",\"see\",\"recipe\",\"above\",\"into\",\"thin\",\"strips\",\"suggest\",\"finely\",\"dried\",\"shredded\",\"removed\",\"pregrated\",\"holes\",\"box\"])"
   ]
  },
  {
   "cell_type": "code",
   "execution_count": 22,
   "id": "598b2cf8",
   "metadata": {},
   "outputs": [
    {
     "name": "stdout",
     "output_type": "stream",
     "text": [
      "0    [olive, oil, pepper, kosher, salt, bass, fille...\n",
      "1        [eggs, salt, black, pepper, bagel, seasoning]\n",
      "2    [olive, oil, salmon, fillets, skin, lemon, kos...\n",
      "3    [seeds, minced, flakes, parmesan, sesame, onio...\n",
      "4    [beans, black, potatoes, green, olives, balsam...\n",
      "Name: ingredients, dtype: object\n"
     ]
    }
   ],
   "source": [
    "def stopwords_removal(words):\n",
    "    return [word for word in words if word not in list_stopwords]\n",
    "\n",
    "ing_tokens_WSW = ing_tokens_fdist.apply(stopwords_removal) \n",
    "print(ing_tokens_WSW.head())"
   ]
  },
  {
   "cell_type": "markdown",
   "id": "07a2dcab",
   "metadata": {},
   "source": [
    "## Stemming"
   ]
  },
  {
   "cell_type": "code",
   "execution_count": 23,
   "id": "9031e445",
   "metadata": {},
   "outputs": [
    {
     "data": {
      "application/vnd.jupyter.widget-view+json": {
       "model_id": "cc7fd72801124490b6c24d503fbe0e63",
       "version_major": 2,
       "version_minor": 0
      },
      "text/plain": [
       "Pandas Apply:   0%|          | 0/1383 [00:00<?, ?it/s]"
      ]
     },
     "metadata": {},
     "output_type": "display_data"
    },
    {
     "data": {
      "text/plain": [
       "0    [olive, oil, pepper, kosher, salt, bass, fille...\n",
       "1        [eggs, salt, black, pepper, bagel, seasoning]\n",
       "2    [olive, oil, salmon, fillets, skin, lemon, kos...\n",
       "3    [seeds, minced, flakes, parmesan, sesame, onio...\n",
       "4    [beans, black, potatoes, green, olives, balsam...\n",
       "Name: ingredients, dtype: object"
      ]
     },
     "execution_count": 23,
     "metadata": {},
     "output_type": "execute_result"
    }
   ],
   "source": [
    "st = nltk.PorterStemmer()\n",
    "def stemming_on_text(data):\n",
    "    text = [st.stem(word) for word in data]\n",
    "    return data\n",
    "ing_stm= ing_tokens_WSW.swifter.apply(lambda x: stemming_on_text(x))\n",
    "ing_stm.head()"
   ]
  },
  {
   "cell_type": "markdown",
   "id": "d5a79e35",
   "metadata": {},
   "source": [
    "## Lemmatization"
   ]
  },
  {
   "cell_type": "code",
   "execution_count": 24,
   "id": "a3a314f9",
   "metadata": {},
   "outputs": [
    {
     "name": "stderr",
     "output_type": "stream",
     "text": [
      "[nltk_data] Downloading package wordnet to\n",
      "[nltk_data]     C:\\Users\\ASUS\\AppData\\Roaming\\nltk_data...\n",
      "[nltk_data]   Package wordnet is already up-to-date!\n"
     ]
    },
    {
     "data": {
      "text/plain": [
       "True"
      ]
     },
     "execution_count": 24,
     "metadata": {},
     "output_type": "execute_result"
    }
   ],
   "source": [
    "nltk.download('wordnet')"
   ]
  },
  {
   "cell_type": "code",
   "execution_count": 25,
   "id": "a4288922",
   "metadata": {},
   "outputs": [
    {
     "data": {
      "text/plain": [
       "0    [olive, oil, pepper, kosher, salt, bass, fille...\n",
       "1        [eggs, salt, black, pepper, bagel, seasoning]\n",
       "2    [olive, oil, salmon, fillets, skin, lemon, kos...\n",
       "3    [seeds, minced, flakes, parmesan, sesame, onio...\n",
       "4    [beans, black, potatoes, green, olives, balsam...\n",
       "Name: ingredients, dtype: object"
      ]
     },
     "execution_count": 25,
     "metadata": {},
     "output_type": "execute_result"
    }
   ],
   "source": [
    "lm = nltk.WordNetLemmatizer()\n",
    "def lemmatizer_on_text(data):\n",
    "    text = [lm.lemmatize(word) for word in data]\n",
    "    return data\n",
    "ing_lm = ing_stm.apply(lambda x: lemmatizer_on_text(x))\n",
    "ing_lm.head()"
   ]
  },
  {
   "cell_type": "markdown",
   "id": "fec8f030",
   "metadata": {},
   "source": [
    "### Save Data"
   ]
  },
  {
   "cell_type": "code",
   "execution_count": 26,
   "id": "af4a8ab7",
   "metadata": {},
   "outputs": [
    {
     "data": {
      "text/html": [
       "<div>\n",
       "<style scoped>\n",
       "    .dataframe tbody tr th:only-of-type {\n",
       "        vertical-align: middle;\n",
       "    }\n",
       "\n",
       "    .dataframe tbody tr th {\n",
       "        vertical-align: top;\n",
       "    }\n",
       "\n",
       "    .dataframe thead th {\n",
       "        text-align: right;\n",
       "    }\n",
       "</style>\n",
       "<table border=\"1\" class=\"dataframe\">\n",
       "  <thead>\n",
       "    <tr style=\"text-align: right;\">\n",
       "      <th></th>\n",
       "      <th>cooking_method</th>\n",
       "      <th>image</th>\n",
       "      <th>ingredients</th>\n",
       "      <th>recipe_name</th>\n",
       "      <th>Ingredients</th>\n",
       "      <th>ingredient</th>\n",
       "      <th>Cooking_Method</th>\n",
       "    </tr>\n",
       "  </thead>\n",
       "  <tbody>\n",
       "    <tr>\n",
       "      <th>0</th>\n",
       "      <td>['Set the racks in the middle and upper thirds...</td>\n",
       "      <td>https://www.skinnytaste.com/wp-content/uploads...</td>\n",
       "      <td>['1 tablespoons extra virgin olive oil', '1 cu...</td>\n",
       "      <td>Mediterranean Sea Bass</td>\n",
       "      <td>[olive, oil, pepper, kosher, salt, bass, fille...</td>\n",
       "      <td>1 tablespoons extra virgin olive oil, 1 cup ch...</td>\n",
       "      <td>Set the racks in the middle and upper thirds o...</td>\n",
       "    </tr>\n",
       "    <tr>\n",
       "      <th>1</th>\n",
       "      <td>['Place the eggs in the air fryer basket and c...</td>\n",
       "      <td>https://www.skinnytaste.com/wp-content/uploads...</td>\n",
       "      <td>['4 large eggs', 'Salt (black pepper, everythi...</td>\n",
       "      <td>Air Fryer Hard Boiled Eggs</td>\n",
       "      <td>[eggs, salt, black, pepper, bagel, seasoning]</td>\n",
       "      <td>4 large eggs, Salt (black pepper, everything b...</td>\n",
       "      <td>Place the eggs in the air fryer basket and coo...</td>\n",
       "    </tr>\n",
       "    <tr>\n",
       "      <th>2</th>\n",
       "      <td>['Air Fryer directions:', 'Preheat air fryer t...</td>\n",
       "      <td>https://www.skinnytaste.com/wp-content/uploads...</td>\n",
       "      <td>['olive oil spray', '4 about 5 ounce each salm...</td>\n",
       "      <td>Air Fryer Basil-Parmesan Salmon</td>\n",
       "      <td>[olive, oil, salmon, fillets, skin, lemon, kos...</td>\n",
       "      <td>olive oil spray, 4 about 5 ounce each salmon f...</td>\n",
       "      <td>Air Fryer directions:, Preheat air fryer to 40...</td>\n",
       "    </tr>\n",
       "    <tr>\n",
       "      <th>3</th>\n",
       "      <td>['Preheat the oven to 400F.', 'Pour 2 tablespo...</td>\n",
       "      <td>https://www.skinnytaste.com/wp-content/uploads...</td>\n",
       "      <td>['1/2 cup freshly grated Parmesan (not pre-gra...</td>\n",
       "      <td>Everything Parmesan Crisps</td>\n",
       "      <td>[seeds, minced, flakes, parmesan, sesame, onio...</td>\n",
       "      <td>1/2 cup freshly grated Parmesan (not pre-grate...</td>\n",
       "      <td>Preheat the oven to 400F., Pour 2 tablespoon o...</td>\n",
       "    </tr>\n",
       "    <tr>\n",
       "      <th>4</th>\n",
       "      <td>['Cook potatoes in a large pot of salted water...</td>\n",
       "      <td>https://www.skinnytaste.com/wp-content/uploads...</td>\n",
       "      <td>['3 1/2 pounds new potatoes (about 10 peeled a...</td>\n",
       "      <td>Potato and Green Bean Salad</td>\n",
       "      <td>[beans, black, potatoes, green, olives, balsam...</td>\n",
       "      <td>3 1/2 pounds new potatoes (about 10 peeled and...</td>\n",
       "      <td>Cook potatoes in a large pot of salted water u...</td>\n",
       "    </tr>\n",
       "    <tr>\n",
       "      <th>...</th>\n",
       "      <td>...</td>\n",
       "      <td>...</td>\n",
       "      <td>...</td>\n",
       "      <td>...</td>\n",
       "      <td>...</td>\n",
       "      <td>...</td>\n",
       "      <td>...</td>\n",
       "    </tr>\n",
       "    <tr>\n",
       "      <th>1393</th>\n",
       "      <td>['Brown meat on high heat in large saute pan a...</td>\n",
       "      <td>https://www.skinnytaste.com/wp-content/uploads...</td>\n",
       "      <td>['1/2 large chopped onion', '2 cloves garlic (...</td>\n",
       "      <td>Cuban Picadillo</td>\n",
       "      <td>[pepper, onion, cloves, garlic, minced, mato, ...</td>\n",
       "      <td>1/2 large chopped onion, 2 cloves garlic (minc...</td>\n",
       "      <td>Brown meat on high heat in large saute pan and...</td>\n",
       "    </tr>\n",
       "    <tr>\n",
       "      <th>1394</th>\n",
       "      <td>['In a 5 quart saucepan, add all ingredients.'...</td>\n",
       "      <td>https://www.skinnytaste.com/wp-content/uploads...</td>\n",
       "      <td>['1 large head cauliflower - chopped', '1/2 cu...</td>\n",
       "      <td>Dad's Cauliflower Soup</td>\n",
       "      <td>[head, cauliflower, onions, water, chicken, bo...</td>\n",
       "      <td>1 large head cauliflower - chopped, 1/2 cup ch...</td>\n",
       "      <td>In a 5 quart saucepan, add all ingredients., C...</td>\n",
       "    </tr>\n",
       "    <tr>\n",
       "      <th>1395</th>\n",
       "      <td>['Soak bean over night. Discard water.', 'In a...</td>\n",
       "      <td>https://www.skinnytaste.com/wp-content/uploads...</td>\n",
       "      <td>['Ingredients:', '1 smoked ham hock (or smoked...</td>\n",
       "      <td>Brazilian Black Beans</td>\n",
       "      <td>[smoked, ham, hock, pork, chop, bay, leaves, p...</td>\n",
       "      <td>Ingredients:, 1 smoked ham hock (or smoked por...</td>\n",
       "      <td>Soak bean over night. Discard water., In a pre...</td>\n",
       "    </tr>\n",
       "    <tr>\n",
       "      <th>1396</th>\n",
       "      <td>['Preheat broiler.', 'Line broiling pan with a...</td>\n",
       "      <td>https://www.skinnytaste.com/wp-content/uploads...</td>\n",
       "      <td>['1 tbsp finely chopped fresh oregano or 1 tsp...</td>\n",
       "      <td>Broiled Tilapia Oreganata</td>\n",
       "      <td>[oregano, tilapia, fillets, salt, pepper, oliv...</td>\n",
       "      <td>1 tbsp finely chopped fresh oregano or 1 tsp d...</td>\n",
       "      <td>Preheat broiler., Line broiling pan with alumi...</td>\n",
       "    </tr>\n",
       "    <tr>\n",
       "      <th>1397</th>\n",
       "      <td>['Wash the peas and drain.', 'In a large pot o...</td>\n",
       "      <td>https://www.skinnytaste.com/wp-content/uploads...</td>\n",
       "      <td>['16 ounce bag of dried split peas', '2 teaspo...</td>\n",
       "      <td>Split Pea Soup with Ham</td>\n",
       "      <td>[peas, olive, oil, onion, cloves, garlic, carr...</td>\n",
       "      <td>16 ounce bag of dried split peas, 2 teaspoons ...</td>\n",
       "      <td>Wash the peas and drain., In a large pot or Du...</td>\n",
       "    </tr>\n",
       "  </tbody>\n",
       "</table>\n",
       "<p>1383 rows × 7 columns</p>\n",
       "</div>"
      ],
      "text/plain": [
       "                                         cooking_method  \\\n",
       "0     ['Set the racks in the middle and upper thirds...   \n",
       "1     ['Place the eggs in the air fryer basket and c...   \n",
       "2     ['Air Fryer directions:', 'Preheat air fryer t...   \n",
       "3     ['Preheat the oven to 400F.', 'Pour 2 tablespo...   \n",
       "4     ['Cook potatoes in a large pot of salted water...   \n",
       "...                                                 ...   \n",
       "1393  ['Brown meat on high heat in large saute pan a...   \n",
       "1394  ['In a 5 quart saucepan, add all ingredients.'...   \n",
       "1395  ['Soak bean over night. Discard water.', 'In a...   \n",
       "1396  ['Preheat broiler.', 'Line broiling pan with a...   \n",
       "1397  ['Wash the peas and drain.', 'In a large pot o...   \n",
       "\n",
       "                                                  image  \\\n",
       "0     https://www.skinnytaste.com/wp-content/uploads...   \n",
       "1     https://www.skinnytaste.com/wp-content/uploads...   \n",
       "2     https://www.skinnytaste.com/wp-content/uploads...   \n",
       "3     https://www.skinnytaste.com/wp-content/uploads...   \n",
       "4     https://www.skinnytaste.com/wp-content/uploads...   \n",
       "...                                                 ...   \n",
       "1393  https://www.skinnytaste.com/wp-content/uploads...   \n",
       "1394  https://www.skinnytaste.com/wp-content/uploads...   \n",
       "1395  https://www.skinnytaste.com/wp-content/uploads...   \n",
       "1396  https://www.skinnytaste.com/wp-content/uploads...   \n",
       "1397  https://www.skinnytaste.com/wp-content/uploads...   \n",
       "\n",
       "                                            ingredients  \\\n",
       "0     ['1 tablespoons extra virgin olive oil', '1 cu...   \n",
       "1     ['4 large eggs', 'Salt (black pepper, everythi...   \n",
       "2     ['olive oil spray', '4 about 5 ounce each salm...   \n",
       "3     ['1/2 cup freshly grated Parmesan (not pre-gra...   \n",
       "4     ['3 1/2 pounds new potatoes (about 10 peeled a...   \n",
       "...                                                 ...   \n",
       "1393  ['1/2 large chopped onion', '2 cloves garlic (...   \n",
       "1394  ['1 large head cauliflower - chopped', '1/2 cu...   \n",
       "1395  ['Ingredients:', '1 smoked ham hock (or smoked...   \n",
       "1396  ['1 tbsp finely chopped fresh oregano or 1 tsp...   \n",
       "1397  ['16 ounce bag of dried split peas', '2 teaspo...   \n",
       "\n",
       "                          recipe_name  \\\n",
       "0              Mediterranean Sea Bass   \n",
       "1          Air Fryer Hard Boiled Eggs   \n",
       "2     Air Fryer Basil-Parmesan Salmon   \n",
       "3          Everything Parmesan Crisps   \n",
       "4         Potato and Green Bean Salad   \n",
       "...                               ...   \n",
       "1393                  Cuban Picadillo   \n",
       "1394           Dad's Cauliflower Soup   \n",
       "1395            Brazilian Black Beans   \n",
       "1396       Broiled Tilapia Oreganata    \n",
       "1397          Split Pea Soup with Ham   \n",
       "\n",
       "                                            Ingredients  \\\n",
       "0     [olive, oil, pepper, kosher, salt, bass, fille...   \n",
       "1         [eggs, salt, black, pepper, bagel, seasoning]   \n",
       "2     [olive, oil, salmon, fillets, skin, lemon, kos...   \n",
       "3     [seeds, minced, flakes, parmesan, sesame, onio...   \n",
       "4     [beans, black, potatoes, green, olives, balsam...   \n",
       "...                                                 ...   \n",
       "1393  [pepper, onion, cloves, garlic, minced, mato, ...   \n",
       "1394  [head, cauliflower, onions, water, chicken, bo...   \n",
       "1395  [smoked, ham, hock, pork, chop, bay, leaves, p...   \n",
       "1396  [oregano, tilapia, fillets, salt, pepper, oliv...   \n",
       "1397  [peas, olive, oil, onion, cloves, garlic, carr...   \n",
       "\n",
       "                                             ingredient  \\\n",
       "0     1 tablespoons extra virgin olive oil, 1 cup ch...   \n",
       "1     4 large eggs, Salt (black pepper, everything b...   \n",
       "2     olive oil spray, 4 about 5 ounce each salmon f...   \n",
       "3     1/2 cup freshly grated Parmesan (not pre-grate...   \n",
       "4     3 1/2 pounds new potatoes (about 10 peeled and...   \n",
       "...                                                 ...   \n",
       "1393  1/2 large chopped onion, 2 cloves garlic (minc...   \n",
       "1394  1 large head cauliflower - chopped, 1/2 cup ch...   \n",
       "1395  Ingredients:, 1 smoked ham hock (or smoked por...   \n",
       "1396  1 tbsp finely chopped fresh oregano or 1 tsp d...   \n",
       "1397  16 ounce bag of dried split peas, 2 teaspoons ...   \n",
       "\n",
       "                                         Cooking_Method  \n",
       "0     Set the racks in the middle and upper thirds o...  \n",
       "1     Place the eggs in the air fryer basket and coo...  \n",
       "2     Air Fryer directions:, Preheat air fryer to 40...  \n",
       "3     Preheat the oven to 400F., Pour 2 tablespoon o...  \n",
       "4     Cook potatoes in a large pot of salted water u...  \n",
       "...                                                 ...  \n",
       "1393  Brown meat on high heat in large saute pan and...  \n",
       "1394  In a 5 quart saucepan, add all ingredients., C...  \n",
       "1395  Soak bean over night. Discard water., In a pre...  \n",
       "1396  Preheat broiler., Line broiling pan with alumi...  \n",
       "1397  Wash the peas and drain., In a large pot or Du...  \n",
       "\n",
       "[1383 rows x 7 columns]"
      ]
     },
     "execution_count": 26,
     "metadata": {},
     "output_type": "execute_result"
    }
   ],
   "source": [
    "df2['Ingredients'] = ing_lm\n",
    "df2['ingredient'] = ing2\n",
    "df2['Cooking_Method'] = cookmet\n",
    "df2"
   ]
  },
  {
   "cell_type": "code",
   "execution_count": 27,
   "id": "4373cd52",
   "metadata": {},
   "outputs": [],
   "source": [
    "df2.to_csv(\"recipe.csv\")"
   ]
  },
  {
   "cell_type": "markdown",
   "id": "328c1530",
   "metadata": {},
   "source": [
    "# Recommendation"
   ]
  },
  {
   "cell_type": "code",
   "execution_count": 28,
   "id": "b83a0f9b",
   "metadata": {},
   "outputs": [
    {
     "data": {
      "text/html": [
       "<div>\n",
       "<style scoped>\n",
       "    .dataframe tbody tr th:only-of-type {\n",
       "        vertical-align: middle;\n",
       "    }\n",
       "\n",
       "    .dataframe tbody tr th {\n",
       "        vertical-align: top;\n",
       "    }\n",
       "\n",
       "    .dataframe thead th {\n",
       "        text-align: right;\n",
       "    }\n",
       "</style>\n",
       "<table border=\"1\" class=\"dataframe\">\n",
       "  <thead>\n",
       "    <tr style=\"text-align: right;\">\n",
       "      <th></th>\n",
       "      <th>Unnamed: 0</th>\n",
       "      <th>cooking_method</th>\n",
       "      <th>image</th>\n",
       "      <th>ingredients</th>\n",
       "      <th>recipe_name</th>\n",
       "      <th>Ingredients</th>\n",
       "      <th>ingredient</th>\n",
       "      <th>Cooking_Method</th>\n",
       "    </tr>\n",
       "  </thead>\n",
       "  <tbody>\n",
       "    <tr>\n",
       "      <th>0</th>\n",
       "      <td>0</td>\n",
       "      <td>['Set the racks in the middle and upper thirds...</td>\n",
       "      <td>https://www.skinnytaste.com/wp-content/uploads...</td>\n",
       "      <td>['1 tablespoons extra virgin olive oil', '1 cu...</td>\n",
       "      <td>Mediterranean Sea Bass</td>\n",
       "      <td>['olive', 'oil', 'pepper', 'kosher', 'salt', '...</td>\n",
       "      <td>1 tablespoons extra virgin olive oil, 1 cup ch...</td>\n",
       "      <td>Set the racks in the middle and upper thirds o...</td>\n",
       "    </tr>\n",
       "    <tr>\n",
       "      <th>1</th>\n",
       "      <td>1</td>\n",
       "      <td>['Place the eggs in the air fryer basket and c...</td>\n",
       "      <td>https://www.skinnytaste.com/wp-content/uploads...</td>\n",
       "      <td>['4 large eggs', 'Salt (black pepper, everythi...</td>\n",
       "      <td>Air Fryer Hard Boiled Eggs</td>\n",
       "      <td>['eggs', 'salt', 'black', 'pepper', 'bagel', '...</td>\n",
       "      <td>4 large eggs, Salt (black pepper, everything b...</td>\n",
       "      <td>Place the eggs in the air fryer basket and coo...</td>\n",
       "    </tr>\n",
       "    <tr>\n",
       "      <th>2</th>\n",
       "      <td>2</td>\n",
       "      <td>['Air Fryer directions:', 'Preheat air fryer t...</td>\n",
       "      <td>https://www.skinnytaste.com/wp-content/uploads...</td>\n",
       "      <td>['olive oil spray', '4 about 5 ounce each salm...</td>\n",
       "      <td>Air Fryer Basil-Parmesan Salmon</td>\n",
       "      <td>['olive', 'oil', 'salmon', 'fillets', 'skin', ...</td>\n",
       "      <td>olive oil spray, 4 about 5 ounce each salmon f...</td>\n",
       "      <td>Air Fryer directions:, Preheat air fryer to 40...</td>\n",
       "    </tr>\n",
       "    <tr>\n",
       "      <th>3</th>\n",
       "      <td>3</td>\n",
       "      <td>['Preheat the oven to 400F.', 'Pour 2 tablespo...</td>\n",
       "      <td>https://www.skinnytaste.com/wp-content/uploads...</td>\n",
       "      <td>['1/2 cup freshly grated Parmesan (not pre-gra...</td>\n",
       "      <td>Everything Parmesan Crisps</td>\n",
       "      <td>['seeds', 'minced', 'flakes', 'parmesan', 'ses...</td>\n",
       "      <td>1/2 cup freshly grated Parmesan (not pre-grate...</td>\n",
       "      <td>Preheat the oven to 400F., Pour 2 tablespoon o...</td>\n",
       "    </tr>\n",
       "    <tr>\n",
       "      <th>4</th>\n",
       "      <td>4</td>\n",
       "      <td>['Cook potatoes in a large pot of salted water...</td>\n",
       "      <td>https://www.skinnytaste.com/wp-content/uploads...</td>\n",
       "      <td>['3 1/2 pounds new potatoes (about 10 peeled a...</td>\n",
       "      <td>Potato and Green Bean Salad</td>\n",
       "      <td>['beans', 'black', 'potatoes', 'green', 'olive...</td>\n",
       "      <td>3 1/2 pounds new potatoes (about 10 peeled and...</td>\n",
       "      <td>Cook potatoes in a large pot of salted water u...</td>\n",
       "    </tr>\n",
       "  </tbody>\n",
       "</table>\n",
       "</div>"
      ],
      "text/plain": [
       "   Unnamed: 0                                     cooking_method  \\\n",
       "0           0  ['Set the racks in the middle and upper thirds...   \n",
       "1           1  ['Place the eggs in the air fryer basket and c...   \n",
       "2           2  ['Air Fryer directions:', 'Preheat air fryer t...   \n",
       "3           3  ['Preheat the oven to 400F.', 'Pour 2 tablespo...   \n",
       "4           4  ['Cook potatoes in a large pot of salted water...   \n",
       "\n",
       "                                               image  \\\n",
       "0  https://www.skinnytaste.com/wp-content/uploads...   \n",
       "1  https://www.skinnytaste.com/wp-content/uploads...   \n",
       "2  https://www.skinnytaste.com/wp-content/uploads...   \n",
       "3  https://www.skinnytaste.com/wp-content/uploads...   \n",
       "4  https://www.skinnytaste.com/wp-content/uploads...   \n",
       "\n",
       "                                         ingredients  \\\n",
       "0  ['1 tablespoons extra virgin olive oil', '1 cu...   \n",
       "1  ['4 large eggs', 'Salt (black pepper, everythi...   \n",
       "2  ['olive oil spray', '4 about 5 ounce each salm...   \n",
       "3  ['1/2 cup freshly grated Parmesan (not pre-gra...   \n",
       "4  ['3 1/2 pounds new potatoes (about 10 peeled a...   \n",
       "\n",
       "                       recipe_name  \\\n",
       "0           Mediterranean Sea Bass   \n",
       "1       Air Fryer Hard Boiled Eggs   \n",
       "2  Air Fryer Basil-Parmesan Salmon   \n",
       "3       Everything Parmesan Crisps   \n",
       "4      Potato and Green Bean Salad   \n",
       "\n",
       "                                         Ingredients  \\\n",
       "0  ['olive', 'oil', 'pepper', 'kosher', 'salt', '...   \n",
       "1  ['eggs', 'salt', 'black', 'pepper', 'bagel', '...   \n",
       "2  ['olive', 'oil', 'salmon', 'fillets', 'skin', ...   \n",
       "3  ['seeds', 'minced', 'flakes', 'parmesan', 'ses...   \n",
       "4  ['beans', 'black', 'potatoes', 'green', 'olive...   \n",
       "\n",
       "                                          ingredient  \\\n",
       "0  1 tablespoons extra virgin olive oil, 1 cup ch...   \n",
       "1  4 large eggs, Salt (black pepper, everything b...   \n",
       "2  olive oil spray, 4 about 5 ounce each salmon f...   \n",
       "3  1/2 cup freshly grated Parmesan (not pre-grate...   \n",
       "4  3 1/2 pounds new potatoes (about 10 peeled and...   \n",
       "\n",
       "                                      Cooking_Method  \n",
       "0  Set the racks in the middle and upper thirds o...  \n",
       "1  Place the eggs in the air fryer basket and coo...  \n",
       "2  Air Fryer directions:, Preheat air fryer to 40...  \n",
       "3  Preheat the oven to 400F., Pour 2 tablespoon o...  \n",
       "4  Cook potatoes in a large pot of salted water u...  "
      ]
     },
     "execution_count": 28,
     "metadata": {},
     "output_type": "execute_result"
    }
   ],
   "source": [
    "# loading the data from the csv file to apandas dataframe\n",
    "recipes_data = pd.read_csv(\"recipe.csv\").dropna()\n",
    "recipes_data.head()"
   ]
  },
  {
   "cell_type": "code",
   "execution_count": 29,
   "id": "72f85e4c",
   "metadata": {},
   "outputs": [
    {
     "data": {
      "text/html": [
       "<div>\n",
       "<style scoped>\n",
       "    .dataframe tbody tr th:only-of-type {\n",
       "        vertical-align: middle;\n",
       "    }\n",
       "\n",
       "    .dataframe tbody tr th {\n",
       "        vertical-align: top;\n",
       "    }\n",
       "\n",
       "    .dataframe thead th {\n",
       "        text-align: right;\n",
       "    }\n",
       "</style>\n",
       "<table border=\"1\" class=\"dataframe\">\n",
       "  <thead>\n",
       "    <tr style=\"text-align: right;\">\n",
       "      <th></th>\n",
       "      <th>cooking_method</th>\n",
       "      <th>image</th>\n",
       "      <th>recipe_name</th>\n",
       "      <th>Ingredients</th>\n",
       "      <th>ingredient</th>\n",
       "      <th>Cooking_Method</th>\n",
       "    </tr>\n",
       "  </thead>\n",
       "  <tbody>\n",
       "    <tr>\n",
       "      <th>0</th>\n",
       "      <td>['Set the racks in the middle and upper thirds...</td>\n",
       "      <td>https://www.skinnytaste.com/wp-content/uploads...</td>\n",
       "      <td>Mediterranean Sea Bass</td>\n",
       "      <td>['olive', 'oil', 'pepper', 'kosher', 'salt', '...</td>\n",
       "      <td>1 tablespoons extra virgin olive oil, 1 cup ch...</td>\n",
       "      <td>Set the racks in the middle and upper thirds o...</td>\n",
       "    </tr>\n",
       "    <tr>\n",
       "      <th>1</th>\n",
       "      <td>['Place the eggs in the air fryer basket and c...</td>\n",
       "      <td>https://www.skinnytaste.com/wp-content/uploads...</td>\n",
       "      <td>Air Fryer Hard Boiled Eggs</td>\n",
       "      <td>['eggs', 'salt', 'black', 'pepper', 'bagel', '...</td>\n",
       "      <td>4 large eggs, Salt (black pepper, everything b...</td>\n",
       "      <td>Place the eggs in the air fryer basket and coo...</td>\n",
       "    </tr>\n",
       "    <tr>\n",
       "      <th>2</th>\n",
       "      <td>['Air Fryer directions:', 'Preheat air fryer t...</td>\n",
       "      <td>https://www.skinnytaste.com/wp-content/uploads...</td>\n",
       "      <td>Air Fryer Basil-Parmesan Salmon</td>\n",
       "      <td>['olive', 'oil', 'salmon', 'fillets', 'skin', ...</td>\n",
       "      <td>olive oil spray, 4 about 5 ounce each salmon f...</td>\n",
       "      <td>Air Fryer directions:, Preheat air fryer to 40...</td>\n",
       "    </tr>\n",
       "    <tr>\n",
       "      <th>3</th>\n",
       "      <td>['Preheat the oven to 400F.', 'Pour 2 tablespo...</td>\n",
       "      <td>https://www.skinnytaste.com/wp-content/uploads...</td>\n",
       "      <td>Everything Parmesan Crisps</td>\n",
       "      <td>['seeds', 'minced', 'flakes', 'parmesan', 'ses...</td>\n",
       "      <td>1/2 cup freshly grated Parmesan (not pre-grate...</td>\n",
       "      <td>Preheat the oven to 400F., Pour 2 tablespoon o...</td>\n",
       "    </tr>\n",
       "    <tr>\n",
       "      <th>4</th>\n",
       "      <td>['Cook potatoes in a large pot of salted water...</td>\n",
       "      <td>https://www.skinnytaste.com/wp-content/uploads...</td>\n",
       "      <td>Potato and Green Bean Salad</td>\n",
       "      <td>['beans', 'black', 'potatoes', 'green', 'olive...</td>\n",
       "      <td>3 1/2 pounds new potatoes (about 10 peeled and...</td>\n",
       "      <td>Cook potatoes in a large pot of salted water u...</td>\n",
       "    </tr>\n",
       "  </tbody>\n",
       "</table>\n",
       "</div>"
      ],
      "text/plain": [
       "                                      cooking_method  \\\n",
       "0  ['Set the racks in the middle and upper thirds...   \n",
       "1  ['Place the eggs in the air fryer basket and c...   \n",
       "2  ['Air Fryer directions:', 'Preheat air fryer t...   \n",
       "3  ['Preheat the oven to 400F.', 'Pour 2 tablespo...   \n",
       "4  ['Cook potatoes in a large pot of salted water...   \n",
       "\n",
       "                                               image  \\\n",
       "0  https://www.skinnytaste.com/wp-content/uploads...   \n",
       "1  https://www.skinnytaste.com/wp-content/uploads...   \n",
       "2  https://www.skinnytaste.com/wp-content/uploads...   \n",
       "3  https://www.skinnytaste.com/wp-content/uploads...   \n",
       "4  https://www.skinnytaste.com/wp-content/uploads...   \n",
       "\n",
       "                       recipe_name  \\\n",
       "0           Mediterranean Sea Bass   \n",
       "1       Air Fryer Hard Boiled Eggs   \n",
       "2  Air Fryer Basil-Parmesan Salmon   \n",
       "3       Everything Parmesan Crisps   \n",
       "4      Potato and Green Bean Salad   \n",
       "\n",
       "                                         Ingredients  \\\n",
       "0  ['olive', 'oil', 'pepper', 'kosher', 'salt', '...   \n",
       "1  ['eggs', 'salt', 'black', 'pepper', 'bagel', '...   \n",
       "2  ['olive', 'oil', 'salmon', 'fillets', 'skin', ...   \n",
       "3  ['seeds', 'minced', 'flakes', 'parmesan', 'ses...   \n",
       "4  ['beans', 'black', 'potatoes', 'green', 'olive...   \n",
       "\n",
       "                                          ingredient  \\\n",
       "0  1 tablespoons extra virgin olive oil, 1 cup ch...   \n",
       "1  4 large eggs, Salt (black pepper, everything b...   \n",
       "2  olive oil spray, 4 about 5 ounce each salmon f...   \n",
       "3  1/2 cup freshly grated Parmesan (not pre-grate...   \n",
       "4  3 1/2 pounds new potatoes (about 10 peeled and...   \n",
       "\n",
       "                                      Cooking_Method  \n",
       "0  Set the racks in the middle and upper thirds o...  \n",
       "1  Place the eggs in the air fryer basket and coo...  \n",
       "2  Air Fryer directions:, Preheat air fryer to 40...  \n",
       "3  Preheat the oven to 400F., Pour 2 tablespoon o...  \n",
       "4  Cook potatoes in a large pot of salted water u...  "
      ]
     },
     "execution_count": 29,
     "metadata": {},
     "output_type": "execute_result"
    }
   ],
   "source": [
    "recipes_data = recipes_data.drop(columns=['ingredients', 'Unnamed: 0'])\n",
    "\n",
    "recipes_data.head()"
   ]
  },
  {
   "cell_type": "code",
   "execution_count": 30,
   "id": "54ed69b6",
   "metadata": {},
   "outputs": [],
   "source": [
    "recipes_data = recipes_data.reset_index(drop=True)"
   ]
  },
  {
   "cell_type": "code",
   "execution_count": 32,
   "id": "04706cb9",
   "metadata": {},
   "outputs": [
    {
     "data": {
      "text/html": [
       "<div>\n",
       "<style scoped>\n",
       "    .dataframe tbody tr th:only-of-type {\n",
       "        vertical-align: middle;\n",
       "    }\n",
       "\n",
       "    .dataframe tbody tr th {\n",
       "        vertical-align: top;\n",
       "    }\n",
       "\n",
       "    .dataframe thead th {\n",
       "        text-align: right;\n",
       "    }\n",
       "</style>\n",
       "<table border=\"1\" class=\"dataframe\">\n",
       "  <thead>\n",
       "    <tr style=\"text-align: right;\">\n",
       "      <th></th>\n",
       "      <th>cooking_method</th>\n",
       "      <th>image</th>\n",
       "      <th>recipe_name</th>\n",
       "      <th>Ingredients</th>\n",
       "      <th>ingredient</th>\n",
       "      <th>Cooking_Method</th>\n",
       "      <th>index</th>\n",
       "    </tr>\n",
       "  </thead>\n",
       "  <tbody>\n",
       "    <tr>\n",
       "      <th>0</th>\n",
       "      <td>['Set the racks in the middle and upper thirds...</td>\n",
       "      <td>https://www.skinnytaste.com/wp-content/uploads...</td>\n",
       "      <td>Mediterranean Sea Bass</td>\n",
       "      <td>['olive', 'oil', 'pepper', 'kosher', 'salt', '...</td>\n",
       "      <td>1 tablespoons extra virgin olive oil, 1 cup ch...</td>\n",
       "      <td>Set the racks in the middle and upper thirds o...</td>\n",
       "      <td>0</td>\n",
       "    </tr>\n",
       "    <tr>\n",
       "      <th>1</th>\n",
       "      <td>['Place the eggs in the air fryer basket and c...</td>\n",
       "      <td>https://www.skinnytaste.com/wp-content/uploads...</td>\n",
       "      <td>Air Fryer Hard Boiled Eggs</td>\n",
       "      <td>['eggs', 'salt', 'black', 'pepper', 'bagel', '...</td>\n",
       "      <td>4 large eggs, Salt (black pepper, everything b...</td>\n",
       "      <td>Place the eggs in the air fryer basket and coo...</td>\n",
       "      <td>1</td>\n",
       "    </tr>\n",
       "    <tr>\n",
       "      <th>2</th>\n",
       "      <td>['Air Fryer directions:', 'Preheat air fryer t...</td>\n",
       "      <td>https://www.skinnytaste.com/wp-content/uploads...</td>\n",
       "      <td>Air Fryer Basil-Parmesan Salmon</td>\n",
       "      <td>['olive', 'oil', 'salmon', 'fillets', 'skin', ...</td>\n",
       "      <td>olive oil spray, 4 about 5 ounce each salmon f...</td>\n",
       "      <td>Air Fryer directions:, Preheat air fryer to 40...</td>\n",
       "      <td>2</td>\n",
       "    </tr>\n",
       "    <tr>\n",
       "      <th>3</th>\n",
       "      <td>['Preheat the oven to 400F.', 'Pour 2 tablespo...</td>\n",
       "      <td>https://www.skinnytaste.com/wp-content/uploads...</td>\n",
       "      <td>Everything Parmesan Crisps</td>\n",
       "      <td>['seeds', 'minced', 'flakes', 'parmesan', 'ses...</td>\n",
       "      <td>1/2 cup freshly grated Parmesan (not pre-grate...</td>\n",
       "      <td>Preheat the oven to 400F., Pour 2 tablespoon o...</td>\n",
       "      <td>3</td>\n",
       "    </tr>\n",
       "    <tr>\n",
       "      <th>4</th>\n",
       "      <td>['Cook potatoes in a large pot of salted water...</td>\n",
       "      <td>https://www.skinnytaste.com/wp-content/uploads...</td>\n",
       "      <td>Potato and Green Bean Salad</td>\n",
       "      <td>['beans', 'black', 'potatoes', 'green', 'olive...</td>\n",
       "      <td>3 1/2 pounds new potatoes (about 10 peeled and...</td>\n",
       "      <td>Cook potatoes in a large pot of salted water u...</td>\n",
       "      <td>4</td>\n",
       "    </tr>\n",
       "    <tr>\n",
       "      <th>...</th>\n",
       "      <td>...</td>\n",
       "      <td>...</td>\n",
       "      <td>...</td>\n",
       "      <td>...</td>\n",
       "      <td>...</td>\n",
       "      <td>...</td>\n",
       "      <td>...</td>\n",
       "    </tr>\n",
       "    <tr>\n",
       "      <th>1375</th>\n",
       "      <td>['Brown meat on high heat in large saute pan a...</td>\n",
       "      <td>https://www.skinnytaste.com/wp-content/uploads...</td>\n",
       "      <td>Cuban Picadillo</td>\n",
       "      <td>['pepper', 'onion', 'cloves', 'garlic', 'mince...</td>\n",
       "      <td>1/2 large chopped onion, 2 cloves garlic (minc...</td>\n",
       "      <td>Brown meat on high heat in large saute pan and...</td>\n",
       "      <td>1375</td>\n",
       "    </tr>\n",
       "    <tr>\n",
       "      <th>1376</th>\n",
       "      <td>['In a 5 quart saucepan, add all ingredients.'...</td>\n",
       "      <td>https://www.skinnytaste.com/wp-content/uploads...</td>\n",
       "      <td>Dad's Cauliflower Soup</td>\n",
       "      <td>['head', 'cauliflower', 'onions', 'water', 'ch...</td>\n",
       "      <td>1 large head cauliflower - chopped, 1/2 cup ch...</td>\n",
       "      <td>In a 5 quart saucepan, add all ingredients., C...</td>\n",
       "      <td>1376</td>\n",
       "    </tr>\n",
       "    <tr>\n",
       "      <th>1377</th>\n",
       "      <td>['Soak bean over night. Discard water.', 'In a...</td>\n",
       "      <td>https://www.skinnytaste.com/wp-content/uploads...</td>\n",
       "      <td>Brazilian Black Beans</td>\n",
       "      <td>['smoked', 'ham', 'hock', 'pork', 'chop', 'bay...</td>\n",
       "      <td>Ingredients:, 1 smoked ham hock (or smoked por...</td>\n",
       "      <td>Soak bean over night. Discard water., In a pre...</td>\n",
       "      <td>1377</td>\n",
       "    </tr>\n",
       "    <tr>\n",
       "      <th>1378</th>\n",
       "      <td>['Preheat broiler.', 'Line broiling pan with a...</td>\n",
       "      <td>https://www.skinnytaste.com/wp-content/uploads...</td>\n",
       "      <td>Broiled Tilapia Oreganata</td>\n",
       "      <td>['oregano', 'tilapia', 'fillets', 'salt', 'pep...</td>\n",
       "      <td>1 tbsp finely chopped fresh oregano or 1 tsp d...</td>\n",
       "      <td>Preheat broiler., Line broiling pan with alumi...</td>\n",
       "      <td>1378</td>\n",
       "    </tr>\n",
       "    <tr>\n",
       "      <th>1379</th>\n",
       "      <td>['Wash the peas and drain.', 'In a large pot o...</td>\n",
       "      <td>https://www.skinnytaste.com/wp-content/uploads...</td>\n",
       "      <td>Split Pea Soup with Ham</td>\n",
       "      <td>['peas', 'olive', 'oil', 'onion', 'cloves', 'g...</td>\n",
       "      <td>16 ounce bag of dried split peas, 2 teaspoons ...</td>\n",
       "      <td>Wash the peas and drain., In a large pot or Du...</td>\n",
       "      <td>1379</td>\n",
       "    </tr>\n",
       "  </tbody>\n",
       "</table>\n",
       "<p>1380 rows × 7 columns</p>\n",
       "</div>"
      ],
      "text/plain": [
       "                                         cooking_method  \\\n",
       "0     ['Set the racks in the middle and upper thirds...   \n",
       "1     ['Place the eggs in the air fryer basket and c...   \n",
       "2     ['Air Fryer directions:', 'Preheat air fryer t...   \n",
       "3     ['Preheat the oven to 400F.', 'Pour 2 tablespo...   \n",
       "4     ['Cook potatoes in a large pot of salted water...   \n",
       "...                                                 ...   \n",
       "1375  ['Brown meat on high heat in large saute pan a...   \n",
       "1376  ['In a 5 quart saucepan, add all ingredients.'...   \n",
       "1377  ['Soak bean over night. Discard water.', 'In a...   \n",
       "1378  ['Preheat broiler.', 'Line broiling pan with a...   \n",
       "1379  ['Wash the peas and drain.', 'In a large pot o...   \n",
       "\n",
       "                                                  image  \\\n",
       "0     https://www.skinnytaste.com/wp-content/uploads...   \n",
       "1     https://www.skinnytaste.com/wp-content/uploads...   \n",
       "2     https://www.skinnytaste.com/wp-content/uploads...   \n",
       "3     https://www.skinnytaste.com/wp-content/uploads...   \n",
       "4     https://www.skinnytaste.com/wp-content/uploads...   \n",
       "...                                                 ...   \n",
       "1375  https://www.skinnytaste.com/wp-content/uploads...   \n",
       "1376  https://www.skinnytaste.com/wp-content/uploads...   \n",
       "1377  https://www.skinnytaste.com/wp-content/uploads...   \n",
       "1378  https://www.skinnytaste.com/wp-content/uploads...   \n",
       "1379  https://www.skinnytaste.com/wp-content/uploads...   \n",
       "\n",
       "                          recipe_name  \\\n",
       "0              Mediterranean Sea Bass   \n",
       "1          Air Fryer Hard Boiled Eggs   \n",
       "2     Air Fryer Basil-Parmesan Salmon   \n",
       "3          Everything Parmesan Crisps   \n",
       "4         Potato and Green Bean Salad   \n",
       "...                               ...   \n",
       "1375                  Cuban Picadillo   \n",
       "1376           Dad's Cauliflower Soup   \n",
       "1377            Brazilian Black Beans   \n",
       "1378       Broiled Tilapia Oreganata    \n",
       "1379          Split Pea Soup with Ham   \n",
       "\n",
       "                                            Ingredients  \\\n",
       "0     ['olive', 'oil', 'pepper', 'kosher', 'salt', '...   \n",
       "1     ['eggs', 'salt', 'black', 'pepper', 'bagel', '...   \n",
       "2     ['olive', 'oil', 'salmon', 'fillets', 'skin', ...   \n",
       "3     ['seeds', 'minced', 'flakes', 'parmesan', 'ses...   \n",
       "4     ['beans', 'black', 'potatoes', 'green', 'olive...   \n",
       "...                                                 ...   \n",
       "1375  ['pepper', 'onion', 'cloves', 'garlic', 'mince...   \n",
       "1376  ['head', 'cauliflower', 'onions', 'water', 'ch...   \n",
       "1377  ['smoked', 'ham', 'hock', 'pork', 'chop', 'bay...   \n",
       "1378  ['oregano', 'tilapia', 'fillets', 'salt', 'pep...   \n",
       "1379  ['peas', 'olive', 'oil', 'onion', 'cloves', 'g...   \n",
       "\n",
       "                                             ingredient  \\\n",
       "0     1 tablespoons extra virgin olive oil, 1 cup ch...   \n",
       "1     4 large eggs, Salt (black pepper, everything b...   \n",
       "2     olive oil spray, 4 about 5 ounce each salmon f...   \n",
       "3     1/2 cup freshly grated Parmesan (not pre-grate...   \n",
       "4     3 1/2 pounds new potatoes (about 10 peeled and...   \n",
       "...                                                 ...   \n",
       "1375  1/2 large chopped onion, 2 cloves garlic (minc...   \n",
       "1376  1 large head cauliflower - chopped, 1/2 cup ch...   \n",
       "1377  Ingredients:, 1 smoked ham hock (or smoked por...   \n",
       "1378  1 tbsp finely chopped fresh oregano or 1 tsp d...   \n",
       "1379  16 ounce bag of dried split peas, 2 teaspoons ...   \n",
       "\n",
       "                                         Cooking_Method  index  \n",
       "0     Set the racks in the middle and upper thirds o...      0  \n",
       "1     Place the eggs in the air fryer basket and coo...      1  \n",
       "2     Air Fryer directions:, Preheat air fryer to 40...      2  \n",
       "3     Preheat the oven to 400F., Pour 2 tablespoon o...      3  \n",
       "4     Cook potatoes in a large pot of salted water u...      4  \n",
       "...                                                 ...    ...  \n",
       "1375  Brown meat on high heat in large saute pan and...   1375  \n",
       "1376  In a 5 quart saucepan, add all ingredients., C...   1376  \n",
       "1377  Soak bean over night. Discard water., In a pre...   1377  \n",
       "1378  Preheat broiler., Line broiling pan with alumi...   1378  \n",
       "1379  Wash the peas and drain., In a large pot or Du...   1379  \n",
       "\n",
       "[1380 rows x 7 columns]"
      ]
     },
     "execution_count": 32,
     "metadata": {},
     "output_type": "execute_result"
    }
   ],
   "source": [
    "recipes_data['index'] = range(0, 1380, 1)\n",
    "recipes_data"
   ]
  },
  {
   "cell_type": "code",
   "execution_count": 33,
   "id": "0fe7272f",
   "metadata": {},
   "outputs": [
    {
     "name": "stdout",
     "output_type": "stream",
     "text": [
      "['Ingredients']\n"
     ]
    }
   ],
   "source": [
    "# selecting the relevant features for recommendation\n",
    "selected_features = ['Ingredients']\n",
    "print(selected_features)"
   ]
  },
  {
   "cell_type": "code",
   "execution_count": 34,
   "id": "96675d2e",
   "metadata": {},
   "outputs": [],
   "source": [
    "# replacing the null valuess with null string\n",
    "for feature in selected_features:\n",
    "  recipes_data[feature] = recipes_data[feature].fillna('')"
   ]
  },
  {
   "cell_type": "code",
   "execution_count": 35,
   "id": "13f03361",
   "metadata": {},
   "outputs": [
    {
     "name": "stdout",
     "output_type": "stream",
     "text": [
      "0       ['olive', 'oil', 'pepper', 'kosher', 'salt', '...\n",
      "1       ['eggs', 'salt', 'black', 'pepper', 'bagel', '...\n",
      "2       ['olive', 'oil', 'salmon', 'fillets', 'skin', ...\n",
      "3       ['seeds', 'minced', 'flakes', 'parmesan', 'ses...\n",
      "4       ['beans', 'black', 'potatoes', 'green', 'olive...\n",
      "                              ...                        \n",
      "1375    ['pepper', 'onion', 'cloves', 'garlic', 'mince...\n",
      "1376    ['head', 'cauliflower', 'onions', 'water', 'ch...\n",
      "1377    ['smoked', 'ham', 'hock', 'pork', 'chop', 'bay...\n",
      "1378    ['oregano', 'tilapia', 'fillets', 'salt', 'pep...\n",
      "1379    ['peas', 'olive', 'oil', 'onion', 'cloves', 'g...\n",
      "Name: Ingredients, Length: 1380, dtype: object\n"
     ]
    }
   ],
   "source": [
    "# selected features\n",
    "features = recipes_data['Ingredients']\n",
    "print(features)"
   ]
  },
  {
   "cell_type": "code",
   "execution_count": 36,
   "id": "4631eb82",
   "metadata": {},
   "outputs": [
    {
     "name": "stdout",
     "output_type": "stream",
     "text": [
      "  (0, 561)\t0.16725140067710972\n",
      "  (0, 151)\t0.07560951148963109\n",
      "  (0, 1124)\t0.18428914281430112\n",
      "  (0, 1619)\t0.2435160139480384\n",
      "  (0, 362)\t0.23369328901675684\n",
      "  (0, 725)\t0.21984893579642742\n",
      "  (0, 598)\t0.1787400353326364\n",
      "  (0, 1822)\t0.2573603671683678\n",
      "  (0, 595)\t0.21984893579642742\n",
      "  (0, 1637)\t0.2573603671683678\n",
      "  (0, 1448)\t0.17112093795173797\n",
      "  (0, 308)\t0.2573603671683678\n",
      "  (0, 1512)\t0.1122981469929893\n",
      "  (0, 1113)\t0.149566556867257\n",
      "  (0, 834)\t0.18635913271353485\n",
      "  (0, 1244)\t0.16605322944925363\n",
      "  (0, 1832)\t0.1167184119534221\n",
      "  (0, 1821)\t0.09625016622227675\n",
      "  (0, 519)\t0.13548089963001692\n",
      "  (0, 885)\t0.10627673878160988\n",
      "  (0, 117)\t0.11644193776040784\n",
      "  (0, 827)\t0.2573603671683678\n",
      "  (0, 1716)\t0.0960980752078572\n",
      "  (0, 577)\t0.2024071134842474\n",
      "  (0, 604)\t0.12815157238670283\n",
      "  :\t:\n",
      "  (1378, 1200)\t0.12291502847010528\n",
      "  (1378, 1108)\t0.1339168910964221\n",
      "  (1378, 1112)\t0.1501696751916381\n",
      "  (1379, 174)\t0.2587914525747976\n",
      "  (1379, 1367)\t0.3711815617357355\n",
      "  (1379, 997)\t0.269906892038473\n",
      "  (1379, 81)\t0.3711815617357355\n",
      "  (1379, 769)\t0.34459570095233083\n",
      "  (1379, 1189)\t0.2513437856410779\n",
      "  (1379, 274)\t0.1965327195732439\n",
      "  (1379, 303)\t0.12393127702218461\n",
      "  (1379, 1535)\t0.24798488573805286\n",
      "  (1379, 729)\t0.269906892038473\n",
      "  (1379, 214)\t0.15838181472809332\n",
      "  (1379, 1546)\t0.16357534623828854\n",
      "  (1379, 940)\t0.1866419221384857\n",
      "  (1379, 1511)\t0.24185488120632662\n",
      "  (1379, 655)\t0.09094613604804871\n",
      "  (1379, 351)\t0.11640367936070713\n",
      "  (1379, 1116)\t0.10847371316986083\n",
      "  (1379, 1424)\t0.0680192569153372\n",
      "  (1379, 862)\t0.0956050170602586\n",
      "  (1379, 1200)\t0.07705931989028172\n",
      "  (1379, 1108)\t0.08395673562587243\n",
      "  (1379, 1112)\t0.09414612014857578\n"
     ]
    }
   ],
   "source": [
    "# converting the text data to feature vectors\n",
    "vectorizer = TfidfVectorizer()\n",
    "feature_vectors = vectorizer.fit_transform(features)\n",
    "print(feature_vectors)"
   ]
  },
  {
   "cell_type": "markdown",
   "id": "6fe95011",
   "metadata": {},
   "source": [
    "## Cosine Similarity"
   ]
  },
  {
   "cell_type": "code",
   "execution_count": 37,
   "id": "b519ffee",
   "metadata": {},
   "outputs": [
    {
     "name": "stdout",
     "output_type": "stream",
     "text": [
      "[[1.         0.03303096 0.14780993 ... 0.10983587 0.13857582 0.04540229]\n",
      " [0.03303096 1.         0.055518   ... 0.04801837 0.03557838 0.02230521]\n",
      " [0.14780993 0.055518   1.         ... 0.09486906 0.21836844 0.10377542]\n",
      " ...\n",
      " [0.10983587 0.04801837 0.09486906 ... 1.         0.07578148 0.30738592]\n",
      " [0.13857582 0.03557838 0.21836844 ... 0.07578148 1.         0.05542579]\n",
      " [0.04540229 0.02230521 0.10377542 ... 0.30738592 0.05542579 1.        ]]\n"
     ]
    }
   ],
   "source": [
    "# getting the similarity scores using cosine similarity\n",
    "similarity = cosine_similarity(feature_vectors)\n",
    "print(similarity)"
   ]
  },
  {
   "cell_type": "code",
   "execution_count": 38,
   "id": "87161d93",
   "metadata": {},
   "outputs": [
    {
     "name": "stdout",
     "output_type": "stream",
     "text": [
      "(1380, 1380)\n"
     ]
    }
   ],
   "source": [
    "print(similarity.shape)"
   ]
  },
  {
   "cell_type": "markdown",
   "id": "32d929e2",
   "metadata": {},
   "source": [
    "## Getting the ingredients from the user"
   ]
  },
  {
   "cell_type": "code",
   "execution_count": 39,
   "id": "56587a87",
   "metadata": {},
   "outputs": [
    {
     "name": "stdout",
     "output_type": "stream",
     "text": [
      " Enter your ingredients : Chicken\n"
     ]
    }
   ],
   "source": [
    "# getting the ingredients from the user\n",
    "ingred = input(' Enter your ingredients : ')"
   ]
  },
  {
   "cell_type": "code",
   "execution_count": 40,
   "id": "7043b732",
   "metadata": {},
   "outputs": [
    {
     "name": "stdout",
     "output_type": "stream",
     "text": [
      "['Mediterranean Sea Bass', 'Air Fryer Hard Boiled Eggs', 'Air Fryer Basil-Parmesan Salmon', 'Everything Parmesan Crisps', 'Potato and Green Bean Salad', 'Green Detox Soup with Toasted Hemp Gremolata', 'Ham and Swiss Crustless Quiche', 'Strawberries Romanoff', 'Smoked Salmon Breakfast Flatbread', 'Ranch Chicken Salad', 'Avocado Egg Rolls with Sweet and Spicy Dipping Sauce', 'Quickest Cast-Iron Thin Crust Pizza', 'Tex-Mex Migas', 'Key Lime Yogurt Pie', 'Chicken Parmesan Lasagna', 'Chicken and Asparagus Lemon Stir Fry', 'Turkey Meatloaf', 'Steamed Mussels with Piri Piri Sauce', 'Chicken Club Lettuce Wrap Sandwich', 'Houston’s Grilled Chicken Salad', 'Zucchini Banana Cake with Cream Cheese Frosting', 'Grilled Pesto Chicken Couscous Bowls', 'How To Make Nut Butter', 'Grilled Lobster Tails with Herb Garlic Butter', 'Low Carb Potato Salad', 'Grilled Corn Salad with Feta', 'Soy Marinated Flank Steak', 'Taco Empanadas', 'Shrimp Scampi Foil Packets', 'Potato and Broccoli Cakes', 'BBQ Chicken Quesadilla', 'Chicken Salad with Lemon and Dill', 'Veggie Ham and Cheese Egg Bake', 'Skillet Taco Cauliflower Rice', 'Spinach Ricotta Quiche', 'Honey Lemon Bars', 'Heather’s Buddha Bowl', 'Swiss Chard Eggs Benedict', 'Freezer Breakfast Burritos', 'How To Make Perfect Hard Boiled Eggs Every Time', 'Shrimp, Peas and Rice', 'Apricot-Rum Glazed Spiral Ham', 'Green Bean Salad', 'Cream of Asparagus Soup', 'Yogurt Waffles', 'Slow Cooker Split Pea Soup with Ham Hock', 'Sesame Crusted Tuna Steak on Arugula', 'White Bean Turkey Chili', 'Shrimp Scampi with Broccoli Orzo', 'Chicken Roll Ups with Broccoli and Cheese', 'Seattle Smoked Salmon Chowder', 'Instant Pot Chicken Parmesan', 'Chicken and Avocado Soup', 'Instant Pot Corned Beef and Cabbage', 'Instant Pot Steel Cut Oats', 'Meal Prep Taco Salad', 'Cauliflower Rice Chicken Biryani', 'Cheddar Corn Chowder with Bacon', 'Huevos Pericos (Colombian Scrambled Eggs)', 'Roasted Salmon with Fresh Herbs', 'Chicken Noodle Soup', 'Air Fryer Bacon Wrapped Chicken Bites', 'Braised Chicken Thighs with Mushrooms and Leeks', 'Tex Mex Breakfast Casserole', 'Baked Beef and Cheese Manicotti (Cannelloni)', 'Baked Scallops', 'Houston’s (Lightened-Up) Kale Salad with Peanut Vinaigrette', 'Pasta with Butternut Sauce, Spicy Sausage and Baby Spinach', 'Crock Pot Applesauce', 'Cinnamon Apple Crisp', 'Potato Leek Soup', 'Maple Pecan Banana Muffins', 'Basil Chicken and Tomato Salad', 'Low-Carb Zucchini Enchilada Roll Ups', 'Skinny Baked Broccoli Macaroni and Cheese', 'Tomato Salad', 'Cheesy Jalapeño Popper Baked Stuffed Chicken', 'Ahi Poke Bowl', 'Chopped Wedge Salad', 'Chicken Shawarma Kebab Salad', 'Greek Chickpea Salad', 'Angel Hair with Zucchini and Tomatoes', 'Peruvian Green Sauce', 'Zucchini Pork Dumplings', 'Flourless Cheesecake Brownies', 'Chicken Tzatziki Bowl', 'Honey-Teriyaki Salmon and Asparagus Veggie Rice Bowls', 'Yogurt Chocolate Chip Muffins', 'Avocado Fries with Lime Dipping Sauce', 'Chopped Salad with Shrimp, Blue Cheese and Bacon', 'Southwest Chicken Skillet', 'Strawberry Peanut Butter Swirl Smoothie Bowls', 'Classic Deviled Eggs', 'Moroccan Meatballs', 'Roasted Asparagus', 'Instant Pot Brown Sugar Baked Beans', 'Teriyaki Chicken and Asparagus Stir-Fry', 'Carrot Ginger Soup', \"General Tso's Chicken\", \"Houston's Couscous\", 'Beef and Mushroom Ragu with Spaghetti Squash', 'Gingerbread Christmas Tree Cookies', 'Leftover Ham Bone Soup with Potatoes and Cabbage', 'Slow Cooker Spiral Ham with Apricot-Dijon Glaze', 'Spinach Lasagna Rolls', 'Stuffed Pepper Soup', 'Air Fryer Sweet Potato Fries', 'Homemade Spinach Manicotti', 'Mexican Pinto Beans', 'Slow Cooker Salsa Chicken with Black Beans and Corn', 'Veggie Latkelles (Waffled Latkes) with Lox', \"Portobello Shepherd's Pie\", 'Spiralized Winter Veggie Gratin', 'Carne Asada Salad', 'Roasted Brussels Sprouts, Butternut Squash and Bacon with Maple Soy Glaze', 'Garlic Shrimp in Coconut Milk, Tomatoes and Cilantro', 'Pepper Steak', 'Balsamic Roasted Veggie and White Bean Pasta', 'Chicken and Shrimp Laap', 'Chicken Thighs with Artichoke Hearts and Feta Cheese', 'Cedar Plank Spice-Rubbed Salmon', 'Instant Pot Chicken Tikka Masala with Cauliflower and Peas', 'Seared Tuna Salad with Wasabi Butter Sauce', 'Honey Balsamic Grilled Chicken and Vegetables', 'Grilled Salmon with Avocado Bruschetta', 'Summer Cavatelli with Corn, Tomatoes and Zucchini', 'Orecchiette Pasta with Chicken Sausage and Broccoli', 'Zucchini Rollatini', 'Lentil Bowls with Avocado, Eggs and Cholula', 'Ahi Tuna Watermelon Salad', 'Pesto-Parmesan Baked Tomatoes', 'Grilled Salmon Kebabs', 'BLT Lettuce Wraps', 'Greek Mac and Cheese', 'Grilled Prosciutto Wrapped Asparagus', 'Bento Box Turkey Club Roll Ups', 'Bacon Egg and Avocado Bagel Breakfast Sandwich', 'Zucchini and Feta Fritters', 'Grilled Pizza', 'Grilled Bourbon Chicken', 'Baked Chicken Milanese with Arugula Salad and Tomatoes', 'Spicy Thai Salad', 'Corn Tomato Avocado Salad', 'Italian Chopped Salad', 'Chopped Feta Salad', 'Za’atar Lamb Chops', 'Steak Kebabs with Chimichurri', 'Grilled Clams in Foil', 'Mexican Shrimp Cobb Salad', 'Grilled Peach and Watermelon Burrata Salad', 'Chicken Waldorf Salad', 'Leftover Turkey Pot Pie Empanadas', 'Easiest Slow Cooker Sweet Potatoes', 'Instant Pot Deviled Eggs', 'Roast Chicken with Rosemary and Lemon', 'Spicy Sausage and Brussel Sprouts Foil Packets', 'Hash Brown Recipe', 'Air Fryer Turkey Breast', 'Chicken Sausage and Herb Stuffing', 'Loaded Baked Sweet Potato “Healthified”\\xa0', 'Cheeseburger Soup', 'Shrimp Fajita Bowls', 'Pumpkin Turkey Chili', 'Not-Fried Pinto Beans', 'No Bean Turkey and Sweet Potato Chili', 'Cream of Broccoli Soup', 'Cilantro Lime Fish Tacos', 'Kale and Potato Soup with Turkey Sausage', 'Banana Foster Crepes', 'Instant Pot Chicken Taco Chili', 'Food Cart-Style Chicken Salad with White Sauce', 'Honey Garlic Shrimp', 'Crustless Broccoli & Cheddar Quiche', 'Chicken Thighs with Shallots in Red Wine Vinegar (Poulet Au Vinaigre)', 'Buffalo Chicken Egg Rolls', 'Jalapeno Popper \"Nachos\"', 'No Bake Peanut Butter Pie', 'Buffalo Chicken Dip', 'Fish Florentine', 'King Crab Cauliflower Fried Rice', 'Red Lentil Soup', 'Cheesy Rotisserie Chicken Enchilada Skillet', 'Classic Egg Salad', 'Best Skinny Eggplant Rollatini with Spinach', 'Turmeric Golden Milk Popsicles', 'Union Cantina Lobster Tacos', 'Spicy Breakfast Fajitas with Eggs and Guacamole', 'Lobster Cobb Salad', 'Chicken and Mushrooms in a Garlic White Wine Sauce', 'Taco Stuffed Zucchini Boats', 'Grilled Bruschetta Chicken', 'The Best Enchilada Sauce Recipe', 'Turkey Enchilada Stuffed Poblanos Rellenos', 'Enchilada Chicken Roll-Ups', 'Turmeric Braised Chicken with Golden Beets and Leeks', 'Gluten-Free, Dairy-Free, Blueberry Oatmeal Muffins', 'Parmesan Crusted Delicata Squash', 'Philly Cheesesteak Stuffed Portobello Mushrooms', 'Brussels Sprouts and Sausage Parsnip Spiralized Pasta', 'Chicken Pesto Bake', 'Stuffed Turkey Breasts with Butternut Squash and Figs', 'Waffled Crab Cakes', 'Chickpea Avocado Salad', 'Instant Pot One-Pot Spaghetti with Meat Sauce', 'Delightfully Baked Apples', 'Chicken Parmesan in the Air Fryer', 'Crispy Breaded Pork Chops in the Air Fryer', 'California Spicy Crab Stuffed Avocado', 'Air Fryer Beef Empanadas', 'Grilled Steak With Tomatoes, Red Onion and Balsamic', 'Colombian-Style Zucchini Rellenos', 'Grilled Garlic and Herb Chicken and Veggies', 'Pickle Ham and Swiss Chicken Roll Ups (Cuban Chicken)', 'Instant Pot Chipotle Chicken Bowls with Cilantro Lime Quinoa', 'Stuffed Bagel Balls', 'Mixed Berry Pie', 'Indian Shrimp Curry', 'Instant Pot Turkey Meatball and Ditalini Soup', 'Czech Crepes with Berries and Cream', 'Tostones (Twice Air Fried Plantains)', \"Dad's Creamy Cauliflower Soup\", 'Cilantro Lime Shrimp', 'Easy Garlic Knots', 'Cheese Stuffed Turkey Meatloaf Recipe', 'Cauliflower Rice Arancini', 'Instant Pot Mashed Potatoes', 'Easy Shredded Harrisa Chicken', 'Slow Cooker Chickpea Sweet Potato Stew', 'Pollo in Potacchio (Braised Chicken with Tomatoes and Rosemary)', 'Baked Spaghetti Squash and Cheese', 'Air Fryer Chicken Nuggets', 'Super Moist Carrot Cake with Cream Cheese Frosting', 'Cajun Shrimp in Foil', 'Easy Bagel Recipe', 'Smoked Salmon Pinwheels', 'Chicken Rollatini with Spinach alla Parmigiana', 'Hot Cross Buns', 'Strawberry Crisp', 'Tuna Salad Deviled Eggs', 'Easy Crust-less Spinach and Feta Pie', 'Crock Pot Corned Beef and Cabbage', 'Corned Turkey and Cabbage Dinner', 'Whole Wheat Irish Soda Bread Muffins', 'Blackened Scallops with Horseradish Sauce', 'Chickpea Egg Salad', 'Breakfast Pizza Recipe', 'Chickpea Tuna Salad', 'Bangin Good Shrimp', 'Meal Prep Breakfast Taco Scramble', 'Makeover Spinach Gratin', 'Slow Cooker Chicken and Sausage Creole', 'Roasted Brussels Sprouts and Butternut Squash', 'Skinny Garlic Mashed Potatoes', 'Bacon Parmesan Spaghetti Squash', 'Sautéed Brussels Sprouts with Pancetta', 'Stuffed Sweet Potatoes Italian Style', 'Instant Pot Bolognese', 'French Bread Pizza Mummies', 'Brussels Sprouts Gratin', 'Air Fryer French Fries', 'Instant Pot Garlicky Cuban Pork', 'Quick Beef Chili Recipe (Instant Pot or Stove Top)', 'Easy No-Cook Salsa Recipe', 'Turkey Chili Stuffed Acorn Squash', 'Pork Chops with Dijon Herb Sauce', 'Chicken Marsala Meatballs', 'One-Pot Spaghetti and Meat Sauce (Stove-Top recipe)', 'Pumpkin Mac and Cheese with Roasted Veggies', 'Goat Cheese Herb Omelet with Lox', 'Asparagus and Green Lentils with Poached Egg', 'Instant Pot Chicken Cacciatore', 'Grilled Chicken Salad with Strawberries and Spinach Recipe', 'Baked Shrimp Taquitos', 'Salsa Verde', 'Asian Peanut Noodles with Chicken – Lightened Up', 'One Pan Parmesan-Crusted Chicken with Broccoli', 'Naked Greek Feta-Zucchini Turkey Burgers', 'Grilled Shrimp Salad with Orange, Endive, Baby Arugula and Radicchio', 'Berry Salad with Almond-Cranberry Crusted Goat Cheese', 'Breakfast BLT Salad', 'Pressure Cooker Split Pea Soup with Ham', 'Skillet Cheesy Chicken and Veggie \"Rice\"', 'How to Make Perfect Eggs in the Instant Pot', 'Cauliflower Fried \"Rice\" with Leftover Ham', 'Skillet Chicken and Broccoli Veggie Tot Pie', 'Shoyu Ahi Poke', 'Asparagus & Caramelized Onion Tartlets', 'Chicken Soup with Spinach and Whole Wheat Acini di Pepe', 'Braised Cubed Steak with Peppers and Olives Recipe (Instant Pot, Slow Cooker and Stove-Top)', 'Sheet Pan Shrimp with Broccolini and Tomatoes', 'Asparagus Egg and Bacon Salad with Dijon Vinaigrette', 'Instant Pot Black Beans', 'Skillet Cauliflower \"Arroz\" Con Pollo', 'Slow Cooker Italian Beef Hoagies', 'Chicken and White Bean Enchiladas with Creamy Green Chile Sauce', 'Sticky Tamarind Chicken with Crisp Lettuce', 'Sheet Pan Home Fries', 'Sheet Pan Balsamic-Herb Chicken and Vegetables', 'No-Bake Strawberries and Cream Crêpe Cake', 'Shrimp Cakes', 'Scallop Tostadas', 'Filipino Adobo Chicken', 'Asian Beef Zoodle Soup (Whole30)', 'Raw Brussels Sprouts and Chick Pea Salad in a Jar with Artichokes, Sun Dried Tomatoes and Asiago', '4-Ingredient Flourless Banana-Nut Pancakes', 'Skillet Lemon Chicken with Olives and Herbs', 'Italian Pulled Pork Ragu (Instant Pot, Slow Cooker, Stove)', 'Chickpea Tomato Soup with Rosemary (Instant Pot, Slow Cooker and Stove Top)', 'Dark Chocolate Nut Clusters with Sea Salt', 'Fettuccini with Winter Greens and Poached Egg', 'Chicken Enchiladas', 'Shrimp Ceviche Cocktail', 'Spaghetti Squash Primavera', 'Sheet Pan Teriyaki Salmon and Vegetables', 'Baked Ziti with Spinach', 'Skinny Cranberry Bliss Bars', 'Cheesy Baked Penne with Roasted Veggies', 'Slow Cooker Moroccan Chicken & Olive Tagine', 'Sweet Potato and Carrot “Tots”', 'Leftover Turkey Tacos with Brussels Sprout Slaw', 'Cranberry Pear Sauce', 'Protein Egg and Quinoa Salad Jars', 'Crock Pot Chicken Enchilada Soup', 'Grilled Romaine, Corn and Chicken Salad with Salsa Dressing', 'Zucchini Carpaccio', 'Mexican Cauliflower \"Rice\"', 'Grilled Steak Lettuce Tacos', 'Hummus Avocado Toast', 'Veggie Lasagna Zucchini Boats', 'Grilled Rosemary Lamb Chops', 'Grilled Shrimp and Vegetable Bowl', 'Slow Cooker Beef Meatballs with Broccoli Rabe', 'Spiralized Summer Roll Bowls with Hoisin Peanut Sauce', 'Loaded \"Nacho\" Chicken Tostada', 'Shredded Raw Brussels Sprout Salad with Bacon and Avocado', 'Mediterranean Bean Salad', 'Gochujang-Glazed Salmon', 'Quick Garlic Lime Marinated Pork Chops', 'Garlicky Shrimp Stir-fry\\xa0with Shiitakes and Bok Choy', 'Turkey Stuffed Peppers', 'Slow Cooker Blissful Butternut Squash Soup', \"Sweet 'n Spicy BBQ Turkey Meatballs with Bacon\", 'Bacon Topped Petite Turkey Meatloaf with BBQ Sauce', 'Roasted Seasoned Winter Squash Medley', 'Spicy Garlic Edamame', 'Easy 3-Ingredient Low-Fat Graham Cracker Crust', 'Spicy California Shrimp Stack', 'Eggs Pizzaiola', 'Pumpkin Spice No-Bake Cheesecake', 'Pumpkin Spice Cream Cheese', 'Cucumber, Parsley, Pineapple and Lemon Smoothie', 'Slimmed Down Shrimp Po’ Boy', 'Chipotle Chicken Zucchini \"Fideo\" Soup (Slow Cooker or Instant Pot)', 'One-Pot Chicken Fajita Pasta', 'Slow Cooker Paleo Jalapeno Popper Chicken Chili', 'Crockpot Apple Butter', 'Whipped Coconut Cream', 'Veggie Lasagna Stuffed Portobello Mushrooms', 'Un-stuffed Cabbage Bowls', 'Roasted Sweet Potato Kale and Dried Cherries, Feta & Pepitas', 'Burger Bites', 'Crab Cakes Benedict with Avocado Relish', 'Asian Turkey Meatballs with Gochujang Glaze', 'Hot Spinach Dip', 'Mini Bell Pepper Loaded Turkey \"Nachos\"', 'Whole Wheat Pancakes', 'Quinoa Huevos Rancheros Bowls', 'Roasted Cauliflower \"Rice\" with Garlic and Lemon', 'Chicken Rollatini with Sun Dried Tomato Bruschetta, Mozzarella and Spinach', 'Turmeric Roasted Sweet Potato and Macadamia Soup', 'Instant Pot Tomato Basil Soup', 'Chunky Beef, Cabbage and Tomato Soup (Instant Pot or Stove Top)', 'Sloppy Joes Baked Sweet Potatoes', 'Enchiladas Verdes (Green Enchiladas)', 'Roasted Brussels Sprouts and Cauliflower Soup', 'Chicken Taco Chili Stuffed Peppers', 'Open-Faced Omelet with Avocado and Pico de Gallo', 'Sesame Orange Broccoli', 'Instant Pot Pork Carnitas (Mexican Pulled Pork)', 'Instant Pot Picadillo', 'Breakfast Burrito Bowl with Spiced Butternut Squash', 'Turmeric Roasted Cauliflower Soup', 'Hot Spinach Artichoke Dip', 'Spinach, Feta, and Artichoke Breakfast Bake', 'Skillet Chicken Cordon Bleu', 'Hot Chicken Philly Cheesesteak Dip', 'Roasted Cauliflower and Chickpeas with Minted Yogurt', 'Open-Faced Omelet with Feta, Roasted Tomatoes, and Spinach', 'Chicken and Zucchini Noodle Caprese', 'Spaghetti Squash Sausage Lasagna Boats', 'Spaghetti Squash Enchilada Bowls', 'Slow Cooker Pork and Gandules (Pigeon Peas) Stew', 'Instant Pot (Pressure Cooker) Chicken and Lentil Soup', 'Cauliflower Nuggets', 'Arugula Salad with Crispy Proscuitto, Parmesan and Fried Eggs', 'Turkey Meatball Stroganoff (Instant Pot, Slow Cooker or Stove Top)', 'Slow Cooker Turkey Breast with Gravy', 'Giant Turkey Meatball Parmesan', 'Sicilian Rice Ball Casserole', 'Harvest Kale Salad with Roasted Winter Squash', 'Buffalo Brussels Sprouts with Crumbled Blue Cheese', 'Maple Soy Glazed Salmon', 'Slow Cooker 3-Bean Turkey Chili', 'Tortilla Encrusted Chicken Tenders', 'Turkey Taco Spaghetti Squash Boats', 'Butternut Squash Gratin', 'Sheetpan Italian Chicken and Veggie Dinner', 'Crispy Togarashi Chicken with Sesame Cucumber Relish', 'Roasted Delicata Squash with Turmeric', 'Donut-Shaped Apple Snacks', 'Noodle-less Butternut-Sausage Lasagna', 'Stuffed Delicata Squash with Chicken Sausage-Mushroom Stuffing', 'Shrimp Scampi Tacos with Caesar Salad Slaw', 'Navy Bean, Bacon and Spinach Soup (Pressure Cooker, Slow Cooker or Stove Top)', 'Chicken Curry with Coconut Milk', 'Turkey Chili Taco Soup', 'Lentils and Rice with Eggs and Bacon', 'Late Summer Vegetable Enchilada Pie', 'One-Pot Spaghetti Squash and Meat Sauce (Pressure Cooker and Slow Cooker)', \"Madison's Favorite Slow Cooker Beef Tacos\", 'Blackened Chicken Fiesta Salad', 'One Skillet Chicken with Bacon and Green Beans', 'Chilled Italian Shrimp and Tortellini Salad', 'Baked Potato Soup', 'Broccoli Rabe and Sausage Parsnip Pasta', 'French Bread Pizza Caprese', 'Lobster Asparagus Chopped Salad', 'Summer Corn, Tomato and Avocado Salad with Creamy Buttermilk-Dijon Dressing', 'Tomato Tuna Melts', 'Prosciutto, Mozzarella and Fig Salad with Arugula', 'Salisbury Steak Meatballs (Instant Pot, Stove Top, Slow Cooker)', 'Pressure Cooker Stewed Chicken with Corn (Pollo Guisado con Maiz)', \"Dina's Tossed Mushrooms\", 'Cobb Salad in a Jar with Buttermilk Ranch', 'Grilled Brussels Sprouts with Balsamic Glaze', 'Watermelon Feta Arugula Salad in Jars', 'Rainbow Potato Salad', 'Slow-Cooker Banh Mi Rice Bowls', 'Cheeseburger Salad', 'Barbacoa Beef (Pressure Cooker or Instant Pot)', 'Skillet Fish Fillet with Tomatoes, White Wine and Capers', 'Watermelon, Jicama and Cucumber Salad', 'Honey Teriyaki Drumsticks', 'Gochujang-Honey Glazed Shrimp Skewers', 'Veggie Hummus Cucumber Boats', 'Baked Zucchini Sticks', 'Easy Roasted Lemon-Garlic Shrimp', 'Roasted Spiralized Butternut Squash Noodles', 'Chicken with Roasted Tomato and Red Onions', 'Grilled Chicken Satay with Spicy Peanut Sauce', 'Five-Ingredient Chocolate Cheesecake Cups', 'Baked Sweet Potato Skins', 'Breaded Pork Cutlets with Lime', 'Jamaican Coconut Shrimp Stew', 'Puerto Rican Style Beans', 'Loaded Baked Omelet Muffins', 'Balsamic Chicken with Roasted Vegetables', 'Skinny Baked Mozzarella Sticks', 'Shrimp Summer Rolls with Peanut Hoisin Dipping Sauce', 'Broiled Miso Salmon', 'Asian Chopped Salad with Sesame Soy Vinaigrette (In a Jar)', 'Beef, Tomato and Acini di Pepe Soup (Instant Pot, Slow Cooker + Stove Top)', '16 Bean Soup with Ham and Kale', 'Instant Pot (Pressure Cooker) Easy Salsa Shredded Chicken', 'Chicken Sausage and Peppers Macaroni Casserole', 'Leftover Turkey and Sweet Potato Frittata', 'Roasted Rainbow Carrots with Ginger', 'Parmesan Hasselback Sweet Potatoes with Balsamic Glaze', 'Beef and Kabocha Squash Stew (Slow Cooker or Instant Pot)', 'Flourless Chocolate Cake', 'Berry Quinoa Breakfast Bowls', 'Slow Cooker Cranberry-Pear Butter', 'Turkey Cutlets with Parmesan Crust', 'Pumpkin Pie Dip', 'Broccoli Cheese and Potato Soup', 'Hearty Vegetarian Pumpkin Chili', 'Seattle Sunshine Bowl', 'Spicy BBQ Spiced Pumpkin Seeds', 'Quick Mexican Brown Rice', 'Apple-Stuffed Pork Loin with Moroccan Spices', 'Skinny Pumpkin Pie', 'Rosemary Chicken Salad with Avocado and Bacon', 'Pumpkin Banana Pecan Bread', 'Avocado Toast with Lemon and Kale', 'Spiralized Carrot Salad with Lemon and Dijon', 'North African Spiced Shrimp and Chickpea Salad', 'Grilled Balsamic Steak with Tomatoes and Arugula', 'Easy Braised Chicken Drumsticks in Tomatillo Sauce (Instant Pot, Slow Cooker or Stove Top)', 'Breaded Chicken Cutlets with Deconstructed Guacamole', 'Asparagus-Pancetta Potato Hash', 'Miami Avocado Crab Toast', 'Skillet Chicken in Tomato Chipotle Sauce With Avocado Crema', 'Asian Lettuce Wrap Chicken Chopped Salad', 'Pickle-Brined Baked Chicken Tenders', 'Updated Waldorf Salad Cups', 'Creamy Cauliflower Mash with Kale (Low-Carb Colcannon)', 'Korean Beef Rice Bowls', 'Raw Spiralized Beet & Mandarin Salad with Mint', 'Rueben Stuffed Pork Tenderloin', 'BBQ Chicken Salad', 'Shrimp Ceviche Stuffed Avocado\\xa0', 'Brussels Sprouts Carbonara', 'Thai Basil Chicken', 'Roasted Heirloom Carrots with Feta, Truffle and Lemon Zest', 'Strawberry Cucumber Salad', \"Gluten-Free S'mores Tartlets\", 'White Bean Caprese Salad', 'Low Fat Chocolate Chip Zucchini Bread', 'Zucchini Meatballs', 'Korean Grilled Chicken Breasts', 'Mixed Berry Tartlet with Dark Chocolate and Vanilla Whipped Cream', 'Avocado and Lump Crab Salad', 'Quick Spiralized Zucchini and Grape Tomatoes', 'Basil-Cucumber Gin Cooler', 'Eggplant \"Meatballs\"', 'Sausage Stuffed Zucchini Boats', 'Grilled Mediterranean Cedar Plank Salmon', 'Lemon and Ginger Ice Pops', 'Green Scallop Tacos', 'Turkey Santa Fe Zucchini Boats', 'Summer Mango Stone Fruit Smoothie', 'Red, White and Blueberry Trifle', 'Skinny Shrimp Salsa', 'Petite Crust-less Quiche', 'Deep Dish Chocolate Chip Cookie Pie', 'Oven Roasted Cauliflower', 'Turkey Sausage Patties From Scratch', 'Perfect Filet Mignon for Two', 'Sticky Baked Chicken with Apricot, Sage and Lemon Zest', 'Spiralized Mediterranean Beet and Feta Skillet Bake', 'Chicken Sweet Potato and Kale Soup', 'Avocado Toast Egg-in-a-Hole', 'Chicken Barley Soup', 'Buffalo Chicken Meatballs', 'Lasagna Soup', 'Chicken Zoodle \"Lo Mein\" For Two', 'Avocado Toast with Sunny Side Egg', 'Crab Guacamole', 'Poached Pears with Yogurt', 'Bang Bang Chicken Salad', 'Seattle Asian Salmon Bowl', 'BLT Salad with Avocado', 'Pressure Cooker Smoked Turkey Black Bean Soup', 'Healthy Avocado Egg Salad and Salmon Sandwich', 'Grilled Fennel with Parmesan and Lemon', 'Stir Fried Pork and Veggies', 'Sprinkle Dipped Meringues', 'Blueberry Banana Bread', 'Mustard & Herb Crusted Chicken Breasts', 'Crock Pot Honey Sesame Chicken', 'Shrimp Zoodles Parmesan for Two', 'Spiralized Apple and Cabbage Slaw', 'Mushroom Ceviche', 'Spiralized Sweet Potato Latkes', 'Roasted Boneless Leg of Lamb', 'Southwestern Black Bean, Quinoa and Mango Medley', 'Healthy Salmon Quinoa Burgers', 'Baked Eggs in Spaghetti Squash Nests', 'Coconut Macaroon Nests', 'Coconut Obsessed Pie', \"Shepherd's Pie, Lightened Up\", 'Skillet Sweet Potato Chicken Hash with Eggs', 'Roasted Brussels Sprouts and Shallots with Balsamic Glaze', 'Bell Pepper and Potato Frittata', 'Spiralized Mexican Sweet Potato and Chicken Casserole', 'Stuffed Chicken Breast with Prosciutto, Pears and Brie', 'Fig Balsamic Pork Tenderloin', 'Spiralized Shanghai Beef and Broccoli', 'Baked Pears with Walnuts and Honey', 'Spicy Whole Wheat Linguini with Sausage and Roasted Peppers', 'Baked Chicken with Dijon and Lime', 'Maple Roasted Butternut Squash', 'Caramelized Apple Onion Soup\\xa0', 'Crock Pot Sazon Pork Chops with Peppers, Olives and Potato', \"Gluten-Free Banana Nut Bread (with Bob's Red Mill GF All-Purpose Flour)\", 'Quinoa Fiesta Enchilada Bake', 'Skinny Garlic Parmesan Fries', 'Crock Pot Maple Dijon Chicken Drumsticks', 'Turkey Picadillo Stuffed Sweet Plantains', 'Chia Watermelon Fresca', 'Buffalo Chicken and Bean Chili', 'Applesauce Nut Bread', 'BBQ Chicken Chili', 'Asian Farro Medley with Salmon', 'Grilled Rainbow Peppers with Herb Cream Cheese', 'Grilled Veggie Towers with Mozzarella', 'Watermelon Feta and Balsamic \"Pizzas\"', 'Greek 7 Layer Dip', 'Weeknight Skillet Sazon Chicken Tenders', 'Raw Spiralized Zucchini Noodles with Tomatoes and Pesto', 'Homemade Sazon Seasoning Mix', 'Grilled Shrimp Scampi Skewers', 'Grilled Peaches With Honey and Yogurt', 'Turmeric-Garlic Shrimp with Cabbage-Mango Slaw', 'Grilled Scallop and Orange Kebabs with Honey-Ginger Glaze', 'Watermelon \"Caprese\" with Balsamic Glaze', 'Skirt Steak, Baby Bok Choy and Zucchini Stir-Fry', 'Overnight Oats with Figs and Honey', 'Grilled Flank Steak with Chimichurri', 'Tuna Lettuce Wrap with Avocado Yogurt Dressing', 'Skillet Basil-Peach Chicken Breasts', 'Grilled Chicken Tacos with Lettuce Slaw, Avocado and Cotija', 'Tequila Lime Shrimp', 'Grilled Pesto Shrimp Skewers', '5-Ingredient Almond Cake with Fresh Berries', 'Quick Cabbage Slaw', 'Green Harissa Salmon', 'Grilled Lemon Dijon Chicken Skewers', 'Quick Mussels Fra Diavolo', 'Turkey Burgers with Zucchini', 'Blackened Fish Tacos with Cabbage Mango Slaw', 'Shrimp Scampi Zoodles for Two', 'EASY 5-Ingredient Nutella Almond Butter Cookies', 'Mini Greek Spinach Pies', 'One Pot Cheesy Turkey Taco Chili Mac', 'Sausage, Cheese and Veggie Breakfast Casserole', 'White Chocolate Oatmeal Lace Cookies', 'Pressure Cooker Pozole (Pork and Hominy Stew)', '3-Ingredient Almond Butter Cookies', 'Loaded Cauliflower \"Mash\" Bake', 'Raw Shredded Brussels Sprouts with Lemon and Oil', 'Broccoli and Cheese Tots', 'Slow Cooker Lemon Feta Drumsticks', 'Creamy Lentil Soup', 'Thai Chicken Peanut Lettuce Tacos', 'Oven \"Fried\" Breaded Pork Chops', 'Cauliflower Leek Soup', 'Cilantro-Lime Roasted Cauliflower', 'Butternut Stuffed Turkey Tenderloin with Cranberries and Pecans', 'Slow Cooker Moroccan Chickpea Stew', 'Massaged Raw Kale Salad', 'Baked Buffalo Chicken Nuggets', 'Mini Turkey Meatball Vegetable Soup', 'Naked Salmon Burgers with Sriracha Mayo', 'Coconut Lime Raspberry Chia Pudding', 'Steak & Caramelized Onions with Arugula and Penne', 'Chilled Lobster Salad with Sweet Summer Corn and Tomatoes', 'Grilled Mediterranean Chicken and Quinoa Salad', 'Summer Breakfast Quinoa Bowls', 'Kung Pao Chicken Zoodles For Two', 'Minestrone Soup', 'Mediterranean Boneless Pork Chops with Julienned Vegetables', 'Lentil salad', 'BBQ Shrimp Skewers', 'Piña Banana Colada Smoothie', 'Italian Tuna and Brown Rice Salad (Riso e Tonno)', 'Lomo Saltado (Peruvian Beef Stir Fry)', 'Red White + Blue Fruit Pizza', 'Three Cheese Zucchini Stuffed Lasagna Rolls', 'Salsa Verde Burgers', 'Citrus Basil Mojito Pops', \"Sweet 'n Spicy Asian Glazed Grilled Drumsticks\", 'Cream of Zucchini Soup', 'Chicken Ropa Vieja', 'Zucchini Tots', 'Crab and Avocado Phyllo Bites', 'Skinny Buffalo Chicken Strips', 'PB & J Healthy Oatmeal Cookies', 'Easy Macaroni Casserole', 'Three Cheese Mushroom and Tortellini Soup', 'Spinach and Feta Stuffed Chicken Breasts', 'Crock Pot Balsamic Pork Roast', 'Blueberry Kale Smoothie', 'Chicken Pot Pie Soup', 'Black-eyed Pea Dip', 'Chocolate Chip Clouds', 'Dark Chocolate Oatmeal Lace Cookies', 'Banana Cranberry Bread', 'Easy Garlic Broccolini', 'Baked Salmon Cakes', 'Vanilla Bean Panna Cotta with Strawberries', 'To Die For Coconut Cookies', 'Turkey Santa Fe Lettuce Wraps', 'Chicken and Lentil Soup', 'Ceviche Cucumber Cups', 'Cranberry Swirl Cheesecake Squares', 'Light and Easy Cauliflower Gratin', 'Loaded Philly Cheesesteak Baked Potato', 'Slow Cooker Garlic Sweet Potato Mash', 'Cheesy Baked Pumpkin Pasta', 'Maple Cranberry Morning Bars', 'Skinny Tuna Noodle Casserole', 'Breakfast Egg White Spinach Enchilada Omelets', 'Broiled Wild Salmon with Apple Cherry Chutney', 'Cilantro Lime Cauliflower \"Rice\"', 'Butternut Squash and Black Bean Enchiladas', 'Skinny Mummy Cake Balls', 'Blackened Salmon with Mango Salsa', 'Sweet Potato Irish Nachos', 'Cauliflower Tots', 'PB + J Smoothie', 'Whole Wheat Pumpkin Pecan Pancakes', 'Embarrassingly Easy Crock Pot Salsa Chicken Thighs', 'Broccoli Rabe Turkey Burgers', 'Avocado Coconut Popsicles', 'Baked Tostones (Green Plantains)', 'Aloha Teriyaki Shrimp Burgers', 'Bali Banana Date Smoothie', 'Spiralized Greek Cucumber Salad with Lemon and Feta', 'Lemon Feta Chicken with Oregano', 'Vegan Eggplant Meatballs', 'Spiralized Raw Zucchini Salad with Avocado and Edamame', 'Grilled Shrimp and Watermelon Chopped Salad', 'Picadillo Quesadillas', 'Naked Turkey Bruschetta Burgers', 'Turkey Taco Lettuce Wraps', 'Fruit Pizza', 'Skillet Harissa Turkey Meatloaf', 'Canned Tuna Ceviche', 'Quinoa Chickpea and Avocado Salad', 'Sea Scallops, Arugula, and Beet Salad', 'Greek Nachos', 'PB2 Flourless Chocolate Brownies', 'Easy Crock Pot Chicken and Black Bean Taco Salad', 'Spaghetti Squash with Meat Ragu', 'Skinny Mini Pumpkin Chocolate Chip Muffins', 'Easy Tomatillo Huevos Rancheros', 'Loaded Turkey Chili Baked Potato', 'Butternut Squash and Spinach Lasagna Rolls', 'Blueberry Banana Oatmeal Smoothie', 'Turkey Pastelón (Sweet Plantain Lasagna)', 'Chewy Chocolate Chip Oatmeal Breakfast Cookie', 'Skinny Pumpkin Spiced Snickerdoodles', 'Chicken Rice Mushroom Soup', 'Grilled Shrimp Tostadas', 'Watermelon Agua Fresca', 'Banana Split Quinoa Oat Bars', 'Zoodles and Meatballs (zucchini noodles with slow cooker turkey meatballs)', 'Grilled Stone Fruit Salad with Honey Goat Cheese Dressing', 'Tomato and Zucchini Frittata', 'Cheesy Zucchini Enchiladas', 'Crock Pot Creamy Tomato Soup', 'Zucchini Pizza Bites', 'CrockPot Kid-Friendly Turkey Chili', 'Matcha Green Tea Shots', 'Fiesta Bean Salad', 'Grilled Shrimp Avocado Fennel and Orange Salad', 'Grilled Chicken with Black Bean Mango Salsa', 'Stuffed Eggplant Parmesan', 'Skinny Easter Egg Cake Balls', 'Spring Asparagus Risotto', 'Antipasto Salad', 'Spring Stir Fried Chicken with Sugar Snap Peas and Carrots', 'Linguini with Sautéed Scallops and Peas', 'Kumara (Sweet Potato) Tandoori Salad', 'Chocolate Drizzled Coconut Macaroons', 'Grilled Garlic Dijon Herb Salmon', 'Guacamole Deviled Eggs', 'Bacon Wrapped Green Bean Bundles', 'Corned Beef and Cabbage Soup', 'Cheeseburger Casserole', 'Homemade Croutons', 'Tomato Mozzarella Egg White Omelet', 'St Patricks Day Cake Pops', 'Baked Chicken Cordon Bleu', 'Creamy Chicken and Mushroom Soup', 'Slow Cooked Jerk Pork with Caribbean Salsa', 'Tropical Papaya Batido Fruit Shake', 'Skinny(er) Shamrock Shake', 'Healthy Banana Nut Cookies', 'Zucchini Noodles (Zoodles) with Lemon-Garlic Spicy Shrimp\\xa0', \"Valentine's Day Cake Balls\", 'Carrot Rice Leek Risotto with Bacon', 'Egg Tomato and Scallion Sandwich', 'Superfood PB Banana and Cacao Green Smoothie', 'Healthy Baked Fish Sticks with Lemon Caper Sauce', 'Cream of Asparagus Leek Soup with Creme Fraiche', 'Cauliflower \"Fried Rice\"', 'Orange Chicken Makeover', 'Kenyan Braised Collard Greens and Ground Beef', 'Crock Pot Carne Guisada (Latin Beef Stew)', 'Cauliflower Fritters', 'Skinny Chicken Scarpariello', 'Asian Turkey Meatballs with Lime Cilantro Dipping Sauce', 'Peanut Butter Banana Muffins', 'Flounder Milanese with Arugula and Tomatoes', 'Cauliflower Watercress Soup', 'Spicy Shrimp with Chilies', 'Turkey Meatball Spinach Tortellini Soup', 'Slow Cooker French Dip Sandwich', 'Kale, Banana, Chia, Hemp Superfood Smoothie', 'Dirty Brown Rice with Shrimp', 'Amazing Flour-less Brownies', 'Eggs and Tomato Breakfast Melts', 'Sauteed Julienned Summer Vegetables', 'Eggplant Panini with Pesto', 'Creamy Corn Soup with Queso Fresco', 'Skillet Mexican Zucchini', 'Baked Eggplant Sticks', 'Chipotle Lobster Avocado Wrap', 'Roasted Strawberry Protein Smoothie', 'Chilled Watermelon Cucumber Feta Salad', 'Peaches and Cream Popsicles', 'Grilled Cilantro Lime Shrimp Kebabs', 'Easy Grilled Fish Fillet in Foil Packets', 'Coconut Mango Ice Pops', 'The Best Grilled Portobello Mushroom Burgers', 'Savory Zucchini Asiago Tomato Scones', 'Grilled Pesto Chicken and Tomato Kebabs', 'Roast Beef Sandwich with Melted Cheese and Caramelized Onions', 'Tropical Fruit Salad', 'Peach Banana Green Smoothie with Hemp Seeds', 'Chicken and Zucchini Yakitori', 'Roasted Strawberry Banana Bread', \"Garlic Lover's Roast Beef\", 'Quinoa and Spinach Patties', 'Spicy Chipotle Ketchup', \"Turkey Sweet Potato Shepherd's Pie\", 'Baby Greens with Goat Cheese, Beets and Candied Pecans', 'Jalapeño Shrimp Cakes', 'Mushroom Kale Lasagna Rolls', 'Mushroom Fennel Quinoa Stuffing', 'Garlic Sweet Potato Mash', 'Roasted Pumpkin Sage Soup', 'Spooky Spider Halloween Cupcakes', 'Pumpkin Spiced Oatmeal', 'Garlic Roasted Cauliflower with Toasted Asiago Bread Crumbs', 'Apple Spiced Scones with Spiced Glaze', 'Pumpkin Hazelnut White Chocolate Biscotti', 'Potato Parsnip Mash', 'Spaghetti with Butternut Leek Parmesan Sauce', 'Slow Cooker Pork and Green Chile Stew', 'Pumpkin Cheesecake Shooters', 'Zucchini Lasagna', 'Santa Fe Turkey Stuffed Peppers', 'Apples and Cinnamon Breakfast Quinoa', 'Buffalo Chicken Potato Skins', 'Low Fat Creamy Mushroom Soup', 'Easy Pumpkin Spice Granola', 'Mushroom Stroganoff', 'Hot and Cheesy Crab and Artichoke Dip', 'Veggie Shooters (Crudites with Skinny Ranch Dip)', 'Skinny Frozen Hot Chocolate', 'Slow Cooker Chicken Black Bean Tacos', 'Tuscan White Bean and Roasted Garlic Soup (Crock Pot Recipe)', 'Eggnog Pancakes', 'Spinach Prosciutto and Mozzarella Stuffed Pork Tenderloin', 'Dark Chocolate and Mint Chip Clouds', 'Turkey Pot Pie Soup Recipe', 'Skinny Baked Brie Phyllo Cups with Craisins and Walnuts', 'Crock Pot Santa Fe Chicken', 'Penne Pasta with Brussels Sprouts In a Ragu', 'Peppermint Meringues', 'Fresh Fig and Arugula Salad with Goat Cheese', 'Crock Pot Kalua Pork', 'Mini Pecan Phyllo Tarts', 'Lightened Up Green Bean Casserole with Shallot Crumb Topping', 'Guiltless Banana Ice Cream', 'Pumpkin Nut Muffins', 'Baked Oatmeal with Pumpkin and Bananas', 'Oven Roasted Tomatoes', 'Greek Salad Sandwich', 'Baked Pasta with Sausage and Spinach', 'Skinny Pumpkin Overnight Oats in a Jar', 'Beef Barley Soup', 'Blueberry Raspberry Gazpacho with Mint', 'Escarole Soup with Turkey Meatballs (Italian Wedding Soup)', 'Baked Chicken Parmesan', 'Pan con Tomate (Spanish Tomato Bread)', 'Slow Cooked Filipino Adobo Pulled Pork', 'Guiltless Banana Split in a Jar', 'BLT with Avocado', 'Raspberry Coconut Chia Pudding Pops', 'Baked Corn and Crab Cakes', 'Easy Trail Mix', 'PB + J Yogurt', 'Skinny Caesar Dressing', 'Grilled Harissa Lamb Chops', 'Chicken Enchilada Stuffed Zucchini Boats', 'Red White and Blue Fruit Skewers with Cheesecake Yogurt Dip', 'Roasted Red Pepper and Prosciutto Stuffed Chicken', 'Cherry Custard', 'Skinny Basil Pesto', 'Superfood Triple Berry Chia Pudding', 'Orange and Arugula Salad with Red Onion and Gorgonzola', 'Lemon Asparagus Couscous Salad with Tomatoes', 'Asparagus and Swiss Cheese Frittata', 'Summer Pasta Salad with Baby Greens', 'Skinny Chicken Fajitas', 'Strawberry Rhubarb Baked Oatmeal', 'Easiest Crock Pot Salsa Verde Chicken', 'Mexican \"Unfried\" Ice Cream', 'Southwestern Black Bean Salad', 'Salsa Verde Chicken Tostadas', 'Huevos Rancheros', 'Broccoli and Cheese Egg Muffins', 'Mexican Adobo Rubbed Grilled Pork Tenderloin', \"Aaron's Mexican Dry Adobo Seasoning\", 'Mango Banana Hemp Seed Green Smoothie', 'Mixed Baby Greens with Strawberries, Gorgonzola and Poppy Seed Dressing', 'Harissa Eggs in Purgatory', 'Mediterranean Quinoa Salad', 'Chicken Francese - Lightened Up', 'Buffalo Turkey Cheeseburger with Blue Cheese Broccoli Slaw', \"Bangin' Grilled Shrimp Skewers\", 'Farro with Feta Cucumbers and Sun-dried Tomatoes', 'Oven \"Fried\" Pickles with Skinny Herb Buttermilk Ranch Dip', 'Strawberry Rhubarb Crisp', 'Skinny Chocolate Chip Fro-Yo Sandwiches', 'Easy Blueberry Buttermilk Cake', 'Arugula Salmon Salad with Capers and Shaved Parmesan', 'Very Berry Banana Fro Yo Shake', 'Iced Green Tea Mojito', 'Asparagus Prosciutto Panini with Garlic Mayonnaise', 'Grilled Flank Steak with Black Beans Corn and Tomatoes', 'Citrus Margarita Spritzer', 'Linguini and Shrimp Fra Diavolo', 'Skinny Hummingbird Cupcakes', 'Zesty Avocado Cilantro Buttermilk Dressing', 'Asian Cabbage Mango Slaw', 'Homemade Kansas City Style BBQ Sauce', 'Smoky Spice Rubbed Grilled Salmon with Black Beans and Corn', 'Skinny Buffalo Burger Quesadilla', 'Slow Cooker Pulled Pork', 'Easy Garden Tomato Sauce', 'Celery Cilantro Cocktail', 'Buffalo Chicken Lettuce Wraps (Slow Cooker, Instant Pot)', 'Crustless Summer Zucchini Pie', 'Summer Vegetables with Sausage and Potatoes', 'Stuffed Buffalo Chicken Breasts', 'Warm Pasta Salad with Corn and Zucchini', 'Frozen Mango, Kiwi, Raspberry Pops', 'Cherry Lime Ice Pops', 'Summer Potato Salad with Apples', 'Watermelon On A Stick', 'Frozen Banana Popsicles', 'Summer Macaroni Salad with Tomatoes and Zucchini', 'Broccoli and Orzo', 'Grilled Potatoes', 'Asian Ginger Carrot Dressing', 'Warm Mexican Corn Salad (Elote)', \"Mom's Spanish Chicken and Rice\", 'Overnight Oats', 'Crock Pot Chicken Cacciatore', 'Shrimp Pad Thai on the Lighter Side', 'Mango Coconut Chia Pudding', 'Spicy Black Bean Burgers with Chipotle Mayonnaise', 'Homemade Ketchup', 'Honey-Teriyaki Salmon', 'Chicken and Andouille Sausage Stew', 'Angel Hair Pasta with Scallops and Tomatoes', 'Skinny Chocolate Parfaits', 'Red Velvet Pancakes with Cream Cheese Topping', 'Blueberry Banana PB Smoothie', 'Hot and Spicy Buffalo Shrimp Dip', 'Butternut Squash Risotto', 'Blood Orange Endive Salad', 'Pistachio Cinnamon Chicken Salad', 'Crock Pot Picante Chicken and Black Bean Soup', 'Skinny Queso Dip', 'Crock Pot Picadillo Stuffed Peppers', 'Crock Pot Italian Sloppy Joe', 'Twice Baked Super Stuffed Cheesy Potatoes', 'Best Guacamole Recipe', 'Open Faced Tuna Sandwich with Avocado', 'Crock Pot Chicken a la Criolla', 'Spicy Buffalo Cauliflower Bites', 'Cheesy Baked Spaghetti Squash Boats with Grilled Chicken', \"Kalyn's Stuffed Cabbage Casserole\", 'Crock Pot Picadillo', 'Crock Pot Bolognese Sauce', 'Tuscan White Beans with Spinach, Shrimp and Feta', 'Brownie Batter Pancakes', 'Easy Baked Coconut Shrimp', 'Chicken with Leeks Sun-Dried Tomatoes in White Wine Sauce', 'Flounder Piccata', 'Cranberry Pistachio Biscotti', \"S'mores Pops\", 'Skinny Whole Wheat Snickerdoodles', 'Apple Cranberry Crumble', 'Chicken Arugula Provolone Panini with Chipotle Mayo', 'Homemade Vanilla Bean Marshmallows', 'Meatball and Spaghetti Soup', 'Eggs and Soldiers with Asparagus', 'Cranberry Pistachio Dark Chocolate Bark', 'Edamame Fried Rice', 'Carne Guisada (Latin Beef Stew)', 'Perfect Brown Rice Every Time', 'Crock Pot Italian Turkey Meatballs', 'Grilled Chicken Spinach Salad with White Balsamic Vinaigrette', 'Avocado Egg Salad', 'Braised Brisket with Potatoes and Carrots', 'Coconut Macaroons', 'Mediterranean Chicken Kebab Salad', 'Baked Eggs with Wilted Baby Spinach', 'Matzo Pizza', 'Roasted Prosciutto Wrapped Asparagus Bundles', 'Pasta with Asparagus', 'Yogurt Fruit Dip', 'Skinny Texas Cheese Fries', 'Baked Parmesan Kale Chips', 'Irish Oatmeal Leek Soup', 'Skillet Cajun Spiced Flounder with Tomatoes', 'Insanely Good Blueberry Oatmeal Muffins', 'Penne Arugula Salad with Sun Dried Tomatoes', 'Swiss Chard Frittata', \"Chocolate Stout Cupcakes with Bailey's Irish Cream Cheese Frosting\", 'Quinoa Salad with Spinach Grapefruit & Avocado', 'Chicken and Broccoli Noodle Casserole', 'Caramelized Onion, Red Pepper and Zucchini Frittata', 'Cajun Chicken Pasta on the Lighter Side', 'Shrimp Creole', 'Skinny Green Tropical Smoothie', 'Jamaican Red Beans and Rice', 'Heart-Shaped Chocolate Chip Banana Pancakes', 'Jamaican Brown Stew Chicken', 'Loaded Turkey Santa Fe Baked Potato Skins', 'Homemade Skinny Chocolate Cake', 'Skinny Macaroni and Cheese Soup with Broccoli', 'Five Spice Roasted Chicken Legs', 'Petite Chocolate Chip Banana Bread Loaves', 'Pasta with Italian Chicken Sausage, Escarole and Beans', 'Skinny Green Monster Smoothie', 'Bacon Wrapped Chicken Bites', 'Skinny Salisbury Steak with Mushroom Gravy', 'Asian Flank Steak Skewers', 'Skinny Chocolate Chip Buttermilk Scones', 'Spinach and Bacon Stuffed Mushrooms', 'Vietnamese Shaking Beef (Bo Luc Lac)', 'Asian Chicken Lettuce Wraps', 'Sweet & Fiery Pork Tenderloin with Mango Salsa', 'Lemon Cheesecake Yogurt Cups', 'Chicken Parmesan Burgers', 'Persian Turkey Kofta Kebabs', 'Freshly Brewed Ice Tea with Fresh Mint', 'Baked Oatmeal with Blueberries and Bananas', 'Grilled Steak Fajitas', 'Brown Coconut Rice with Cilantro', 'Fiesta Lime Rice', 'Roasted Snapper Fillet', 'Swedish Meatballs', 'Skinny Low-Yolk Egg Salad', 'Brown Rice Horchata', 'Strawberry Rhubarb Compote', 'Salsa Picante Roja', 'Low Fat Red Wine Tomato Vinaigrette', 'Lamb Chops with Dijon Glaze over Wilted Spinach', 'Piña Colada Cupcakes', 'Southwest Turkey Meatballs', 'Chicken Rollatini', 'Carne Bistec - Colombian Steak with Onions and Tomatoes', 'Arroz Con Pollo, Lightened Up', 'Healthy Baked Chicken Nuggets', 'Skinny Baked Jalapeño Poppers', 'Chicken and Cavatelli Soup', 'Strawberry Kiwi Pavlovas', 'Creamy Cilantro Tomatillo Dressing', 'Chocolate Ricotta Mousse', 'Sauteed Collard Greens with Bacon', 'Slow Cooked Sweet Barbacoa Pork', 'Quick and Delicioso Cuban Style Black Beans', 'Cuban Sandwich Quesadilla', 'Skinny Slow Cooker Pernil (Puerto Rican Pork)', 'Beef, Potato and Quinoa Soup', 'Skinny Artichoke Dip', 'White Beans with Aji Verde Sauce', 'No-Bake Fudgy Snow Balls', 'Lightened Up Crème Brûlée French Toast', 'Creamy Parmesan Spinach Dip', 'Roasted Broccoli Rabe with Garlic', 'Pasta with Roasted Broccoli, Garlic and Oil', 'Spinach Tortellini en Brodo', 'Pumpkin Butter', 'Slow Cooked Black Eyed Peas with Ham', 'Banana Nut Pancakes', 'Creamed Spinach - Lightened Up', 'Black Bean Soup', 'The Skinny Tuna Melt', 'Spicy Crunchy Tuna Tartare', 'Western Omelet Breakfast Potato Skins', 'Chicken and White Bean Stuffed Peppers', 'Shrimp Salad on Cucumber Slices', 'Black Bean, Avocado, Cucumber and Tomato Salad', 'Creamy Grape Dessert', 'Greek Turkey Meatballs', 'Tomato Bisque', 'Skinny Tzatziki', 'Steamed Clams with Fresh Basil', 'Phyllo Fruit Tart', 'Spaghetti Squash Pesto with Tomatoes', 'Red Beet Salad', 'Edamame Hummus', 'Skinny Italian Spinach Meatballs', 'Skinny Taco Dip', 'Broiled or Grilled Pollo Sabroso', 'Cilantro Chicken Salad', 'Asian Glazed Drumsticks', 'Broccoli and Cheddar Skinny Potato Skins', 'Brown Fried Rice', 'Red Pepper Egg-In-A-Hole', 'Nojito', 'Shrimp Quesadillas with Tomato Avocado Salsa', 'Lighter Baked Macaroni and Cheese', 'Lighter Chicken Saltimbocca\\xa0', 'Shrimp Fajitas', 'Skinnygirl Margarita', 'Low Fat Banana Fritters\\xa0', 'Chicken Piccata', \"Mom's Lightened Beef Stroganoff\\xa0\", 'Flaugnarde of Mixed Berries (Clafoutis)', 'Healthy Breaded Shrimp', 'Pineapple Zucchini Cupcakes with Cream Cheese Frosting', 'Steak and Cheese Sandwiches with Onions and Mushrooms', 'Best Low-fat Chocolate Chip Cookies Ever', 'Roasted Baby Potatoes with Rosemary', 'Quick Skillet Steak with Onions and Mushrooms', 'Sofrito Chicken Stew', 'Meatloaf Cupcakes with Mashed Potato Frosting', 'Low Fat Mixed Berry Whole Wheat Muffins', 'Chocolate Sorbet', 'Chocolate Chocolate Chip Banana Muffins with Glaze', 'Tomato Mozzarella and Arugula Tower', 'Skinny Strawberry Fool (with Truwhip)', 'Roast Beef, Arugula and Shaved Parmesan on a Baguette', 'Tomato, Fresh Mozzarella, Roasted Pepper on Whole Wheat Bread', 'Grilled Chicken Sandwich with Avocado and Tomato', 'Roasted Corn with Cilantro Butter', 'Sesame Encrusted Baked Chicken Tenders', 'Summer Tomatoes, Corn, Crab and Avocado Salad', 'Skinny No-Bake Chocolate Peanut Butter Cookies', 'Pink Lemonade Confetti Cupcakes', 'Leftover Turkey Noodle Soup', 'Broiled Fish with Summer Grape Tomato Sauce', 'Leftover Parmesan Mashed Potato Patties', 'Low Fat Vanilla Bean Frozen Yogurt', 'Pumpkin Roll, Lightened Up', 'Vanilla Snowman Cupcakes with Vanilla Icing', 'Skinny Scalloped Potato Gratin', 'Easy Rosemary Garlic Parmesan Biscuits', 'Make-Over Corn Casserole', 'Pumpkin Hazelnut Flaugnarde (Clafoutis)', 'Roasted Parmesan Green Beans', 'Skinny Buttermilk Mashed Potatoes with Chives', 'Roasted Red Kuri Coconut Curry Soup', 'Chicken Sausage Brown Rice Stuffing with Celery and Mushrooms', 'Skinny Apple Cobbler', 'Low Fat Chocolate Mummy Cupcakes', 'Pumpkin Seed Encrusted Baked Tilapia', 'Pork Chops and Applesauce', 'Frozen \"Boo\"-nana Pops', 'Pumpkin Spice Cookies with Chocolate Glaze', 'Mashed Sweet Potatoes Brulee', 'One Pan Roasted Potatoes, Sausage and Peppers', 'Crock Pot Asian Pork with Mushrooms', 'Pumpkin Sherbet', 'Super Moist Low Fat Chocolate Cupcakes with Chocolate Glaze', 'Sweet Potato Casserole', 'Thai Green Curry Coconut Shrimp with Basil', 'Low Fat Pumpkin Bread', 'Roasted Acorn Squash and Leek Soup with Pepitas', 'Roasted Pumpkin Seeds', 'Baby Spinach Salad with Honey Roasted Butternut Squash, Pumpkin Seeds, Gorgonzola and Dried Cherries', 'Turkey White Bean Pumpkin Chili', 'Low-fat Pumpkin Spiced Chocolate Chip Cookies\\xa0', 'Meringue Ghosts', 'Spaghetti Squash Lasagna', 'Shrimp Parmigiana Hero, Lightened Up', 'Pumpkin Spiced Oatmeal Pecan Cookies', 'Autumn Apple and Grape Medley', 'Lavash Flatbread Pizzas', 'Low-fat Buttermilk Ranch Dressing', 'Spinach Ricotta Stuffed Shells with Meat Sauce', 'Pumpkin Swirl Cheesecake Yogurt Cupcakes', 'Pumpkin Cupcakes with Pumpkin Spiced Cream Cheese Frosting', 'Quick Marinara Sauce', 'Cherry Sorbet', 'Heirloom Tomato Sandwich', 'Triple Berry Crisp', 'Watermelon Arugula and Feta Salad', 'Easiest Pasta and Broccoli Recipe', 'Chicken Rollatini Stuffed with Zucchini and Mozzarella', 'Summer Squash and Chive Pancakes', 'Halibut and Shellfish Soup', 'Frozen Fruit Pops', 'Thai Chicken and Pineapple Stir Fry', 'Watermelon Martinis', 'Grilled Pineapple', 'Lobster Rolls', 'Grilled Tuna over Arugula with Lemon Vinaigrette', 'Crock Pot Pasta Sauce with Sausage', 'Berry Yogurt Popsicles', 'Chilled Calamari Salad with Lemon and Parsley', 'BLT Macaroni Salad', 'Low Fat Chewy Granola Bars with Pecans, Raisins and Chocolate Chips', 'Ricotta Cheese Chocolate Chip Muffins', 'Skinny Chicken Tikka Masala', 'Salpicón', 'Ground Turkey with Potatoes and Spring Peas', 'Broiled Tilapia with Thai Coconut Curry Sauce', 'Triple Berry Smoothie', 'Mayo-less Tuna Macaroni Salad', 'Strawberry Kiwi Smoothie', 'Mango Peachy Smoothie', 'Very Blueberry Smoothie', 'Low Fat Creamy Blue Cheese Dressing', 'Avocado Salad with Citrus Vinaigrette', 'Italian Stuffed Artichokes', 'Roasted Broccoli with Smashed Garlic', 'Light Crespelle Recipe', 'Honey Baked Spiral Ham', 'Creamy Cauliflower Purée', 'Corn Salsa with Lime', 'Red Thai Coconut Curry Shrimp', 'Corned Beef and Cabbage\\xa0', 'Low Fat Irish Soda Bread', 'Turkey Picadillo', 'Slow Cooked Pork Carnitas (Mexican Pulled Pork)', 'Pomegranate Martini', 'Roasted Red Pepper Soup', 'Avena - Healthy Oatmeal Shake', 'Skinny Red Velvet Cupcakes', 'Gazpacho', 'Mozzarella Basil and Tomato Skewers', 'Pumpkin Banana Nut Bread', 'Eggplant and Tomato Sauce', 'Mushroom Risotto', 'Sautéed Brussels Sprouts', 'Banana Cream Pie', 'Sautéed Zucchini with Plum Tomatoes', 'Basil Green Goddess Dressing Recipe', 'Pineapple Zucchini Cake with Cream Cheese Frosting', 'Spaghetti with Sauteed Chicken and Grape Tomatoes', 'Caprese Salad', 'Arroz Con Gandules (Rice and Pigeon Peas)', 'Angel Hair with Shrimp and Asparagus', 'Clam Chowder, Lightened Up', 'Spaghetti with Garlic Scape Pesto and Tomatoes', 'Garlic Scape Basil Pesto', 'Chewy Low Fat Banana Nut Oatmeal Cookies', 'Asparagus and Poached Eggs over Pasta', 'Oven Fried Chicken', 'Grilled Chicken with Spinach and Melted Mozzarella', 'Pasta with Italian Chicken Sausage, Peppers and Escarole', 'Heirloom Tomato Salad', 'Low Fat Chewy Chocolate Chip Oatmeal Cookies', 'Coconut Chicken Salad with Warm Honey Mustard Vinaigrette', 'Skinny Cucumber Ranch Dressing', 'Scallops, Grapefruit, Arugula and Spinach Salad with Champagne Vinaigrette', 'Baby Pasta Shells with Asparagus and Marinara Sauce', 'Low Fat Baked Onion Rings', 'Prosciutto, Arugula and Balsamic Sandwich', 'Breakfast Creme Brulee', 'Black and White Chocolate Chip Cloud Cookies', 'Dark Chocolate Chunk Bread Pudding', 'Papaya Avocado Salad', 'Chocolate Pistachio Biscotti', 'Arroz Congri (Cuban Rice and Black Beans)', 'Garlic Cheddar Biscuits', 'Skinny Baked Seasoned Fries with Garlic Aioli', 'Pasta with Cauliflower', 'Baked Rice and Peas', 'Chocolate Chocolate Chip Biscotti', 'Strawberry Squares', 'Pork Chops with Mushrooms and Shallots', 'Cinnamon Apple Spiced Oatmeal', 'Chicken Divan, Lightened Up', 'Baked Turkey Croquettes', 'Healthy Pumpkin Oatmeal Shake', 'Cranberry-Pineapple Sauce', 'Low Fat Pomegranate Scones', 'Skinny Ranch Dip', 'Roasted Acorn Squash with Brown Sugar', 'Steamed Asparagus with Poached Eggs', 'Arugula with Pomegranates, Blue Cheese and Pistachios', 'Coconut Curry Butternut Squash Soup', 'Baked Chipotle Sweet Potato Fries', 'Pumpkin Smoothie', 'Sloppy Joes', 'Pumpkin Spice Pancakes with Pumpkin Butter', 'Skinny Pumpkin Spice Latte', 'Spicy Shrimp Fried Rice', 'Crock Pot \"Baked\" Potatoes', 'Blueberry Compote', 'Coconut Cream Pops (Limber de Coco)', 'Rice with Spinach', 'Skinny Ambrosia Salad', 'String Beans with Garlic and Oil', 'Macaroni Salad with Tomatoes', 'Lamb Kheema with Peas', 'Baby Red Potato Salad', 'Shrimp and Zucchini with Bowties in Light Tomato Sauce', 'Chick Pea and Roasted Pepper Dip', 'Mussels in Basil Cream Sauce', 'Mango Lassi', 'Seared Scallops over Wilted Spinach and Parmesan Risotto', 'Spaghetti with Mushrooms, Garlic and Oil', 'Peruvian Roasted Chicken with Aji Verde ', 'Drunken Shrimp', 'Cobb Salad', 'Broccoli and Cheese Omelet', 'Strawberries and Cream', 'Rainbow Swiss Chard', 'Sauteed Baby Zucchini', 'Swordfish Burgers', 'Greek Yogurt with Berries, Nuts and Honey', 'Portuguese Seafood Stew', 'Roast Beef', 'Broiled Tilapia with Tomato Caper Sauce', 'Blood Orange Salad with Gorgonzola, Pecans and Baby Greens', 'Lighter Eggplant Parmesan', 'Petite Turkey Meatloaves', 'Quinoa \"Fried Rice\"', 'Turkey Stuffed Zucchini', 'Mushroom Shallot Frittata', 'Eggs in Purgatory', 'Cabbage Soup with Chicken and Pork', 'Quinoa Risotto', 'Basic Quinoa Recipe', 'Filetto di Pomodoro', \"Chipotle's Cilantro Lime Rice\", 'Broccoli and Cauliflower Salad with Capers in Lemon Vinaigrette', 'Pan Seared Scallops with Baby Greens and Citrus Mojo Vinaigrette', 'Tuna Salad Wraps', 'Baked Tostones with Mojo Garlic Dipping Sauce', 'Skinny Italian Turkey Meatballs', 'Baked Garlic Lemon Tilapia', 'Low Fat Banana Nut Bread', 'Roasted Spaghetti Squash', 'Crock Pot Chicken Taco Chili', 'Mixed Baby Greens with Pomegranate Seeds, Gorgonzola and Pecans', 'Colombian Chicken Sancocho', 'Spinach Feta Frittata', 'Guiltless Egg and Bacon Sandwich', 'Pasta Fagioli (Pasta and Beans)', 'Indian Spiced Cauliflower and Potato aka Aloo Gobi', 'Butternut Squash Soup with Sage', 'Wine Spritzer', 'King Crab Legs - 4 ww pts', 'Autumn Salad with Pears and Gorgonzola', 'Thai Chicken Fried Rice', 'Zucchini Casserole', 'Avocado and Mango Salsa', 'White Bean Crostini', 'Candied Tomato Sauce', 'Filipino BBQ Pork Skewers', 'Chicken Quesadillas', 'Homemade Chicken Broth', 'Latin Yellow Rice', 'Scallion Cilantro Rice with Habaneros and Lime', 'Homemade Italian Turkey Sausage', 'Chocolate Covered Strawberries', 'Herb Crusted Rib Eye Roast', 'Angel Hair with Shrimp and Tomato Sauce', 'Garlic Shrimp', 'Turkey Sausage, Kale and White Bean Soup', 'Turkey Sausage and Tomato Sauce over Pasta', 'French Onion Soup', 'Chocolate Banana Soufflés', 'Skinny Eggnog Latte', 'Bolognese Sauce', 'Creamy Shrimp and Celery Salad', 'Lighter Chicken Salad', 'Zucchini Pancakes', 'Spinach Stracciatella Soup with Orzo', 'Baked Bananas', 'Chili Shrimp and Asparagus Stir Fry', 'Broiled Salmon with Rosemary', 'Weight Watchers Mango Bellini', 'Asparagus with Dijon Vinaigrette', 'Roasted Chickpea Snack', 'Asian Grilled Chicken Recipe', 'Chicken Cacciatore', 'Corn on the Cob with Chile and Lime', 'Pico de Gallo Salsa', 'Stuffed Red Bliss Potatoes', 'Easy Cucumber Salad ', 'Pan Seared Shrimp', 'Sauteed Broccoli Rabe with Garlic ', 'Bruschetta with Tomato and Basil', 'Broiled Tilapia with Garlic', 'Eggs with Scallions and Tomatoes', 'Skinny Cuban Mojito Recipe', 'Ratatouille', 'Mixed Baby Greens with Blackberries, Pecans and Champagne Vinaigrette', 'Grilled Zucchini and Tomato Salad', 'Cuban Picadillo', \"Dad's Cauliflower Soup\", 'Brazilian Black Beans', 'Broiled Tilapia Oreganata\\xa0', 'Split Pea Soup with Ham']\n"
     ]
    }
   ],
   "source": [
    "# creating a list with all the recipe names given in the dataset\n",
    "list_of_all_recipe = recipes_data['recipe_name'].tolist()\n",
    "print(list_of_all_recipe)"
   ]
  },
  {
   "cell_type": "code",
   "execution_count": 41,
   "id": "dac51f77",
   "metadata": {},
   "outputs": [
    {
     "name": "stdout",
     "output_type": "stream",
     "text": [
      "['Chicken Piccata', 'Chicken Rollatini', 'BBQ Chicken Salad']\n"
     ]
    }
   ],
   "source": [
    "# finding the close match for the recipe given by the user\n",
    "find_close_match = difflib.get_close_matches(ingred, list_of_all_recipe, 3, 0.1)\n",
    "print(find_close_match)"
   ]
  },
  {
   "cell_type": "code",
   "execution_count": 42,
   "id": "a295aa47",
   "metadata": {},
   "outputs": [
    {
     "name": "stdout",
     "output_type": "stream",
     "text": [
      "Chicken Piccata\n"
     ]
    }
   ],
   "source": [
    "close_match = find_close_match[0]\n",
    "print(close_match)"
   ]
  },
  {
   "cell_type": "code",
   "execution_count": 43,
   "id": "f2bed415",
   "metadata": {},
   "outputs": [
    {
     "name": "stdout",
     "output_type": "stream",
     "text": [
      "1097\n"
     ]
    }
   ],
   "source": [
    "# finding the index of the recipe with ingredient\n",
    "index_of_the_recipe = recipes_data[recipes_data.recipe_name == close_match]['index'].values[0]\n",
    "print(index_of_the_recipe)"
   ]
  },
  {
   "cell_type": "code",
   "execution_count": 44,
   "id": "5aa63d86",
   "metadata": {},
   "outputs": [
    {
     "name": "stdout",
     "output_type": "stream",
     "text": [
      "[(0, 0.12006401968911395), (1, 0.03982101260874494), (2, 0.09606428269788428), (3, 0.0), (4, 0.058989802171716954), (5, 0.14006635638272685), (6, 0.02749360597606991), (7, 0.03409843531188253), (8, 0.11340563287484236), (9, 0.08387425737863055), (10, 0.0599022307453435), (11, 0.010672199123573346), (12, 0.0805397951843783), (13, 0.13276756532306763), (14, 0.14826140594863746), (15, 0.11638522330806893), (16, 0.12089720879131842), (17, 0.1712264095279842), (18, 0.03357346554173134), (19, 0.14793842708633803), (20, 0.06198764108630862), (21, 0.07673312625736653), (22, 0.0), (23, 0.11642348148701229), (24, 0.04873101747339345), (25, 0.08645888325828009), (26, 0.05393899271202851), (27, 0.03540581170596117), (28, 0.2507219305834903), (29, 0.025548922662097934), (30, 0.0651576649280668), (31, 0.2170836221586472), (32, 0.11099881434761276), (33, 0.005845615371015288), (34, 0.0), (35, 0.10833003789875016), (36, 0.03887477952822859), (37, 0.08840076229111989), (38, 0.03546630373145182), (39, 0.0), (40, 0.12383720956160363), (41, 0.0), (42, 0.04562563632694642), (43, 0.13453581783662794), (44, 0.06593776120705686), (45, 0.07657840256855512), (46, 0.07431612895097538), (47, 0.05201407600484518), (48, 0.16031886244441856), (49, 0.12923380353438824), (50, 0.1649865171877099), (51, 0.12725950802529137), (52, 0.10340872296804807), (53, 0.05400209452215307), (54, 0.0), (55, 0.07067788261130635), (56, 0.13295640010221133), (57, 0.10407621240582138), (58, 0.04123001221938464), (59, 0.05783585448405342), (60, 0.2810414956302987), (61, 0.0503389674351476), (62, 0.14717559037908048), (63, 0.03006924733001749), (64, 0.05060252414241123), (65, 0.2802216180241514), (66, 0.0942607401961551), (67, 0.1626817134951088), (68, 0.03399782151186837), (69, 0.07006371717649253), (70, 0.09200131743686125), (71, 0.12438914587690574), (72, 0.14993665377546445), (73, 0.04812772652375856), (74, 0.17869492882033045), (75, 0.15231061697957396), (76, 0.1640454872912004), (77, 0.07629571292032687), (78, 0.024916647192202046), (79, 0.12411002734962287), (80, 0.06893145039011085), (81, 0.11824179801165148), (82, 0.06683262774561644), (83, 0.12798828080557187), (84, 0.013877350039575525), (85, 0.07191172605753077), (86, 0.04218948503710361), (87, 0.06876581683158635), (88, 0.037467608104746905), (89, 0.056908177489606464), (90, 0.10629174268511482), (91, 0.017515839411997386), (92, 0.022624418969834588), (93, 0.08666837165134525), (94, 0.08234655578897625), (95, 0.0), (96, 0.06249699802704748), (97, 0.08768888783517993), (98, 0.21643253292384046), (99, 0.21050502848221014), (100, 0.09665412640497587), (101, 0.08662268173485155), (102, 0.06982430986252963), (103, 0.0), (104, 0.08820634881530251), (105, 0.07297719778534052), (106, 0.1616440189142725), (107, 0.032234813582657444), (108, 0.07642651805587918), (109, 0.1444977934641747), (110, 0.06887283603493323), (111, 0.12001816615427756), (112, 0.12431603484148304), (113, 0.0152217465551693), (114, 0.07046257576315539), (115, 0.04875350984338844), (116, 0.06700381064183077), (117, 0.09153872762267985), (118, 0.12799584980872053), (119, 0.1422487412206245), (120, 0.0), (121, 0.12015318906099133), (122, 0.14584126740681516), (123, 0.08776842590758055), (124, 0.05285532827055655), (125, 0.07219408540683911), (126, 0.03653391013257663), (127, 0.08305445435812452), (128, 0.019150612487066863), (129, 0.022784266716385015), (130, 0.0), (131, 0.048220706616643176), (132, 0.032346291980941196), (133, 0.0776476937695691), (134, 0.10918350321133678), (135, 0.010801833870880222), (136, 0.024804432077009622), (137, 0.09645860781317234), (138, 0.07099393990726542), (139, 0.13551214457642768), (140, 0.24749973055573393), (141, 0.07916741241626038), (142, 0.09817264745586485), (143, 0.06670036665304765), (144, 0.08319249287289483), (145, 0.058753046393915806), (146, 0.05275130463371195), (147, 0.10883679808345786), (148, 0.040235638529977004), (149, 0.05139076634182909), (150, 0.054954063631076064), (151, 0.1236578779077544), (152, 0.0), (153, 0.036962376271147394), (154, 0.08201015311726641), (155, 0.04011863366839276), (156, 0.09878475081546428), (157, 0.06687915015434955), (158, 0.20770700487952387), (159, 0.0432514755921971), (160, 0.09069189468906827), (161, 0.08115904534325216), (162, 0.07661574713688579), (163, 0.01772264828786548), (164, 0.0), (165, 0.09782512568567947), (166, 0.05365761822989048), (167, 0.09802448388624724), (168, 0.09315504615436908), (169, 0.12897402364428506), (170, 0.10922335751744187), (171, 0.15852747944807039), (172, 0.03221050397481383), (173, 0.26165114025273306), (174, 0.16474862678960123), (175, 0.03218162695998954), (176, 0.07537600127773894), (177, 0.10539355830515304), (178, 0.0941184522560175), (179, 0.03800556668918526), (180, 0.15406759565985068), (181, 0.07564443570450353), (182, 0.028377993658214955), (183, 0.10761199595765378), (184, 0.03448660030245257), (185, 0.05817446876905484), (186, 0.046851068780009233), (187, 0.03772133784448808), (188, 0.23684295735875582), (189, 0.02352461133422966), (190, 0.0607587134101585), (191, 0.11782102424184263), (192, 0.005746673348102478), (193, 0.12530134565218395), (194, 0.14798306135122238), (195, 0.05673522051657306), (196, 0.12843986289166437), (197, 0.019008363424513522), (198, 0.08741545545496801), (199, 0.2000569672338512), (200, 0.10624529326610888), (201, 0.17282743269517098), (202, 0.07912773235266533), (203, 0.07971929665918936), (204, 0.029791768739822668), (205, 0.14387044567637397), (206, 0.11804886221467008), (207, 0.0), (208, 0.04403455273452266), (209, 0.04763452911518189), (210, 0.1203234343253671), (211, 0.05989733873662981), (212, 0.12297563305731547), (213, 0.06869765009396601), (214, 0.05737416156109894), (215, 0.06508426246279861), (216, 0.007040650427495464), (217, 0.18121157130124232), (218, 0.10987788245981422), (219, 0.02369952062433975), (220, 0.12454266285093879), (221, 0.09285414606623857), (222, 0.12161730607585432), (223, 0.06855260463218318), (224, 0.15202252680096975), (225, 0.1299178622025499), (226, 0.11042486959843059), (227, 0.06475215660149192), (228, 0.21099658443050026), (229, 0.09303053414129593), (230, 0.20802801847716107), (231, 0.06198975549107944), (232, 0.1192258007276023), (233, 0.04738236694045581), (234, 0.11503452754642611), (235, 0.1729469533173604), (236, 0.051318273357417836), (237, 0.02075146059673765), (238, 0.055567869888043034), (239, 0.0970818621483358), (240, 0.06668483376311202), (241, 0.09520098291549209), (242, 0.10156839397574938), (243, 0.05715528132185176), (244, 0.05839705585963767), (245, 0.04793364616212203), (246, 0.10308235089530135), (247, 0.007260085430940141), (248, 0.08106776032947198), (249, 0.08943606649954611), (250, 0.1319238823910878), (251, 0.05103208660608074), (252, 0.14988800239267666), (253, 0.04119577914200033), (254, 0.06381088518149906), (255, 0.05639020773576467), (256, 0.17167862294124533), (257, 0.13342641200839414), (258, 0.11038775532745854), (259, 0.049189797191749735), (260, 0.0762970169373422), (261, 0.06036181328522159), (262, 0.022614247223122934), (263, 0.0), (264, 0.1056099500070107), (265, 0.31868864244195516), (266, 0.11321094060507245), (267, 0.11677903456609492), (268, 0.12441093811988914), (269, 0.08137111648046012), (270, 0.07166220141850502), (271, 0.10135510015057048), (272, 0.014165706316217726), (273, 0.0), (274, 0.09478038709774153), (275, 0.20951284910794396), (276, 0.10489592109046719), (277, 0.07532500253912457), (278, 0.044258256969906394), (279, 0.08154590273659537), (280, 0.062305161296679984), (281, 0.10829488486356637), (282, 0.0), (283, 0.04152423017073372), (284, 0.12298875595832978), (285, 0.030136256798529274), (286, 0.028637910562926732), (287, 0.23509341904086264), (288, 0.0235980278835127), (289, 0.0888676407749062), (290, 0.08506944255632859), (291, 0.1460610587002229), (292, 0.04133239574122013), (293, 0.1358173287541906), (294, 0.1212247719191831), (295, 0.11870765158828808), (296, 0.1331467634098059), (297, 0.14189785336200275), (298, 0.09574302032173572), (299, 0.1784902788562514), (300, 0.12282861599479487), (301, 0.09582969879173503), (302, 0.04270050919289279), (303, 0.05775793100330729), (304, 0.02758475009252603), (305, 0.2916807290082687), (306, 0.0822759307991571), (307, 0.13051316544916552), (308, 0.1126695101330296), (309, 0.08717938353951246), (310, 0.15741081914313293), (311, 0.07634661359116635), (312, 0.014259446910697464), (313, 0.04269302999217858), (314, 0.0423809315414597), (315, 0.09599587990000079), (316, 0.04288276725585956), (317, 0.16708470014270665), (318, 0.0968452814403509), (319, 0.10572750930205163), (320, 0.0), (321, 0.060364444323347095), (322, 0.20946512002010334), (323, 0.07108783334945445), (324, 0.08246760030826716), (325, 0.028949996985562842), (326, 0.04418432282455483), (327, 0.09683824553315365), (328, 0.11021346800741554), (329, 0.13732869638392586), (330, 0.051577704088776585), (331, 0.12559137221030395), (332, 0.03903060246956226), (333, 0.0894929177139814), (334, 0.06133777202624555), (335, 0.14364941630035677), (336, 0.020939416984227584), (337, 0.038086898491362105), (338, 0.039794682370608576), (339, 0.12632431554982348), (340, 0.03360018091635569), (341, 0.07147446962170496), (342, 0.13416864198623582), (343, 0.042500562489299176), (344, 0.05234905893314162), (345, 0.16543155101491974), (346, 0.0), (347, 0.16743359106891448), (348, 0.014740257850441365), (349, 0.0), (350, 0.052073059324717653), (351, 0.09406388348850825), (352, 0.17635882824900417), (353, 0.1350125281176155), (354, 0.08507050845315488), (355, 0.0), (356, 0.0), (357, 0.06471572239937366), (358, 0.0724087560877406), (359, 0.05179966426281174), (360, 0.0745709034074615), (361, 0.05603409541865233), (362, 0.15303868159969272), (363, 0.006538637298810627), (364, 0.08829000383769797), (365, 0.0847093742146876), (366, 0.012206708148929019), (367, 0.16406505150625672), (368, 0.1454126177105154), (369, 0.04273775982524465), (370, 0.15611969997657396), (371, 0.03850894036023935), (372, 0.07797299224969939), (373, 0.12050402780443119), (374, 0.10271462172702495), (375, 0.016056835279566226), (376, 0.07272531346175118), (377, 0.06600886904600758), (378, 0.13947841538588876), (379, 0.07173595558324397), (380, 0.0465646292986771), (381, 0.06404249604280669), (382, 0.020977567453127725), (383, 0.10596997073683928), (384, 0.19916019636304738), (385, 0.047361597983683584), (386, 0.05233515093843501), (387, 0.042699490303418436), (388, 0.08537989022685706), (389, 0.06292931962404605), (390, 0.041801854248317366), (391, 0.07720292867895347), (392, 0.06597142196094867), (393, 0.2582648415333079), (394, 0.03894106360251827), (395, 0.1419002793710629), (396, 0.23295733957836784), (397, 0.08273590741737483), (398, 0.1062531766876806), (399, 0.010613720372725087), (400, 0.022008320067599292), (401, 0.0627188598866256), (402, 0.013848292683508998), (403, 0.09035343354593203), (404, 0.036615350417279216), (405, 0.10717239422446112), (406, 0.16602788637247315), (407, 0.10826279845064068), (408, 0.05641210369631021), (409, 0.03729204297456583), (410, 0.09283876896355164), (411, 0.060685491602575956), (412, 0.09959657793064608), (413, 0.07793084067526843), (414, 0.06637644935911705), (415, 0.05433116596898487), (416, 0.08100854250747268), (417, 0.05271664111781273), (418, 0.019384961698362378), (419, 0.0060958737827241745), (420, 0.11131023655293269), (421, 0.16143095107637198), (422, 0.21038941571656886), (423, 0.06991389738307256), (424, 0.07552364595455345), (425, 0.10147363980841016), (426, 0.09802743128311492), (427, 0.08586630014366113), (428, 0.10778567665675556), (429, 0.11544599937952638), (430, 0.23243781521306886), (431, 0.06265099744361947), (432, 0.08432979561095584), (433, 0.04817407720123293), (434, 0.039872685999242055), (435, 0.047764544767327916), (436, 0.05290715803660138), (437, 0.07221292166725271), (438, 0.03317971409952593), (439, 0.09279226041608862), (440, 0.2222106730793381), (441, 0.08945828394102884), (442, 0.06965640833504949), (443, 0.005512362693703748), (444, 0.03587422037582276), (445, 0.2624982465709615), (446, 0.15235337551315142), (447, 0.06073062984317389), (448, 0.17423922028322844), (449, 0.09472840506501999), (450, 0.0350048190289577), (451, 0.0646063606179687), (452, 0.21007767414359635), (453, 0.030867724215796512), (454, 0.03283917111914968), (455, 0.028741013828584756), (456, 0.10936617687641632), (457, 0.18146084039579552), (458, 0.03882933998306069), (459, 0.015763369379413143), (460, 0.052573696482025256), (461, 0.02779731693740186), (462, 0.044040147166682045), (463, 0.1020638353226229), (464, 0.05931555546325859), (465, 0.09577957034173075), (466, 0.05520180348083402), (467, 0.09839148312223944), (468, 0.16174503899703846), (469, 0.06535384004133202), (470, 0.0), (471, 0.0), (472, 0.27431992670219957), (473, 0.0), (474, 0.12114406084196244), (475, 0.020457948399746087), (476, 0.050492962252195905), (477, 0.023979002383395072), (478, 0.07192851788539287), (479, 0.07285182522692793), (480, 0.12343077046332748), (481, 0.08941353528112717), (482, 0.11471809222394172), (483, 0.17078891915571448), (484, 0.11747103837130972), (485, 0.07594850884250673), (486, 0.016978893854180076), (487, 0.052679901333867546), (488, 0.2478413368150518), (489, 0.0072246147184426325), (490, 0.12897434257940046), (491, 0.2707464209881089), (492, 0.04221693344654065), (493, 0.21920429112852058), (494, 0.11498754475112838), (495, 0.0657836106419147), (496, 0.05513653373659467), (497, 0.1000837396004572), (498, 0.027340695472042046), (499, 0.05491795340894223), (500, 0.13450162602066715), (501, 0.04918777727322056), (502, 0.13885280028003114), (503, 0.21224863433034732), (504, 0.045510902039832934), (505, 0.14100084209834401), (506, 0.0866321213777238), (507, 0.09626607301394968), (508, 0.14206853228629357), (509, 0.1498344591158179), (510, 0.04340901331034787), (511, 0.12355173704900008), (512, 0.044860090288957835), (513, 0.06877335562022137), (514, 0.16279739097531043), (515, 0.07541523372558583), (516, 0.07918612764254158), (517, 0.055919414199594175), (518, 0.07007417728755996), (519, 0.016542081224168587), (520, 0.01985318613761926), (521, 0.05485799584197633), (522, 0.026966568792778884), (523, 0.11387913338255379), (524, 0.055119440308849625), (525, 0.10966106036000413), (526, 0.0826705825879496), (527, 0.045611815353739454), (528, 0.09202035591499258), (529, 0.07797063460707458), (530, 0.17652739958385913), (531, 0.20109234587936267), (532, 0.2416640178588316), (533, 0.11361336936477902), (534, 0.10362133148747102), (535, 0.10931388316240812), (536, 0.11637767767972268), (537, 0.021990100481610306), (538, 0.017007077924983478), (539, 0.17002098483442007), (540, 0.0567140965792644), (541, 0.023565266544077354), (542, 0.08778088756212923), (543, 0.07651823880435878), (544, 0.09272556253325799), (545, 0.011556673827984903), (546, 0.05948012223108283), (547, 0.0993402420455897), (548, 0.23262118049558317), (549, 0.09456460086303635), (550, 0.16308633760598074), (551, 0.03602638102362692), (552, 0.12496872805227902), (553, 0.06462250008414286), (554, 0.08246544487685713), (555, 0.07204533930962977), (556, 0.046734276474871966), (557, 0.12333071190383108), (558, 0.05778233409529297), (559, 0.05553573634283858), (560, 0.0756026180479437), (561, 0.045098027692692756), (562, 0.05001841122525834), (563, 0.09129628214415537), (564, 0.10879868564067285), (565, 0.18484529385382428), (566, 0.06433712787924797), (567, 0.10806884964468212), (568, 0.0), (569, 0.15613729463230597), (570, 0.0788245554744585), (571, 0.05355419096375656), (572, 0.07780955767064145), (573, 0.048518339330935314), (574, 0.06996609236589378), (575, 0.05686746857489917), (576, 0.07366846446595371), (577, 0.047432743706747674), (578, 0.06709010720199718), (579, 0.0), (580, 0.09703975796942661), (581, 0.14576662121122436), (582, 0.13320300725678624), (583, 0.046342149323661846), (584, 0.06611219843217865), (585, 0.07670338802105481), (586, 0.027216583825931933), (587, 0.07766102893535497), (588, 0.15509072749098846), (589, 0.04726640840632479), (590, 0.01934858582083252), (591, 0.05073572710272272), (592, 0.01742948925727459), (593, 0.09447645838765675), (594, 0.021101213458248173), (595, 0.016242931799786912), (596, 0.050317711644930964), (597, 0.0), (598, 0.06886781629088665), (599, 0.05829404628933092), (600, 0.16275091801401223), (601, 0.1159194132198577), (602, 0.06535772985249157), (603, 0.06363227436155189), (604, 0.0497968013623106), (605, 0.07588672375579358), (606, 0.07345846563470823), (607, 0.24787865791781938), (608, 0.21053198612697882), (609, 0.1265783904760505), (610, 0.11054007977797822), (611, 0.20123244180478317), (612, 0.05014565901816228), (613, 0.0624534505350063), (614, 0.0792049421786186), (615, 0.10550813870828343), (616, 0.03395073936919909), (617, 0.1669785192272577), (618, 0.05763064031760222), (619, 0.1617154140536347), (620, 0.13114498957286436), (621, 0.15305756470758103), (622, 0.23375666948264964), (623, 0.11992886560471018), (624, 0.06927476262886176), (625, 0.11789538725992439), (626, 0.08784232226933786), (627, 0.05910807388423252), (628, 0.08367126342735864), (629, 0.12548081496492638), (630, 0.08877377194411556), (631, 0.10139050492891317), (632, 0.20557884662990875), (633, 0.09577882225134424), (634, 0.017858459417424644), (635, 0.03371300368159519), (636, 0.08669202890791194), (637, 0.11592404600830136), (638, 0.0), (639, 0.11700176840097333), (640, 0.1192880633449431), (641, 0.09317987905458135), (642, 0.17935525885967163), (643, 0.006175174161860909), (644, 0.0), (645, 0.10872875036250672), (646, 0.047081324689280085), (647, 0.09196321226103403), (648, 0.07603660174072428), (649, 0.042341290302775045), (650, 0.0810637952098637), (651, 0.044813617585589244), (652, 0.11691050910893386), (653, 0.29203362458479526), (654, 0.21773970342474103), (655, 0.027991686687650907), (656, 0.04158187588254839), (657, 0.018596137274510687), (658, 0.051018574689107116), (659, 0.0768249148182733), (660, 0.24288272496287422), (661, 0.053604192369644414), (662, 0.019581831669344865), (663, 0.02915502260731688), (664, 0.04582560358165759), (665, 0.06558035732037765), (666, 0.02062707525017043), (667, 0.12434347696925888), (668, 0.03455749210091727), (669, 0.16419377430046245), (670, 0.0172172142373144), (671, 0.1093598417268672), (672, 0.06016022320798896), (673, 0.05610477722647058), (674, 0.02732519214882388), (675, 0.1476838264931914), (676, 0.14214611525070578), (677, 0.020082186049944054), (678, 0.044366030047215885), (679, 0.08740032529427517), (680, 0.013442593993879901), (681, 0.097397276593852), (682, 0.08927743481040049), (683, 0.02499287234315844), (684, 0.03403570295175906), (685, 0.09070593225925647), (686, 0.05958856068552473), (687, 0.048599533482058935), (688, 0.029176082355130917), (689, 0.2659742522756448), (690, 0.018767679392333706), (691, 0.10736240483151273), (692, 0.045493915723655715), (693, 0.07036373379544339), (694, 0.0), (695, 0.0), (696, 0.08154459904745516), (697, 0.0), (698, 0.093901536215428), (699, 0.23375666948264964), (700, 0.15365937723696332), (701, 0.07459239137306996), (702, 0.05964689281064542), (703, 0.06424343141655196), (704, 0.15174438646443347), (705, 0.06102588329164374), (706, 0.08445853438966919), (707, 0.11307836380280899), (708, 0.04608458895975659), (709, 0.02942317387798476), (710, 0.0502301445067657), (711, 0.025762475102207583), (712, 0.06867384888433829), (713, 0.16923439556573155), (714, 0.15291993624234096), (715, 0.09156488853990391), (716, 0.035258059103536146), (717, 0.019708255912715494), (718, 0.07983689517856697), (719, 0.0), (720, 0.1410713497601954), (721, 0.0), (722, 0.09574722331637334), (723, 0.07939839031161584), (724, 0.015014483692706462), (725, 0.0), (726, 0.01906928039229402), (727, 0.019339879866969053), (728, 0.12985869615999343), (729, 0.08687572917903397), (730, 0.06533480160902153), (731, 0.14956374639497913), (732, 0.0270332992371144), (733, 0.08391645548234741), (734, 0.0), (735, 0.06157695885749772), (736, 0.06569132719995026), (737, 0.14144716614826108), (738, 0.05991853230871514), (739, 0.07593542122976028), (740, 0.24142854182701945), (741, 0.04331507152949181), (742, 0.08268143382833688), (743, 0.08397522405885896), (744, 0.024691367529229027), (745, 0.05851588735137479), (746, 0.11024377051264553), (747, 0.0324140576732289), (748, 0.021849753125701553), (749, 0.09412361793406478), (750, 0.03383482623033412), (751, 0.11430282544942402), (752, 0.13347934683979668), (753, 0.03328410347710467), (754, 0.27724253369163293), (755, 0.10353506065986673), (756, 0.03419826541435402), (757, 0.02131470606265161), (758, 0.015239961085949353), (759, 0.0), (760, 0.08352650482020424), (761, 0.06869797899338023), (762, 0.1250399479680304), (763, 0.02078640022185403), (764, 0.017368569749600438), (765, 0.23318469724050717), (766, 0.06601790084921817), (767, 0.06061266175275032), (768, 0.15338199664804525), (769, 0.11447997497019294), (770, 0.07225107853159284), (771, 0.11664609221262826), (772, 0.1397964920387887), (773, 0.14432907292728164), (774, 0.07957486630644756), (775, 0.4355963511937373), (776, 0.11492041167232138), (777, 0.1826680941774894), (778, 0.16485767313755), (779, 0.10872480503336494), (780, 0.0), (781, 0.052381920166471085), (782, 0.017483554765853317), (783, 0.086695907988052), (784, 0.027889080283939733), (785, 0.11317629239277849), (786, 0.04741528297625652), (787, 0.045200083091736204), (788, 0.21329303012342607), (789, 0.08703895102975855), (790, 0.018384982660265774), (791, 0.02665768671683663), (792, 0.0), (793, 0.015252115301348653), (794, 0.06603911438035492), (795, 0.0), (796, 0.056916534688716054), (797, 0.12217339713589344), (798, 0.11677414214691441), (799, 0.13336589033007504), (800, 0.02454767494960675), (801, 0.0), (802, 0.06651674601305975), (803, 0.13674564813917184), (804, 0.043180741697330556), (805, 0.01893867384955012), (806, 0.03867196977492797), (807, 0.06445722420435546), (808, 0.013330422019594616), (809, 0.07242982165013805), (810, 0.07925368643298113), (811, 0.09675804935975886), (812, 0.044366030047215885), (813, 0.16398615275038386), (814, 0.009254875470682053), (815, 0.022026693545134656), (816, 0.06262400812469995), (817, 0.0834115946984257), (818, 0.034998974950130164), (819, 0.05009958292144223), (820, 0.08848469962578585), (821, 0.05386204638221174), (822, 0.10851936142609636), (823, 0.0696035360299666), (824, 0.08585768599132076), (825, 0.03502870202374423), (826, 0.09583064302506553), (827, 0.045561609504787035), (828, 0.03447199249834544), (829, 0.08858801375621775), (830, 0.0845197369898214), (831, 0.07821150508242129), (832, 0.06724390191479654), (833, 0.09516495006273724), (834, 0.12033582999798484), (835, 0.058013607827159724), (836, 0.1043688893345144), (837, 0.056027569261197716), (838, 0.09112769350417253), (839, 0.0), (840, 0.093774535307864), (841, 0.05841549229351595), (842, 0.05421327166893822), (843, 0.00831682355711321), (844, 0.0), (845, 0.05105045209676294), (846, 0.09794825453653662), (847, 0.0), (848, 0.10012594917082031), (849, 0.03268661087428738), (850, 0.034651565891008984), (851, 0.13143283014520307), (852, 0.028111980928147207), (853, 0.017050783323204276), (854, 0.11206998797657286), (855, 0.07358575128191613), (856, 0.1751119181478893), (857, 0.16125855746048257), (858, 0.03771146678891822), (859, 0.056234158954281244), (860, 0.05858225392518327), (861, 0.04764044141688236), (862, 0.0), (863, 0.10542386925807191), (864, 0.0), (865, 0.03946912290960713), (866, 0.09591812451605124), (867, 0.0657678424680448), (868, 0.10521871979664395), (869, 0.015902029977472486), (870, 0.1667392338818117), (871, 0.017929927297002317), (872, 0.060946343705267136), (873, 0.0), (874, 0.02098519341415678), (875, 0.07072680933153955), (876, 0.12277584840595798), (877, 0.12083532282837818), (878, 0.1568327854657782), (879, 0.03286056648864406), (880, 0.04485324517082539), (881, 0.0), (882, 0.06704347903108339), (883, 0.0627267063478536), (884, 0.03358458339330713), (885, 0.11788116639335301), (886, 0.024977000522443366), (887, 0.0), (888, 0.0), (889, 0.04351648687291519), (890, 0.05226999524355031), (891, 0.052467691757119905), (892, 0.4792470243479494), (893, 0.06844034555623447), (894, 0.017084741230223494), (895, 0.09661822557324523), (896, 0.10630581677921463), (897, 0.055883559295196186), (898, 0.06259879419723074), (899, 0.10239676900470174), (900, 0.13486424701851346), (901, 0.0), (902, 0.06475275770662865), (903, 0.02802572216031356), (904, 0.05893640492564732), (905, 0.0182548910720609), (906, 0.13958563576186267), (907, 0.12918172945893586), (908, 0.027767325808756578), (909, 0.071004511548008), (910, 0.04212179574384963), (911, 0.07766933558130076), (912, 0.04479571088291412), (913, 0.044932395882352774), (914, 0.04378670155868988), (915, 0.019171262492213226), (916, 0.18252967106633178), (917, 0.07731090977080116), (918, 0.025201382948743783), (919, 0.15986676022794238), (920, 0.10909486063587887), (921, 0.0), (922, 0.044441210281441275), (923, 0.07198619698454552), (924, 0.0), (925, 0.008125933527588607), (926, 0.058773266176936866), (927, 0.029699049498114156), (928, 0.1249863215038218), (929, 0.10876298533163797), (930, 0.06572615473619793), (931, 0.11041009827139311), (932, 0.0), (933, 0.051559170419357515), (934, 0.03116774406623653), (935, 0.0), (936, 0.05409017851683206), (937, 0.03734001416989216), (938, 0.03830389749617328), (939, 0.05067217747523785), (940, 0.19013940287156839), (941, 0.03829458527113634), (942, 0.06061580427427168), (943, 0.0), (944, 0.07350353988495764), (945, 0.17506237312741488), (946, 0.07340594220235418), (947, 0.1564371814770066), (948, 0.1343336265605628), (949, 0.1139037619724523), (950, 0.017195800692736036), (951, 0.07753104240341348), (952, 0.02708085144546098), (953, 0.008131291454645959), (954, 0.09327624652250928), (955, 0.11214208854829764), (956, 0.030860475158924847), (957, 0.021845188201128345), (958, 0.04787929621961423), (959, 0.09852448456308338), (960, 0.16000726260879522), (961, 0.0730785109366039), (962, 0.0), (963, 0.09659678929978327), (964, 0.2277373999089877), (965, 0.7817918145191036), (966, 0.019944743425943868), (967, 0.0), (968, 0.10307117068642374), (969, 0.10963604094272869), (970, 0.02804114476843616), (971, 0.0), (972, 0.2018280578411064), (973, 0.04385374632371433), (974, 0.0), (975, 0.08447531743694155), (976, 0.01545488257265013), (977, 0.0), (978, 0.14531289802902897), (979, 0.2127567954065837), (980, 0.08643436956529485), (981, 0.1378597388413701), (982, 0.07218205360899296), (983, 0.1860992589302635), (984, 0.03287583731933388), (985, 0.0287204480592599), (986, 0.02366616623445568), (987, 0.04342139079569925), (988, 0.025885485702037452), (989, 0.019705579045482032), (990, 0.022885756266667008), (991, 0.14362543926609356), (992, 0.048722373690590674), (993, 0.1157881416189707), (994, 0.018179484721052432), (995, 0.12390559141823734), (996, 0.03721108529811268), (997, 0.07290471220154539), (998, 0.13901511827641108), (999, 0.14315882424859216), (1000, 0.08816194491047623), (1001, 0.03846250713510544), (1002, 0.020892990272339772), (1003, 0.011866198510043181), (1004, 0.11577962185523502), (1005, 0.04631177716707777), (1006, 0.029516093615020195), (1007, 0.06049289999632224), (1008, 0.128392823245601), (1009, 0.07411772546609999), (1010, 0.12380327556924278), (1011, 0.09611380593838577), (1012, 0.023942403313619468), (1013, 0.07524217127210994), (1014, 0.20382499063020273), (1015, 0.05969232663255749), (1016, 0.08618477573186444), (1017, 0.1676963737795253), (1018, 0.0830874312141582), (1019, 0.14854596074715534), (1020, 0.018458244369033327), (1021, 0.12713023429390938), (1022, 0.013979474989844504), (1023, 0.17640612444884762), (1024, 0.12087213215715374), (1025, 0.03399587020528648), (1026, 0.025321112073263194), (1027, 0.0), (1028, 0.02924800710733188), (1029, 0.16137235333419261), (1030, 0.16360194890051563), (1031, 0.00795608469689436), (1032, 0.0), (1033, 0.0445807462902905), (1034, 0.023816729959190135), (1035, 0.1383535910028723), (1036, 0.05367051538995139), (1037, 0.027833092483618746), (1038, 0.14449419831918162), (1039, 0.17800803129075327), (1040, 0.01855647065520738), (1041, 0.05757125406694561), (1042, 0.20223542096337396), (1043, 0.12826992507368312), (1044, 0.1979539672079955), (1045, 0.13886556320271914), (1046, 0.059167348103104214), (1047, 0.07608964956820657), (1048, 0.023750586391900738), (1049, 0.019736264603380703), (1050, 0.06738445189873815), (1051, 0.03063878945190824), (1052, 0.06314537684207201), (1053, 0.020210283809696417), (1054, 0.1547732453618324), (1055, 0.09261076796304417), (1056, 0.0), (1057, 0.06624146848490084), (1058, 0.024536320549126803), (1059, 0.02603950383249114), (1060, 0.03352108367928658), (1061, 0.08463574474485294), (1062, 0.022824175663550085), (1063, 0.046380337311275485), (1064, 0.14247644574612123), (1065, 0.05094884711278936), (1066, 0.21554699898789417), (1067, 0.143344773004424), (1068, 0.11532014320315176), (1069, 0.12840061479342443), (1070, 0.13527921448205263), (1071, 0.021624533174110876), (1072, 0.04922017345170484), (1073, 0.017097932410622456), (1074, 0.3003425761925309), (1075, 0.1853892772540508), (1076, 0.12090446982957495), (1077, 0.12646016053409312), (1078, 0.10247217683187658), (1079, 0.07255211569117687), (1080, 0.009868204536005502), (1081, 0.09804072669397176), (1082, 0.11566081771587676), (1083, 0.029255441158318934), (1084, 0.012702825650787756), (1085, 0.11950778328673911), (1086, 0.06087917711861182), (1087, 0.057960493088144605), (1088, 0.05243894782885996), (1089, 0.044035841827996636), (1090, 0.027592237140762536), (1091, 0.04132423815092491), (1092, 0.23041117998838856), (1093, 0.3652719555549098), (1094, 0.03929512070460494), (1095, 0.02310270816264885), (1096, 0.0), (1097, 1.0), (1098, 0.05016434550700463), (1099, 0.0), (1100, 0.09534610655526299), (1101, 0.057116858590044436), (1102, 0.05623327997673832), (1103, 0.09758814310211132), (1104, 0.01579565467067512), (1105, 0.024229117729631766), (1106, 0.03493785188206919), (1107, 0.15493420530586138), (1108, 0.06276646831825988), (1109, 0.0), (1110, 0.07496252596234303), (1111, 0.0332957367138391), (1112, 0.05904411271028051), (1113, 0.06045367987852771), (1114, 0.1424000443057224), (1115, 0.030296315447411022), (1116, 0.03607824006930466), (1117, 0.07856837749601958), (1118, 0.03629885217655031), (1119, 0.04050906785573023), (1120, 0.026422101678479297), (1121, 0.10606431442568333), (1122, 0.02841650180421068), (1123, 0.10384849221226411), (1124, 0.014062132466209108), (1125, 0.012234248853274633), (1126, 0.06452518536491511), (1127, 0.061334711765429865), (1128, 0.06149472372061633), (1129, 0.1411366078570707), (1130, 0.04058066824274967), (1131, 0.09098436739044585), (1132, 0.05689152686381527), (1133, 0.09277484895553183), (1134, 0.03581556126944961), (1135, 0.14479221813701673), (1136, 0.05167118020092792), (1137, 0.1509178090709216), (1138, 0.07104062044007604), (1139, 0.023965611816796316), (1140, 0.05680227937785505), (1141, 0.025812603711884766), (1142, 0.0639018284282273), (1143, 0.03333588321758959), (1144, 0.0), (1145, 0.013326936400239008), (1146, 0.0), (1147, 0.04400365015238235), (1148, 0.06429811315000404), (1149, 0.13259838881398217), (1150, 0.04544457830771331), (1151, 0.10909293321375856), (1152, 0.10839967308622957), (1153, 0.08802027767471952), (1154, 0.06280521096684676), (1155, 0.0), (1156, 0.11470449040747069), (1157, 0.03985137625955705), (1158, 0.059054691851109106), (1159, 0.044496594191354905), (1160, 0.0839478148015735), (1161, 0.05348068874357985), (1162, 0.0966445437975156), (1163, 0.013448077508953956), (1164, 0.03448253254205419), (1165, 0.10640784040350476), (1166, 0.08419954065538124), (1167, 0.06778758288239779), (1168, 0.027260411373866138), (1169, 0.02625848039542851), (1170, 0.150514952998783), (1171, 0.08792173559425392), (1172, 0.18710465598513704), (1173, 0.030685004332323747), (1174, 0.07755301118627123), (1175, 0.018298763301150454), (1176, 0.058313910892426934), (1177, 0.054182771781574976), (1178, 0.15655793635856396), (1179, 0.05265102768955665), (1180, 0.01841616287247908), (1181, 0.06037977341485004), (1182, 0.021634403901400475), (1183, 0.032303141182165485), (1184, 0.06833181525056509), (1185, 0.10349382967773187), (1186, 0.0), (1187, 0.0), (1188, 0.012028993856966274), (1189, 0.0), (1190, 0.19671044340877672), (1191, 0.0), (1192, 0.024699009340267756), (1193, 0.0), (1194, 0.16369669479818486), (1195, 0.05516322058524374), (1196, 0.21346129893089755), (1197, 0.03169223363961529), (1198, 0.27521005132579485), (1199, 0.022224120417287302), (1200, 0.14906049631070895), (1201, 0.023709788125209363), (1202, 0.04824159737027859), (1203, 0.042915887942903706), (1204, 0.044027495549632444), (1205, 0.10882468048241022), (1206, 0.14068676181417833), (1207, 0.044339275061342866), (1208, 0.18877987500895962), (1209, 0.02920522396946407), (1210, 0.11599282549910996), (1211, 0.11069634003958775), (1212, 0.08703148988811525), (1213, 0.07123422236972102), (1214, 0.07535432476994267), (1215, 0.1717482573409534), (1216, 0.07026531165052624), (1217, 0.015657193295385865), (1218, 0.027726732943208425), (1219, 0.09159224913323516), (1220, 0.05441256424125418), (1221, 0.20954490872621664), (1222, 0.08820604975232535), (1223, 0.04072690019740487), (1224, 0.09971682833859073), (1225, 0.1762816556058295), (1226, 0.006356856694416232), (1227, 0.05883338246579067), (1228, 0.042704847764368455), (1229, 0.005109871037320633), (1230, 0.05929564580459858), (1231, 0.11355968264764771), (1232, 0.054080988164670614), (1233, 0.03824945726028557), (1234, 0.041746667180832316), (1235, 0.13271986685562337), (1236, 0.1146857688750009), (1237, 0.0781849932939798), (1238, 0.00676626218761347), (1239, 0.21404989759193171), (1240, 0.0999643363526231), (1241, 0.019788265741076883), (1242, 0.09525585438974453), (1243, 0.11166709980889968), (1244, 0.04115714034497995), (1245, 0.020955979753281003), (1246, 0.036295217294171), (1247, 0.07188442350534688), (1248, 0.03203126541676516), (1249, 0.20930804495830183), (1250, 0.09940489592250329), (1251, 0.03346770896822575), (1252, 0.019199398017221696), (1253, 0.10463388306266054), (1254, 0.05068659072128541), (1255, 0.2896453277339307), (1256, 0.26491902829185066), (1257, 0.0), (1258, 0.03763554748150085), (1259, 0.07600957455133403), (1260, 0.028762427526584654), (1261, 0.10180402568693137), (1262, 0.0069823817963698435), (1263, 0.038111722790579075), (1264, 0.07926512104285961), (1265, 0.027920091783704748), (1266, 0.0), (1267, 0.08737528364693602), (1268, 0.1244062487857348), (1269, 0.08995668058419327), (1270, 0.07039676970693827), (1271, 0.0), (1272, 0.0), (1273, 0.021773298094472995), (1274, 0.07163408394255125), (1275, 0.0), (1276, 0.04414768774029633), (1277, 0.04484908795805156), (1278, 0.023724705605579686), (1279, 0.10194486693289678), (1280, 0.1026898783711112), (1281, 0.15367450597773544), (1282, 0.11637556514870796), (1283, 0.02855212323719796), (1284, 0.17220532769790675), (1285, 0.11914429651295873), (1286, 0.0749279723561443), (1287, 0.2113320102358791), (1288, 0.11986266193107545), (1289, 0.09664278455173166), (1290, 0.16610545036555655), (1291, 0.026965099093623143), (1292, 0.03984829092536496), (1293, 0.05110744549273871), (1294, 0.0), (1295, 0.10368385643786131), (1296, 0.05392035159603647), (1297, 0.15454427039474566), (1298, 0.020428992716653382), (1299, 0.059450065297154374), (1300, 0.04571054859522276), (1301, 0.09939277785095074), (1302, 0.24857013807043776), (1303, 0.17784729522491352), (1304, 0.11172752377757005), (1305, 0.12983112370899405), (1306, 0.02146077729649607), (1307, 0.07187348026030049), (1308, 0.05893666228426028), (1309, 0.03964498988330285), (1310, 0.19639364831585068), (1311, 0.08020447078719588), (1312, 0.04839261969896336), (1313, 0.050228866344612516), (1314, 0.17047272374853936), (1315, 0.17436929933868628), (1316, 0.0722907316865831), (1317, 0.014273810421544457), (1318, 0.1202301371351018), (1319, 0.10852769695365551), (1320, 0.05926448267404148), (1321, 0.10710413375157157), (1322, 0.10113875081925479), (1323, 0.12674256483176607), (1324, 0.025423204761420203), (1325, 0.1053040479461578), (1326, 0.06849306321970501), (1327, 0.0471522564407388), (1328, 0.1249257375659629), (1329, 0.07960375787462487), (1330, 0.1738300726599473), (1331, 0.05552164025679819), (1332, 0.025383951820443), (1333, 0.02832362499920555), (1334, 0.1487387346908883), (1335, 0.08565036141973778), (1336, 0.15362035657257167), (1337, 0.021426610660114438), (1338, 0.057210744253173906), (1339, 0.05884188866253544), (1340, 0.0), (1341, 0.16637200233939087), (1342, 0.18914931839753815), (1343, 0.1038807299308149), (1344, 0.07409426968258359), (1345, 0.047197728066095644), (1346, 0.1617404531028082), (1347, 0.07451821300609127), (1348, 0.05981465366492654), (1349, 0.12099619798430612), (1350, 0.03921444705836652), (1351, 0.14049432206727203), (1352, 0.11449673776842487), (1353, 0.14497835686433724), (1354, 0.0), (1355, 0.014189591359266018), (1356, 0.14155260212188406), (1357, 0.0), (1358, 0.12184401112154929), (1359, 0.03298808697428642), (1360, 0.12763124679778637), (1361, 0.15622479485716298), (1362, 0.02069618904865119), (1363, 0.09110605871659114), (1364, 0.04049843569937671), (1365, 0.13355821932208006), (1366, 0.23000205050838513), (1367, 0.045069488752807266), (1368, 0.12339870508951525), (1369, 0.12393956206849886), (1370, 0.17914796333907773), (1371, 0.026105569438105256), (1372, 0.19815496156675874), (1373, 0.11000830232847791), (1374, 0.08163276182631972), (1375, 0.06678438349890468), (1376, 0.03920050591032752), (1377, 0.10047368594360419), (1378, 0.13369835074255043), (1379, 0.08738622066163547)]\n"
     ]
    }
   ],
   "source": [
    "# getting a list of similar recipe\n",
    "similarity_score = list(enumerate(similarity[index_of_the_recipe]))\n",
    "print(similarity_score)"
   ]
  },
  {
   "cell_type": "code",
   "execution_count": 45,
   "id": "f0f7b42e",
   "metadata": {},
   "outputs": [
    {
     "data": {
      "text/plain": [
       "1380"
      ]
     },
     "execution_count": 45,
     "metadata": {},
     "output_type": "execute_result"
    }
   ],
   "source": [
    "len(similarity_score)"
   ]
  },
  {
   "cell_type": "code",
   "execution_count": 46,
   "id": "88525997",
   "metadata": {},
   "outputs": [
    {
     "name": "stdout",
     "output_type": "stream",
     "text": [
      "[(1097, 1.0), (965, 0.7817918145191036), (892, 0.4792470243479494), (775, 0.4355963511937373), (1093, 0.3652719555549098), (265, 0.31868864244195516), (1074, 0.3003425761925309), (653, 0.29203362458479526), (305, 0.2916807290082687), (1255, 0.2896453277339307), (60, 0.2810414956302987), (65, 0.2802216180241514), (754, 0.27724253369163293), (1198, 0.27521005132579485), (472, 0.27431992670219957), (491, 0.2707464209881089), (689, 0.2659742522756448), (1256, 0.26491902829185066), (445, 0.2624982465709615), (173, 0.26165114025273306), (393, 0.2582648415333079), (28, 0.2507219305834903), (1302, 0.24857013807043776), (607, 0.24787865791781938), (488, 0.2478413368150518), (140, 0.24749973055573393), (660, 0.24288272496287422), (532, 0.2416640178588316), (740, 0.24142854182701945), (188, 0.23684295735875582), (287, 0.23509341904086264), (622, 0.23375666948264964), (699, 0.23375666948264964), (765, 0.23318469724050717), (396, 0.23295733957836784), (548, 0.23262118049558317), (430, 0.23243781521306886), (1092, 0.23041117998838856), (1366, 0.23000205050838513), (964, 0.2277373999089877), (440, 0.2222106730793381), (493, 0.21920429112852058), (654, 0.21773970342474103), (31, 0.2170836221586472), (98, 0.21643253292384046), (1066, 0.21554699898789417), (1239, 0.21404989759193171), (1196, 0.21346129893089755), (788, 0.21329303012342607), (979, 0.2127567954065837), (503, 0.21224863433034732), (1287, 0.2113320102358791), (228, 0.21099658443050026), (608, 0.21053198612697882), (99, 0.21050502848221014), (422, 0.21038941571656886), (452, 0.21007767414359635), (1221, 0.20954490872621664), (275, 0.20951284910794396), (322, 0.20946512002010334), (1249, 0.20930804495830183), (230, 0.20802801847716107), (158, 0.20770700487952387), (632, 0.20557884662990875), (1014, 0.20382499063020273), (1042, 0.20223542096337396), (972, 0.2018280578411064), (611, 0.20123244180478317), (531, 0.20109234587936267), (199, 0.2000569672338512), (384, 0.19916019636304738), (1372, 0.19815496156675874), (1044, 0.1979539672079955), (1190, 0.19671044340877672), (1310, 0.19639364831585068), (940, 0.19013940287156839), (1342, 0.18914931839753815), (1208, 0.18877987500895962), (1172, 0.18710465598513704), (983, 0.1860992589302635), (1075, 0.1853892772540508), (565, 0.18484529385382428), (777, 0.1826680941774894), (916, 0.18252967106633178), (457, 0.18146084039579552), (217, 0.18121157130124232), (642, 0.17935525885967163), (1370, 0.17914796333907773), (74, 0.17869492882033045), (299, 0.1784902788562514), (1039, 0.17800803129075327), (1303, 0.17784729522491352), (530, 0.17652739958385913), (1023, 0.17640612444884762), (352, 0.17635882824900417), (1225, 0.1762816556058295), (856, 0.1751119181478893), (945, 0.17506237312741488), (1315, 0.17436929933868628), (448, 0.17423922028322844), (1330, 0.1738300726599473), (235, 0.1729469533173604), (201, 0.17282743269517098), (1284, 0.17220532769790675), (1215, 0.1717482573409534), (256, 0.17167862294124533), (17, 0.1712264095279842), (483, 0.17078891915571448), (1314, 0.17047272374853936), (539, 0.17002098483442007), (713, 0.16923439556573155), (1017, 0.1676963737795253), (347, 0.16743359106891448), (317, 0.16708470014270665), (617, 0.1669785192272577), (870, 0.1667392338818117), (1341, 0.16637200233939087), (1290, 0.16610545036555655), (406, 0.16602788637247315), (345, 0.16543155101491974), (50, 0.1649865171877099), (778, 0.16485767313755), (174, 0.16474862678960123), (669, 0.16419377430046245), (367, 0.16406505150625672), (76, 0.1640454872912004), (813, 0.16398615275038386), (1194, 0.16369669479818486), (1030, 0.16360194890051563), (550, 0.16308633760598074), (514, 0.16279739097531043), (600, 0.16275091801401223), (67, 0.1626817134951088), (468, 0.16174503899703846), (1346, 0.1617404531028082), (619, 0.1617154140536347), (106, 0.1616440189142725), (421, 0.16143095107637198), (1029, 0.16137235333419261), (857, 0.16125855746048257), (48, 0.16031886244441856), (960, 0.16000726260879522), (919, 0.15986676022794238), (171, 0.15852747944807039), (310, 0.15741081914313293), (878, 0.1568327854657782), (1178, 0.15655793635856396), (947, 0.1564371814770066), (1361, 0.15622479485716298), (569, 0.15613729463230597), (370, 0.15611969997657396), (588, 0.15509072749098846), (1107, 0.15493420530586138), (1054, 0.1547732453618324), (1297, 0.15454427039474566), (180, 0.15406759565985068), (1281, 0.15367450597773544), (700, 0.15365937723696332), (1336, 0.15362035657257167), (768, 0.15338199664804525), (621, 0.15305756470758103), (362, 0.15303868159969272), (714, 0.15291993624234096), (446, 0.15235337551315142), (75, 0.15231061697957396), (224, 0.15202252680096975), (704, 0.15174438646443347), (1137, 0.1509178090709216), (1170, 0.150514952998783), (72, 0.14993665377546445), (252, 0.14988800239267666), (509, 0.1498344591158179), (731, 0.14956374639497913), (1200, 0.14906049631070895), (1334, 0.1487387346908883), (1019, 0.14854596074715534), (14, 0.14826140594863746), (194, 0.14798306135122238), (19, 0.14793842708633803), (675, 0.1476838264931914), (62, 0.14717559037908048), (291, 0.1460610587002229), (122, 0.14584126740681516), (581, 0.14576662121122436), (368, 0.1454126177105154), (978, 0.14531289802902897), (1353, 0.14497835686433724), (1135, 0.14479221813701673), (109, 0.1444977934641747), (1038, 0.14449419831918162), (773, 0.14432907292728164), (205, 0.14387044567637397), (335, 0.14364941630035677), (991, 0.14362543926609356), (1067, 0.143344773004424), (999, 0.14315882424859216), (1064, 0.14247644574612123), (1114, 0.1424000443057224), (119, 0.1422487412206245), (676, 0.14214611525070578), (508, 0.14206853228629357), (395, 0.1419002793710629), (297, 0.14189785336200275), (1356, 0.14155260212188406), (737, 0.14144716614826108), (1129, 0.1411366078570707), (720, 0.1410713497601954), (505, 0.14100084209834401), (1206, 0.14068676181417833), (1351, 0.14049432206727203), (5, 0.14006635638272685), (772, 0.1397964920387887), (906, 0.13958563576186267), (378, 0.13947841538588876), (998, 0.13901511827641108), (1045, 0.13886556320271914), (502, 0.13885280028003114), (1035, 0.1383535910028723), (981, 0.1378597388413701), (329, 0.13732869638392586), (803, 0.13674564813917184), (293, 0.1358173287541906), (139, 0.13551214457642768), (1070, 0.13527921448205263), (353, 0.1350125281176155), (900, 0.13486424701851346), (43, 0.13453581783662794), (500, 0.13450162602066715), (948, 0.1343336265605628), (342, 0.13416864198623582), (1378, 0.13369835074255043), (1365, 0.13355821932208006), (752, 0.13347934683979668), (257, 0.13342641200839414), (799, 0.13336589033007504), (582, 0.13320300725678624), (296, 0.1331467634098059), (56, 0.13295640010221133), (13, 0.13276756532306763), (1235, 0.13271986685562337), (1149, 0.13259838881398217), (250, 0.1319238823910878), (851, 0.13143283014520307), (620, 0.13114498957286436), (307, 0.13051316544916552), (225, 0.1299178622025499), (728, 0.12985869615999343), (1305, 0.12983112370899405), (49, 0.12923380353438824), (907, 0.12918172945893586), (490, 0.12897434257940046), (169, 0.12897402364428506), (196, 0.12843986289166437), (1069, 0.12840061479342443), (1008, 0.128392823245601), (1043, 0.12826992507368312), (118, 0.12799584980872053), (83, 0.12798828080557187), (1360, 0.12763124679778637), (51, 0.12725950802529137), (1021, 0.12713023429390938), (1323, 0.12674256483176607), (609, 0.1265783904760505), (1077, 0.12646016053409312), (339, 0.12632431554982348), (331, 0.12559137221030395), (629, 0.12548081496492638), (193, 0.12530134565218395), (762, 0.1250399479680304), (928, 0.1249863215038218), (552, 0.12496872805227902), (1328, 0.1249257375659629), (220, 0.12454266285093879), (268, 0.12441093811988914), (1268, 0.1244062487857348), (71, 0.12438914587690574), (667, 0.12434347696925888), (112, 0.12431603484148304), (79, 0.12411002734962287), (1369, 0.12393956206849886), (995, 0.12390559141823734), (40, 0.12383720956160363), (1010, 0.12380327556924278), (151, 0.1236578779077544), (511, 0.12355173704900008), (480, 0.12343077046332748), (1368, 0.12339870508951525), (557, 0.12333071190383108), (284, 0.12298875595832978), (212, 0.12297563305731547), (300, 0.12282861599479487), (876, 0.12277584840595798), (797, 0.12217339713589344), (1358, 0.12184401112154929), (222, 0.12161730607585432), (294, 0.1212247719191831), (474, 0.12114406084196244), (1349, 0.12099619798430612), (1076, 0.12090446982957495), (16, 0.12089720879131842), (1024, 0.12087213215715374), (877, 0.12083532282837818), (373, 0.12050402780443119), (834, 0.12033582999798484), (210, 0.1203234343253671), (1318, 0.1202301371351018), (121, 0.12015318906099133), (0, 0.12006401968911395), (111, 0.12001816615427756), (623, 0.11992886560471018), (1288, 0.11986266193107545), (1085, 0.11950778328673911), (640, 0.1192880633449431), (232, 0.1192258007276023), (1285, 0.11914429651295873), (295, 0.11870765158828808), (81, 0.11824179801165148), (206, 0.11804886221467008), (625, 0.11789538725992439), (885, 0.11788116639335301), (191, 0.11782102424184263), (484, 0.11747103837130972), (639, 0.11700176840097333), (652, 0.11691050910893386), (267, 0.11677903456609492), (798, 0.11677414214691441), (771, 0.11664609221262826), (23, 0.11642348148701229), (15, 0.11638522330806893), (536, 0.11637767767972268), (1282, 0.11637556514870796), (1210, 0.11599282549910996), (637, 0.11592404600830136), (601, 0.1159194132198577), (993, 0.1157881416189707), (1004, 0.11577962185523502), (1082, 0.11566081771587676), (429, 0.11544599937952638), (1068, 0.11532014320315176), (234, 0.11503452754642611), (494, 0.11498754475112838), (776, 0.11492041167232138), (482, 0.11471809222394172), (1156, 0.11470449040747069), (1236, 0.1146857688750009), (1352, 0.11449673776842487), (769, 0.11447997497019294), (751, 0.11430282544942402), (949, 0.1139037619724523), (523, 0.11387913338255379), (533, 0.11361336936477902), (1231, 0.11355968264764771), (8, 0.11340563287484236), (266, 0.11321094060507245), (785, 0.11317629239277849), (707, 0.11307836380280899), (308, 0.1126695101330296), (955, 0.11214208854829764), (854, 0.11206998797657286), (1304, 0.11172752377757005), (1243, 0.11166709980889968), (420, 0.11131023655293269), (32, 0.11099881434761276), (1211, 0.11069634003958775), (610, 0.11054007977797822), (226, 0.11042486959843059), (931, 0.11041009827139311), (258, 0.11038775532745854), (746, 0.11024377051264553), (328, 0.11021346800741554), (1373, 0.11000830232847791), (218, 0.10987788245981422), (525, 0.10966106036000413), (969, 0.10963604094272869), (456, 0.10936617687641632), (671, 0.1093598417268672), (535, 0.10931388316240812), (170, 0.10922335751744187), (134, 0.10918350321133678), (920, 0.10909486063587887), (1151, 0.10909293321375856), (147, 0.10883679808345786), (1205, 0.10882468048241022), (564, 0.10879868564067285), (929, 0.10876298533163797), (645, 0.10872875036250672), (779, 0.10872480503336494), (1319, 0.10852769695365551), (822, 0.10851936142609636), (1152, 0.10839967308622957), (35, 0.10833003789875016), (281, 0.10829488486356637), (407, 0.10826279845064068), (567, 0.10806884964468212), (428, 0.10778567665675556), (183, 0.10761199595765378), (691, 0.10736240483151273), (405, 0.10717239422446112), (1321, 0.10710413375157157), (1165, 0.10640784040350476), (896, 0.10630581677921463), (90, 0.10629174268511482), (398, 0.1062531766876806), (200, 0.10624529326610888), (1121, 0.10606431442568333), (383, 0.10596997073683928), (319, 0.10572750930205163), (264, 0.1056099500070107), (615, 0.10550813870828343), (863, 0.10542386925807191), (177, 0.10539355830515304), (1325, 0.1053040479461578), (868, 0.10521871979664395), (276, 0.10489592109046719), (1253, 0.10463388306266054), (836, 0.1043688893345144), (57, 0.10407621240582138), (1343, 0.1038807299308149), (1123, 0.10384849221226411), (1295, 0.10368385643786131), (534, 0.10362133148747102), (755, 0.10353506065986673), (1185, 0.10349382967773187), (52, 0.10340872296804807), (246, 0.10308235089530135), (968, 0.10307117068642374), (374, 0.10271462172702495), (1280, 0.1026898783711112), (1078, 0.10247217683187658), (899, 0.10239676900470174), (463, 0.1020638353226229), (1279, 0.10194486693289678), (1261, 0.10180402568693137), (242, 0.10156839397574938), (425, 0.10147363980841016), (631, 0.10139050492891317), (271, 0.10135510015057048), (1322, 0.10113875081925479), (1377, 0.10047368594360419), (848, 0.10012594917082031), (497, 0.1000837396004572), (1240, 0.0999643363526231), (1224, 0.09971682833859073), (412, 0.09959657793064608), (1250, 0.09940489592250329), (1301, 0.09939277785095074), (547, 0.0993402420455897), (156, 0.09878475081546428), (959, 0.09852448456308338), (467, 0.09839148312223944), (142, 0.09817264745586485), (1081, 0.09804072669397176), (426, 0.09802743128311492), (167, 0.09802448388624724), (846, 0.09794825453653662), (165, 0.09782512568567947), (1103, 0.09758814310211132), (681, 0.097397276593852), (239, 0.0970818621483358), (580, 0.09703975796942661), (318, 0.0968452814403509), (327, 0.09683824553315365), (811, 0.09675804935975886), (100, 0.09665412640497587), (1162, 0.0966445437975156), (1289, 0.09664278455173166), (895, 0.09661822557324523), (963, 0.09659678929978327), (137, 0.09645860781317234), (507, 0.09626607301394968), (1011, 0.09611380593838577), (2, 0.09606428269788428), (315, 0.09599587990000079), (866, 0.09591812451605124), (826, 0.09583064302506553), (301, 0.09582969879173503), (465, 0.09577957034173075), (633, 0.09577882225134424), (722, 0.09574722331637334), (298, 0.09574302032173572), (1100, 0.09534610655526299), (1242, 0.09525585438974453), (241, 0.09520098291549209), (833, 0.09516495006273724), (274, 0.09478038709774153), (449, 0.09472840506501999), (549, 0.09456460086303635), (593, 0.09447645838765675), (66, 0.0942607401961551), (749, 0.09412361793406478), (178, 0.0941184522560175), (351, 0.09406388348850825), (698, 0.093901536215428), (840, 0.093774535307864), (954, 0.09327624652250928), (641, 0.09317987905458135), (168, 0.09315504615436908), (229, 0.09303053414129593), (221, 0.09285414606623857), (410, 0.09283876896355164), (439, 0.09279226041608862), (1133, 0.09277484895553183), (544, 0.09272556253325799), (1055, 0.09261076796304417), (528, 0.09202035591499258), (70, 0.09200131743686125), (647, 0.09196321226103403), (1219, 0.09159224913323516), (715, 0.09156488853990391), (117, 0.09153872762267985), (563, 0.09129628214415537), (838, 0.09112769350417253), (1363, 0.09110605871659114), (1131, 0.09098436739044585), (685, 0.09070593225925647), (160, 0.09069189468906827), (403, 0.09035343354593203), (1269, 0.08995668058419327), (333, 0.0894929177139814), (441, 0.08945828394102884), (249, 0.08943606649954611), (481, 0.08941353528112717), (682, 0.08927743481040049), (289, 0.0888676407749062), (630, 0.08877377194411556), (829, 0.08858801375621775), (820, 0.08848469962578585), (37, 0.08840076229111989), (364, 0.08829000383769797), (104, 0.08820634881530251), (1222, 0.08820604975232535), (1000, 0.08816194491047623), (1153, 0.08802027767471952), (1171, 0.08792173559425392), (626, 0.08784232226933786), (542, 0.08778088756212923), (123, 0.08776842590758055), (97, 0.08768888783517993), (198, 0.08741545545496801), (679, 0.08740032529427517), (1379, 0.08738622066163547), (1267, 0.08737528364693602), (309, 0.08717938353951246), (789, 0.08703895102975855), (1212, 0.08703148988811525), (729, 0.08687572917903397), (783, 0.086695907988052), (636, 0.08669202890791194), (93, 0.08666837165134525), (506, 0.0866321213777238), (101, 0.08662268173485155), (25, 0.08645888325828009), (980, 0.08643436956529485), (1016, 0.08618477573186444), (427, 0.08586630014366113), (824, 0.08585768599132076), (1335, 0.08565036141973778), (388, 0.08537989022685706), (354, 0.08507050845315488), (290, 0.08506944255632859), (365, 0.0847093742146876), (1061, 0.08463574474485294), (830, 0.0845197369898214), (975, 0.08447531743694155), (706, 0.08445853438966919), (432, 0.08432979561095584), (1166, 0.08419954065538124), (743, 0.08397522405885896), (1160, 0.0839478148015735), (733, 0.08391645548234741), (9, 0.08387425737863055), (628, 0.08367126342735864), (760, 0.08352650482020424), (817, 0.0834115946984257), (144, 0.08319249287289483), (1018, 0.0830874312141582), (127, 0.08305445435812452), (397, 0.08273590741737483), (742, 0.08268143382833688), (526, 0.0826705825879496), (324, 0.08246760030826716), (554, 0.08246544487685713), (94, 0.08234655578897625), (306, 0.0822759307991571), (154, 0.08201015311726641), (1374, 0.08163276182631972), (279, 0.08154590273659537), (696, 0.08154459904745516), (269, 0.08137111648046012), (161, 0.08115904534325216), (248, 0.08106776032947198), (650, 0.0810637952098637), (416, 0.08100854250747268), (12, 0.0805397951843783), (1311, 0.08020447078719588), (718, 0.07983689517856697), (203, 0.07971929665918936), (1329, 0.07960375787462487), (774, 0.07957486630644756), (723, 0.07939839031161584), (1264, 0.07926512104285961), (810, 0.07925368643298113), (614, 0.0792049421786186), (516, 0.07918612764254158), (141, 0.07916741241626038), (202, 0.07912773235266533), (570, 0.0788245554744585), (1117, 0.07856837749601958), (831, 0.07821150508242129), (1237, 0.0781849932939798), (372, 0.07797299224969939), (529, 0.07797063460707458), (413, 0.07793084067526843), (572, 0.07780955767064145), (911, 0.07766933558130076), (587, 0.07766102893535497), (133, 0.0776476937695691), (1174, 0.07755301118627123), (951, 0.07753104240341348), (917, 0.07731090977080116), (391, 0.07720292867895347), (659, 0.0768249148182733), (21, 0.07673312625736653), (585, 0.07670338802105481), (162, 0.07661574713688579), (45, 0.07657840256855512), (543, 0.07651823880435878), (108, 0.07642651805587918), (311, 0.07634661359116635), (260, 0.0762970169373422), (77, 0.07629571292032687), (1047, 0.07608964956820657), (648, 0.07603660174072428), (1259, 0.07600957455133403), (485, 0.07594850884250673), (739, 0.07593542122976028), (605, 0.07588672375579358), (181, 0.07564443570450353), (560, 0.0756026180479437), (424, 0.07552364595455345), (515, 0.07541523372558583), (176, 0.07537600127773894), (1214, 0.07535432476994267), (277, 0.07532500253912457), (1013, 0.07524217127210994), (1110, 0.07496252596234303), (1286, 0.0749279723561443), (701, 0.07459239137306996), (360, 0.0745709034074615), (1347, 0.07451821300609127), (46, 0.07431612895097538), (1009, 0.07411772546609999), (1344, 0.07409426968258359), (576, 0.07366846446595371), (855, 0.07358575128191613), (944, 0.07350353988495764), (606, 0.07345846563470823), (946, 0.07340594220235418), (961, 0.0730785109366039), (105, 0.07297719778534052), (997, 0.07290471220154539), (479, 0.07285182522692793), (376, 0.07272531346175118), (1079, 0.07255211569117687), (809, 0.07242982165013805), (358, 0.0724087560877406), (1316, 0.0722907316865831), (770, 0.07225107853159284), (437, 0.07221292166725271), (125, 0.07219408540683911), (982, 0.07218205360899296), (555, 0.07204533930962977), (923, 0.07198619698454552), (478, 0.07192851788539287), (85, 0.07191172605753077), (1247, 0.07188442350534688), (1307, 0.07187348026030049), (379, 0.07173595558324397), (270, 0.07166220141850502), (1274, 0.07163408394255125), (341, 0.07147446962170496), (1213, 0.07123422236972102), (323, 0.07108783334945445), (1138, 0.07104062044007604), (909, 0.071004511548008), (138, 0.07099393990726542), (875, 0.07072680933153955), (55, 0.07067788261130635), (114, 0.07046257576315539), (1270, 0.07039676970693827), (693, 0.07036373379544339), (1216, 0.07026531165052624), (518, 0.07007417728755996), (69, 0.07006371717649253), (574, 0.06996609236589378), (423, 0.06991389738307256), (102, 0.06982430986252963), (442, 0.06965640833504949), (823, 0.0696035360299666), (624, 0.06927476262886176), (80, 0.06893145039011085), (110, 0.06887283603493323), (598, 0.06886781629088665), (513, 0.06877335562022137), (87, 0.06876581683158635), (761, 0.06869797899338023), (213, 0.06869765009396601), (712, 0.06867384888433829), (223, 0.06855260463218318), (1326, 0.06849306321970501), (893, 0.06844034555623447), (1184, 0.06833181525056509), (1167, 0.06778758288239779), (1050, 0.06738445189873815), (832, 0.06724390191479654), (578, 0.06709010720199718), (882, 0.06704347903108339), (116, 0.06700381064183077), (157, 0.06687915015434955), (82, 0.06683262774561644), (1375, 0.06678438349890468), (143, 0.06670036665304765), (240, 0.06668483376311202), (802, 0.06651674601305975), (414, 0.06637644935911705), (1057, 0.06624146848490084), (584, 0.06611219843217865), (794, 0.06603911438035492), (766, 0.06601790084921817), (377, 0.06600886904600758), (392, 0.06597142196094867), (44, 0.06593776120705686), (495, 0.0657836106419147), (867, 0.0657678424680448), (930, 0.06572615473619793), (736, 0.06569132719995026), (665, 0.06558035732037765), (602, 0.06535772985249157), (469, 0.06535384004133202), (730, 0.06533480160902153), (30, 0.0651576649280668), (215, 0.06508426246279861), (902, 0.06475275770662865), (227, 0.06475215660149192), (357, 0.06471572239937366), (553, 0.06462250008414286), (451, 0.0646063606179687), (1126, 0.06452518536491511), (807, 0.06445722420435546), (566, 0.06433712787924797), (1148, 0.06429811315000404), (703, 0.06424343141655196), (381, 0.06404249604280669), (1142, 0.0639018284282273), (254, 0.06381088518149906), (603, 0.06363227436155189), (1052, 0.06314537684207201), (389, 0.06292931962404605), (1154, 0.06280521096684676), (1108, 0.06276646831825988), (883, 0.0627267063478536), (401, 0.0627188598866256), (431, 0.06265099744361947), (816, 0.06262400812469995), (898, 0.06259879419723074), (96, 0.06249699802704748), (613, 0.0624534505350063), (280, 0.062305161296679984), (231, 0.06198975549107944), (20, 0.06198764108630862), (735, 0.06157695885749772), (1128, 0.06149472372061633), (334, 0.06133777202624555), (1127, 0.061334711765429865), (705, 0.06102588329164374), (872, 0.060946343705267136), (1086, 0.06087917711861182), (190, 0.0607587134101585), (447, 0.06073062984317389), (411, 0.060685491602575956), (942, 0.06061580427427168), (767, 0.06061266175275032), (1007, 0.06049289999632224), (1113, 0.06045367987852771), (1181, 0.06037977341485004), (321, 0.060364444323347095), (261, 0.06036181328522159), (672, 0.06016022320798896), (738, 0.05991853230871514), (10, 0.0599022307453435), (211, 0.05989733873662981), (1348, 0.05981465366492654), (1015, 0.05969232663255749), (702, 0.05964689281064542), (686, 0.05958856068552473), (546, 0.05948012223108283), (1299, 0.059450065297154374), (464, 0.05931555546325859), (1230, 0.05929564580459858), (1320, 0.05926448267404148), (1046, 0.059167348103104214), (627, 0.05910807388423252), (1158, 0.059054691851109106), (1112, 0.05904411271028051), (4, 0.058989802171716954), (1308, 0.05893666228426028), (904, 0.05893640492564732), (1339, 0.05884188866253544), (1227, 0.05883338246579067), (926, 0.058773266176936866), (145, 0.058753046393915806), (860, 0.05858225392518327), (745, 0.05851588735137479), (841, 0.05841549229351595), (244, 0.05839705585963767), (1176, 0.058313910892426934), (599, 0.05829404628933092), (185, 0.05817446876905484), (835, 0.058013607827159724), (1087, 0.057960493088144605), (59, 0.05783585448405342), (558, 0.05778233409529297), (303, 0.05775793100330729), (618, 0.05763064031760222), (1041, 0.05757125406694561), (214, 0.05737416156109894), (1338, 0.057210744253173906), (243, 0.05715528132185176), (1101, 0.057116858590044436), (796, 0.056916534688716054), (89, 0.056908177489606464), (1132, 0.05689152686381527), (575, 0.05686746857489917), (1140, 0.05680227937785505), (195, 0.05673522051657306), (540, 0.0567140965792644), (408, 0.05641210369631021), (255, 0.05639020773576467), (859, 0.056234158954281244), (1102, 0.05623327997673832), (673, 0.05610477722647058), (361, 0.05603409541865233), (837, 0.056027569261197716), (517, 0.055919414199594175), (897, 0.055883559295196186), (238, 0.055567869888043034), (559, 0.05553573634283858), (1331, 0.05552164025679819), (466, 0.05520180348083402), (1195, 0.05516322058524374), (496, 0.05513653373659467), (524, 0.055119440308849625), (150, 0.054954063631076064), (499, 0.05491795340894223), (521, 0.05485799584197633), (1220, 0.05441256424125418), (415, 0.05433116596898487), (842, 0.05421327166893822), (1177, 0.054182771781574976), (936, 0.05409017851683206), (1232, 0.054080988164670614), (53, 0.05400209452215307), (26, 0.05393899271202851), (1296, 0.05392035159603647), (821, 0.05386204638221174), (1036, 0.05367051538995139), (166, 0.05365761822989048), (661, 0.053604192369644414), (571, 0.05355419096375656), (1161, 0.05348068874357985), (436, 0.05290715803660138), (124, 0.05285532827055655), (146, 0.05275130463371195), (417, 0.05271664111781273), (487, 0.052679901333867546), (1179, 0.05265102768955665), (460, 0.052573696482025256), (891, 0.052467691757119905), (1088, 0.05243894782885996), (781, 0.052381920166471085), (344, 0.05234905893314162), (386, 0.05233515093843501), (890, 0.05226999524355031), (350, 0.052073059324717653), (47, 0.05201407600484518), (359, 0.05179966426281174), (1136, 0.05167118020092792), (330, 0.051577704088776585), (933, 0.051559170419357515), (149, 0.05139076634182909), (236, 0.051318273357417836), (1293, 0.05110744549273871), (845, 0.05105045209676294), (251, 0.05103208660608074), (658, 0.051018574689107116), (1065, 0.05094884711278936), (591, 0.05073572710272272), (1254, 0.05068659072128541), (939, 0.05067217747523785), (64, 0.05060252414241123), (476, 0.050492962252195905), (61, 0.0503389674351476), (596, 0.050317711644930964), (710, 0.0502301445067657), (1313, 0.050228866344612516), (1098, 0.05016434550700463), (612, 0.05014565901816228), (819, 0.05009958292144223), (562, 0.05001841122525834), (604, 0.0497968013623106), (1072, 0.04922017345170484), (259, 0.049189797191749735), (501, 0.04918777727322056), (115, 0.04875350984338844), (24, 0.04873101747339345), (992, 0.048722373690590674), (687, 0.048599533482058935), (573, 0.048518339330935314), (1312, 0.04839261969896336), (1202, 0.04824159737027859), (131, 0.048220706616643176), (433, 0.04817407720123293), (73, 0.04812772652375856), (245, 0.04793364616212203), (958, 0.04787929621961423), (435, 0.047764544767327916), (861, 0.04764044141688236), (209, 0.04763452911518189), (577, 0.047432743706747674), (786, 0.04741528297625652), (233, 0.04738236694045581), (385, 0.047361597983683584), (589, 0.04726640840632479), (1345, 0.047197728066095644), (1327, 0.0471522564407388), (646, 0.047081324689280085), (186, 0.046851068780009233), (556, 0.046734276474871966), (380, 0.0465646292986771), (1063, 0.046380337311275485), (583, 0.046342149323661846), (1005, 0.04631177716707777), (708, 0.04608458895975659), (664, 0.04582560358165759), (1300, 0.04571054859522276), (42, 0.04562563632694642), (527, 0.045611815353739454), (827, 0.045561609504787035), (504, 0.045510902039832934), (692, 0.045493915723655715), (1150, 0.04544457830771331), (787, 0.045200083091736204), (561, 0.045098027692692756), (1367, 0.045069488752807266), (913, 0.044932395882352774), (512, 0.044860090288957835), (880, 0.04485324517082539), (1277, 0.04484908795805156), (651, 0.044813617585589244), (912, 0.04479571088291412), (1033, 0.0445807462902905), (1159, 0.044496594191354905), (922, 0.044441210281441275), (678, 0.044366030047215885), (812, 0.044366030047215885), (1207, 0.044339275061342866), (278, 0.044258256969906394), (326, 0.04418432282455483), (1276, 0.04414768774029633), (462, 0.044040147166682045), (1089, 0.044035841827996636), (208, 0.04403455273452266), (1204, 0.044027495549632444), (1147, 0.04400365015238235), (973, 0.04385374632371433), (914, 0.04378670155868988), (889, 0.04351648687291519), (987, 0.04342139079569925), (510, 0.04340901331034787), (741, 0.04331507152949181), (159, 0.0432514755921971), (804, 0.043180741697330556), (1203, 0.042915887942903706), (316, 0.04288276725585956), (369, 0.04273775982524465), (1228, 0.042704847764368455), (302, 0.04270050919289279), (387, 0.042699490303418436), (313, 0.04269302999217858), (343, 0.042500562489299176), (314, 0.0423809315414597), (649, 0.042341290302775045), (492, 0.04221693344654065), (86, 0.04218948503710361), (910, 0.04212179574384963), (390, 0.041801854248317366), (1234, 0.041746667180832316), (656, 0.04158187588254839), (283, 0.04152423017073372), (292, 0.04133239574122013), (1091, 0.04132423815092491), (58, 0.04123001221938464), (253, 0.04119577914200033), (1244, 0.04115714034497995), (1223, 0.04072690019740487), (1130, 0.04058066824274967), (1119, 0.04050906785573023), (1364, 0.04049843569937671), (148, 0.040235638529977004), (155, 0.04011863366839276), (434, 0.039872685999242055), (1157, 0.03985137625955705), (1292, 0.03984829092536496), (1, 0.03982101260874494), (338, 0.039794682370608576), (1309, 0.03964498988330285), (865, 0.03946912290960713), (1094, 0.03929512070460494), (1350, 0.03921444705836652), (1376, 0.03920050591032752), (332, 0.03903060246956226), (394, 0.03894106360251827), (36, 0.03887477952822859), (458, 0.03882933998306069), (806, 0.03867196977492797), (371, 0.03850894036023935), (1001, 0.03846250713510544), (938, 0.03830389749617328), (941, 0.03829458527113634), (1233, 0.03824945726028557), (1263, 0.038111722790579075), (337, 0.038086898491362105), (179, 0.03800556668918526), (187, 0.03772133784448808), (858, 0.03771146678891822), (1258, 0.03763554748150085), (88, 0.037467608104746905), (937, 0.03734001416989216), (409, 0.03729204297456583), (996, 0.03721108529811268), (153, 0.036962376271147394), (404, 0.036615350417279216), (126, 0.03653391013257663), (1118, 0.03629885217655031), (1246, 0.036295217294171), (1116, 0.03607824006930466), (551, 0.03602638102362692), (444, 0.03587422037582276), (1134, 0.03581556126944961), (38, 0.03546630373145182), (27, 0.03540581170596117), (716, 0.035258059103536146), (825, 0.03502870202374423), (450, 0.0350048190289577), (818, 0.034998974950130164), (1106, 0.03493785188206919), (850, 0.034651565891008984), (668, 0.03455749210091727), (184, 0.03448660030245257), (1164, 0.03448253254205419), (828, 0.03447199249834544), (756, 0.03419826541435402), (7, 0.03409843531188253), (684, 0.03403570295175906), (68, 0.03399782151186837), (1025, 0.03399587020528648), (616, 0.03395073936919909), (750, 0.03383482623033412), (635, 0.03371300368159519), (340, 0.03360018091635569), (884, 0.03358458339330713), (18, 0.03357346554173134), (1060, 0.03352108367928658), (1251, 0.03346770896822575), (1143, 0.03333588321758959), (1111, 0.0332957367138391), (753, 0.03328410347710467), (438, 0.03317971409952593), (1359, 0.03298808697428642), (984, 0.03287583731933388), (879, 0.03286056648864406), (454, 0.03283917111914968), (849, 0.03268661087428738), (747, 0.0324140576732289), (132, 0.032346291980941196), (1183, 0.032303141182165485), (107, 0.032234813582657444), (172, 0.03221050397481383), (175, 0.03218162695998954), (1248, 0.03203126541676516), (1197, 0.03169223363961529), (934, 0.03116774406623653), (453, 0.030867724215796512), (956, 0.030860475158924847), (1173, 0.030685004332323747), (1051, 0.03063878945190824), (1115, 0.030296315447411022), (285, 0.030136256798529274), (63, 0.03006924733001749), (204, 0.029791768739822668), (927, 0.029699049498114156), (1006, 0.029516093615020195), (709, 0.02942317387798476), (1083, 0.029255441158318934), (1028, 0.02924800710733188), (1209, 0.02920522396946407), (688, 0.029176082355130917), (663, 0.02915502260731688), (325, 0.028949996985562842), (1260, 0.028762427526584654), (455, 0.028741013828584756), (985, 0.0287204480592599), (286, 0.028637910562926732), (1283, 0.02855212323719796), (1122, 0.02841650180421068), (182, 0.028377993658214955), (1333, 0.02832362499920555), (852, 0.028111980928147207), (970, 0.02804114476843616), (903, 0.02802572216031356), (655, 0.027991686687650907), (1265, 0.027920091783704748), (784, 0.027889080283939733), (1037, 0.027833092483618746), (461, 0.02779731693740186), (908, 0.027767325808756578), (1218, 0.027726732943208425), (1090, 0.027592237140762536), (304, 0.02758475009252603), (6, 0.02749360597606991), (498, 0.027340695472042046), (674, 0.02732519214882388), (1168, 0.027260411373866138), (586, 0.027216583825931933), (952, 0.02708085144546098), (732, 0.0270332992371144), (522, 0.026966568792778884), (1291, 0.026965099093623143), (791, 0.02665768671683663), (1120, 0.026422101678479297), (1169, 0.02625848039542851), (1371, 0.026105569438105256), (1059, 0.02603950383249114), (988, 0.025885485702037452), (1141, 0.025812603711884766), (711, 0.025762475102207583), (29, 0.025548922662097934), (1324, 0.025423204761420203), (1332, 0.025383951820443), (1026, 0.025321112073263194), (918, 0.025201382948743783), (683, 0.02499287234315844), (886, 0.024977000522443366), (78, 0.024916647192202046), (136, 0.024804432077009622), (1192, 0.024699009340267756), (744, 0.024691367529229027), (800, 0.02454767494960675), (1058, 0.024536320549126803), (1105, 0.024229117729631766), (477, 0.023979002383395072), (1139, 0.023965611816796316), (1012, 0.023942403313619468), (1034, 0.023816729959190135), (1048, 0.023750586391900738), (1278, 0.023724705605579686), (1201, 0.023709788125209363), (219, 0.02369952062433975), (986, 0.02366616623445568), (288, 0.0235980278835127), (541, 0.023565266544077354), (189, 0.02352461133422966), (1095, 0.02310270816264885), (990, 0.022885756266667008), (1062, 0.022824175663550085), (129, 0.022784266716385015), (92, 0.022624418969834588), (262, 0.022614247223122934), (1199, 0.022224120417287302), (815, 0.022026693545134656), (400, 0.022008320067599292), (537, 0.021990100481610306), (748, 0.021849753125701553), (957, 0.021845188201128345), (1273, 0.021773298094472995), (1182, 0.021634403901400475), (1071, 0.021624533174110876), (1306, 0.02146077729649607), (1337, 0.021426610660114438), (757, 0.02131470606265161), (594, 0.021101213458248173), (874, 0.02098519341415678), (382, 0.020977567453127725), (1245, 0.020955979753281003), (336, 0.020939416984227584), (1002, 0.020892990272339772), (763, 0.02078640022185403), (237, 0.02075146059673765), (1362, 0.02069618904865119), (666, 0.02062707525017043), (475, 0.020457948399746087), (1298, 0.020428992716653382), (1053, 0.020210283809696417), (677, 0.020082186049944054), (966, 0.019944743425943868), (520, 0.01985318613761926), (1241, 0.019788265741076883), (1049, 0.019736264603380703), (717, 0.019708255912715494), (989, 0.019705579045482032), (662, 0.019581831669344865), (418, 0.019384961698362378), (590, 0.01934858582083252), (727, 0.019339879866969053), (1252, 0.019199398017221696), (915, 0.019171262492213226), (128, 0.019150612487066863), (726, 0.01906928039229402), (197, 0.019008363424513522), (805, 0.01893867384955012), (690, 0.018767679392333706), (657, 0.018596137274510687), (1040, 0.01855647065520738), (1020, 0.018458244369033327), (1180, 0.01841616287247908), (790, 0.018384982660265774), (1175, 0.018298763301150454), (905, 0.0182548910720609), (994, 0.018179484721052432), (871, 0.017929927297002317), (634, 0.017858459417424644), (163, 0.01772264828786548), (91, 0.017515839411997386), (782, 0.017483554765853317), (592, 0.01742948925727459), (764, 0.017368569749600438), (670, 0.0172172142373144), (950, 0.017195800692736036), (1073, 0.017097932410622456), (894, 0.017084741230223494), (853, 0.017050783323204276), (538, 0.017007077924983478), (486, 0.016978893854180076), (519, 0.016542081224168587), (595, 0.016242931799786912), (375, 0.016056835279566226), (869, 0.015902029977472486), (1104, 0.01579565467067512), (459, 0.015763369379413143), (1217, 0.015657193295385865), (976, 0.01545488257265013), (793, 0.015252115301348653), (758, 0.015239961085949353), (113, 0.0152217465551693), (724, 0.015014483692706462), (348, 0.014740257850441365), (1317, 0.014273810421544457), (312, 0.014259446910697464), (1355, 0.014189591359266018), (272, 0.014165706316217726), (1124, 0.014062132466209108), (1022, 0.013979474989844504), (84, 0.013877350039575525), (402, 0.013848292683508998), (1163, 0.013448077508953956), (680, 0.013442593993879901), (808, 0.013330422019594616), (1145, 0.013326936400239008), (1084, 0.012702825650787756), (1125, 0.012234248853274633), (366, 0.012206708148929019), (1188, 0.012028993856966274), (1003, 0.011866198510043181), (545, 0.011556673827984903), (135, 0.010801833870880222), (11, 0.010672199123573346), (399, 0.010613720372725087), (1080, 0.009868204536005502), (814, 0.009254875470682053), (843, 0.00831682355711321), (953, 0.008131291454645959), (925, 0.008125933527588607), (1031, 0.00795608469689436), (247, 0.007260085430940141), (489, 0.0072246147184426325), (216, 0.007040650427495464), (1262, 0.0069823817963698435), (1238, 0.00676626218761347), (363, 0.006538637298810627), (1226, 0.006356856694416232), (643, 0.006175174161860909), (419, 0.0060958737827241745), (33, 0.005845615371015288), (192, 0.005746673348102478), (443, 0.005512362693703748), (1229, 0.005109871037320633), (3, 0.0), (22, 0.0), (34, 0.0), (39, 0.0), (41, 0.0), (54, 0.0), (95, 0.0), (103, 0.0), (120, 0.0), (130, 0.0), (152, 0.0), (164, 0.0), (207, 0.0), (263, 0.0), (273, 0.0), (282, 0.0), (320, 0.0), (346, 0.0), (349, 0.0), (355, 0.0), (356, 0.0), (470, 0.0), (471, 0.0), (473, 0.0), (568, 0.0), (579, 0.0), (597, 0.0), (638, 0.0), (644, 0.0), (694, 0.0), (695, 0.0), (697, 0.0), (719, 0.0), (721, 0.0), (725, 0.0), (734, 0.0), (759, 0.0), (780, 0.0), (792, 0.0), (795, 0.0), (801, 0.0), (839, 0.0), (844, 0.0), (847, 0.0), (862, 0.0), (864, 0.0), (873, 0.0), (881, 0.0), (887, 0.0), (888, 0.0), (901, 0.0), (921, 0.0), (924, 0.0), (932, 0.0), (935, 0.0), (943, 0.0), (962, 0.0), (967, 0.0), (971, 0.0), (974, 0.0), (977, 0.0), (1027, 0.0), (1032, 0.0), (1056, 0.0), (1096, 0.0), (1099, 0.0), (1109, 0.0), (1144, 0.0), (1146, 0.0), (1155, 0.0), (1186, 0.0), (1187, 0.0), (1189, 0.0), (1191, 0.0), (1193, 0.0), (1257, 0.0), (1266, 0.0), (1271, 0.0), (1272, 0.0), (1275, 0.0), (1294, 0.0), (1340, 0.0), (1354, 0.0), (1357, 0.0)]\n"
     ]
    }
   ],
   "source": [
    "# sorting the recipe based on their similarity score\n",
    "sorted_similar_recipe = sorted(similarity_score, key = lambda x:x[1], reverse = True) \n",
    "print(sorted_similar_recipe)"
   ]
  },
  {
   "cell_type": "code",
   "execution_count": 47,
   "id": "298409c6",
   "metadata": {},
   "outputs": [
    {
     "name": "stdout",
     "output_type": "stream",
     "text": [
      "Recipe suggested for you : \n",
      "\n",
      "1 . Chicken Piccata\n",
      "2 . Flounder Piccata\n",
      "3 . Chicken Francese - Lightened Up\n",
      "4 . Flounder Milanese with Arugula and Tomatoes\n",
      "5 . Lighter Chicken Saltimbocca \n",
      "6 . Chicken Marsala Meatballs\n",
      "7 . Greek Turkey Meatballs\n",
      "8 . Chicken Ropa Vieja\n",
      "9 . Skillet Lemon Chicken with Olives and Herbs\n",
      "10 . Chicken Divan, Lightened Up\n"
     ]
    }
   ],
   "source": [
    "# print the name of similar recipe based on the index\n",
    "print('Recipe suggested for you : \\n')\n",
    "i = 1\n",
    "for recipe in sorted_similar_recipe:\n",
    "  index = recipe[0]\n",
    "  title_from_index = recipes_data[recipes_data.index==index]['recipe_name'].values[0]\n",
    "  if (i<11):\n",
    "    print(i, '.',title_from_index)\n",
    "    i+=1"
   ]
  },
  {
   "cell_type": "markdown",
   "id": "159e0b2c",
   "metadata": {},
   "source": [
    "# Recipe Recommendation System"
   ]
  },
  {
   "cell_type": "code",
   "execution_count": 48,
   "id": "e9a00396",
   "metadata": {},
   "outputs": [
    {
     "name": "stdout",
     "output_type": "stream",
     "text": [
      "Enter your ingredients : Banana\n",
      "Recipe suggested for you : \n",
      "\n",
      "1 . Baked Bananas\n",
      "2 . Bali Banana Date Smoothie\n",
      "3 . Baked Pears with Walnuts and Honey\n",
      "4 . Banana Nut Pancakes\n",
      "5 . Strawberry Rhubarb Baked Oatmeal\n",
      "6 . Chewy Low Fat Banana Nut Oatmeal Cookies\n",
      "7 . 4-Ingredient Flourless Banana-Nut Pancakes\n",
      "8 . Skinny Green Tropical Smoothie\n",
      "9 . Piña Banana Colada Smoothie\n",
      "10 . Blueberry Banana Oatmeal Smoothie\n"
     ]
    }
   ],
   "source": [
    "# getting the ingredients from the user\n",
    "ingred = input('Enter your ingredients : ')\n",
    "\n",
    "# creating a list with all the recipe names given in the dataset\n",
    "list_of_all_recipe = recipes_data['recipe_name'].tolist()\n",
    "\n",
    "# finding the close match for the recipe given by the user\n",
    "find_close_match = difflib.get_close_matches(ingred, list_of_all_recipe, 3, 0.1)\n",
    "close_match = find_close_match[0]\n",
    "\n",
    "# finding the index of the recipe with ingredient\n",
    "index_of_the_recipe = recipes_data[recipes_data.recipe_name == close_match]['index'].values[0]\n",
    "\n",
    "# getting a list of similar recipe\n",
    "similarity_score = list(enumerate(similarity[index_of_the_recipe]))\n",
    "len(similarity_score)\n",
    "\n",
    "# sorting the recipe based on their similarity score\n",
    "sorted_similar_recipe = sorted(similarity_score, key = lambda x:x[1], reverse = True)\n",
    "\n",
    "# print the name of similar recipe based on the index\n",
    "print('Recipe suggested for you : \\n')\n",
    "i = 1\n",
    "for recipe in sorted_similar_recipe:\n",
    "  index = recipe[0]\n",
    "  title_from_index = recipes_data[recipes_data.index==index]['recipe_name'].values[0]\n",
    "  if (i<11):\n",
    "    print(i, \".\", title_from_index)\n",
    "    i+=1"
   ]
  },
  {
   "cell_type": "markdown",
   "id": "1fe6178c",
   "metadata": {},
   "source": [
    "# Save"
   ]
  },
  {
   "cell_type": "code",
   "execution_count": 49,
   "id": "67002837",
   "metadata": {},
   "outputs": [],
   "source": [
    "# Save dataframe\n",
    "pickle.dump(recipes_data.to_dict(), open('recipes_dict.pkl', 'wb'))"
   ]
  },
  {
   "cell_type": "code",
   "execution_count": 50,
   "id": "0193ea13",
   "metadata": {},
   "outputs": [],
   "source": [
    "# Save similarity\n",
    "pickle.dump(similarity, open('similarity.pkl', 'wb'))"
   ]
  }
 ],
 "metadata": {
  "kernelspec": {
   "display_name": "Python 3 (ipykernel)",
   "language": "python",
   "name": "python3"
  },
  "language_info": {
   "codemirror_mode": {
    "name": "ipython",
    "version": 3
   },
   "file_extension": ".py",
   "mimetype": "text/x-python",
   "name": "python",
   "nbconvert_exporter": "python",
   "pygments_lexer": "ipython3",
   "version": "3.9.7"
  }
 },
 "nbformat": 4,
 "nbformat_minor": 5
}
